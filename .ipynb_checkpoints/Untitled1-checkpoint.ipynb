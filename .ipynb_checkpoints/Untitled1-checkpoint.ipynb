{
 "cells": [
  {
   "cell_type": "code",
   "execution_count": 52,
   "metadata": {
    "collapsed": false
   },
   "outputs": [],
   "source": [
    "import numpy as np\n",
    "import pandas as pd\n",
    "from sklearn.metrics.pairwise import distance_metrics\n",
    "\n",
    "x = np.array([[1, 3, 8], [4, 6, 2]])\n",
    "y = np.array([[2, 4, 1], [7, 8, 3]])\n",
    "z = distance_metrics"
   ]
  },
  {
   "cell_type": "code",
   "execution_count": 36,
   "metadata": {
    "collapsed": false
   },
   "outputs": [
    {
     "data": {
      "text/plain": [
       "(2, 3)"
      ]
     },
     "execution_count": 36,
     "metadata": {},
     "output_type": "execute_result"
    }
   ],
   "source": [
    "x.shape"
   ]
  },
  {
   "cell_type": "code",
   "execution_count": 37,
   "metadata": {
    "collapsed": false
   },
   "outputs": [],
   "source": [
    "z = distance_metrics()['euclidean'](x, y)"
   ]
  },
  {
   "cell_type": "code",
   "execution_count": 41,
   "metadata": {
    "collapsed": false
   },
   "outputs": [
    {
     "data": {
      "text/plain": [
       "array([0, 0])"
      ]
     },
     "execution_count": 41,
     "metadata": {},
     "output_type": "execute_result"
    }
   ],
   "source": [
    "z.argmin(axis=1)"
   ]
  },
  {
   "cell_type": "code",
   "execution_count": 32,
   "metadata": {
    "collapsed": false
   },
   "outputs": [
    {
     "data": {
      "text/plain": [
       "2"
      ]
     },
     "execution_count": 32,
     "metadata": {},
     "output_type": "execute_result"
    }
   ],
   "source": [
    "y.argmin()"
   ]
  },
  {
   "cell_type": "code",
   "execution_count": 44,
   "metadata": {
    "collapsed": false
   },
   "outputs": [
    {
     "data": {
      "text/plain": [
       "10"
      ]
     },
     "execution_count": 44,
     "metadata": {},
     "output_type": "execute_result"
    }
   ],
   "source": [
    "np.trace(y)"
   ]
  },
  {
   "cell_type": "code",
   "execution_count": 48,
   "metadata": {
    "collapsed": true
   },
   "outputs": [],
   "source": [
    "k = np.empty([5])"
   ]
  },
  {
   "cell_type": "code",
   "execution_count": 50,
   "metadata": {
    "collapsed": false
   },
   "outputs": [
    {
     "name": "stdout",
     "output_type": "stream",
     "text": [
      "False\n"
     ]
    }
   ],
   "source": [
    "print k.all()"
   ]
  },
  {
   "cell_type": "code",
   "execution_count": 100,
   "metadata": {
    "collapsed": false
   },
   "outputs": [
    {
     "data": {
      "text/html": [
       "<div>\n",
       "<table border=\"1\" class=\"dataframe\">\n",
       "  <thead>\n",
       "    <tr style=\"text-align: right;\">\n",
       "      <th></th>\n",
       "      <th>basketball</th>\n",
       "      <th>football</th>\n",
       "      <th>soccer</th>\n",
       "      <th>softball</th>\n",
       "      <th>volleyball</th>\n",
       "      <th>swimming</th>\n",
       "      <th>cheerleading</th>\n",
       "      <th>baseball</th>\n",
       "      <th>tennis</th>\n",
       "      <th>sports</th>\n",
       "      <th>...</th>\n",
       "      <th>blonde</th>\n",
       "      <th>mall</th>\n",
       "      <th>shopping</th>\n",
       "      <th>clothes</th>\n",
       "      <th>hollister</th>\n",
       "      <th>abercrombie</th>\n",
       "      <th>die</th>\n",
       "      <th>death</th>\n",
       "      <th>drunk</th>\n",
       "      <th>drugs</th>\n",
       "    </tr>\n",
       "  </thead>\n",
       "  <tbody>\n",
       "    <tr>\n",
       "      <th>0</th>\n",
       "      <td>-0.412835</td>\n",
       "      <td>-0.507107</td>\n",
       "      <td>-0.264788</td>\n",
       "      <td>-0.294609</td>\n",
       "      <td>-0.349509</td>\n",
       "      <td>-0.502846</td>\n",
       "      <td>-0.403092</td>\n",
       "      <td>-0.385504</td>\n",
       "      <td>-0.326787</td>\n",
       "      <td>-0.630717</td>\n",
       "      <td>...</td>\n",
       "      <td>-0.026224</td>\n",
       "      <td>-0.531663</td>\n",
       "      <td>-0.672712</td>\n",
       "      <td>-0.664761</td>\n",
       "      <td>-0.580983</td>\n",
       "      <td>-0.654713</td>\n",
       "      <td>-0.472027</td>\n",
       "      <td>-0.598737</td>\n",
       "      <td>-0.552206</td>\n",
       "      <td>-0.506205</td>\n",
       "    </tr>\n",
       "    <tr>\n",
       "      <th>1</th>\n",
       "      <td>-0.412835</td>\n",
       "      <td>1.502830</td>\n",
       "      <td>-0.264788</td>\n",
       "      <td>-0.294609</td>\n",
       "      <td>-0.349509</td>\n",
       "      <td>-0.502846</td>\n",
       "      <td>-0.403092</td>\n",
       "      <td>-0.385504</td>\n",
       "      <td>-0.326787</td>\n",
       "      <td>-0.630717</td>\n",
       "      <td>...</td>\n",
       "      <td>-0.026224</td>\n",
       "      <td>1.534117</td>\n",
       "      <td>-0.672712</td>\n",
       "      <td>-0.664761</td>\n",
       "      <td>-0.580983</td>\n",
       "      <td>-0.654713</td>\n",
       "      <td>-0.472027</td>\n",
       "      <td>-0.598737</td>\n",
       "      <td>-0.552206</td>\n",
       "      <td>-0.506205</td>\n",
       "    </tr>\n",
       "    <tr>\n",
       "      <th>2</th>\n",
       "      <td>-0.412835</td>\n",
       "      <td>1.502830</td>\n",
       "      <td>-0.264788</td>\n",
       "      <td>-0.294609</td>\n",
       "      <td>-0.349509</td>\n",
       "      <td>-0.502846</td>\n",
       "      <td>-0.403092</td>\n",
       "      <td>-0.385504</td>\n",
       "      <td>-0.326787</td>\n",
       "      <td>-0.630717</td>\n",
       "      <td>...</td>\n",
       "      <td>-0.026224</td>\n",
       "      <td>-0.531663</td>\n",
       "      <td>-0.672712</td>\n",
       "      <td>-0.664761</td>\n",
       "      <td>-0.580983</td>\n",
       "      <td>-0.654713</td>\n",
       "      <td>-0.472027</td>\n",
       "      <td>4.642616</td>\n",
       "      <td>-0.552206</td>\n",
       "      <td>-0.506205</td>\n",
       "    </tr>\n",
       "    <tr>\n",
       "      <th>3</th>\n",
       "      <td>-0.412835</td>\n",
       "      <td>-0.507107</td>\n",
       "      <td>-0.264788</td>\n",
       "      <td>-0.294609</td>\n",
       "      <td>-0.349509</td>\n",
       "      <td>-0.502846</td>\n",
       "      <td>-0.403092</td>\n",
       "      <td>-0.385504</td>\n",
       "      <td>-0.326787</td>\n",
       "      <td>-0.630717</td>\n",
       "      <td>...</td>\n",
       "      <td>-0.026224</td>\n",
       "      <td>-0.531663</td>\n",
       "      <td>-0.672712</td>\n",
       "      <td>-0.664761</td>\n",
       "      <td>-0.580983</td>\n",
       "      <td>-0.654713</td>\n",
       "      <td>-0.472027</td>\n",
       "      <td>-0.598737</td>\n",
       "      <td>-0.552206</td>\n",
       "      <td>-0.506205</td>\n",
       "    </tr>\n",
       "    <tr>\n",
       "      <th>4</th>\n",
       "      <td>-0.412835</td>\n",
       "      <td>-0.507107</td>\n",
       "      <td>-0.264788</td>\n",
       "      <td>-0.294609</td>\n",
       "      <td>-0.349509</td>\n",
       "      <td>-0.502846</td>\n",
       "      <td>-0.403092</td>\n",
       "      <td>-0.385504</td>\n",
       "      <td>-0.326787</td>\n",
       "      <td>-0.630717</td>\n",
       "      <td>...</td>\n",
       "      <td>-0.026224</td>\n",
       "      <td>-0.531663</td>\n",
       "      <td>3.138686</td>\n",
       "      <td>-0.664761</td>\n",
       "      <td>-0.580983</td>\n",
       "      <td>-0.654713</td>\n",
       "      <td>-0.472027</td>\n",
       "      <td>-0.598737</td>\n",
       "      <td>5.725238</td>\n",
       "      <td>7.870048</td>\n",
       "    </tr>\n",
       "  </tbody>\n",
       "</table>\n",
       "<p>5 rows × 36 columns</p>\n",
       "</div>"
      ],
      "text/plain": [
       "   basketball  football    soccer  softball  volleyball  swimming  \\\n",
       "0   -0.412835 -0.507107 -0.264788 -0.294609   -0.349509 -0.502846   \n",
       "1   -0.412835  1.502830 -0.264788 -0.294609   -0.349509 -0.502846   \n",
       "2   -0.412835  1.502830 -0.264788 -0.294609   -0.349509 -0.502846   \n",
       "3   -0.412835 -0.507107 -0.264788 -0.294609   -0.349509 -0.502846   \n",
       "4   -0.412835 -0.507107 -0.264788 -0.294609   -0.349509 -0.502846   \n",
       "\n",
       "   cheerleading  baseball    tennis    sports    ...       blonde      mall  \\\n",
       "0     -0.403092 -0.385504 -0.326787 -0.630717    ...    -0.026224 -0.531663   \n",
       "1     -0.403092 -0.385504 -0.326787 -0.630717    ...    -0.026224  1.534117   \n",
       "2     -0.403092 -0.385504 -0.326787 -0.630717    ...    -0.026224 -0.531663   \n",
       "3     -0.403092 -0.385504 -0.326787 -0.630717    ...    -0.026224 -0.531663   \n",
       "4     -0.403092 -0.385504 -0.326787 -0.630717    ...    -0.026224 -0.531663   \n",
       "\n",
       "   shopping   clothes  hollister  abercrombie       die     death     drunk  \\\n",
       "0 -0.672712 -0.664761  -0.580983    -0.654713 -0.472027 -0.598737 -0.552206   \n",
       "1 -0.672712 -0.664761  -0.580983    -0.654713 -0.472027 -0.598737 -0.552206   \n",
       "2 -0.672712 -0.664761  -0.580983    -0.654713 -0.472027  4.642616 -0.552206   \n",
       "3 -0.672712 -0.664761  -0.580983    -0.654713 -0.472027 -0.598737 -0.552206   \n",
       "4  3.138686 -0.664761  -0.580983    -0.654713 -0.472027 -0.598737  5.725238   \n",
       "\n",
       "      drugs  \n",
       "0 -0.506205  \n",
       "1 -0.506205  \n",
       "2 -0.506205  \n",
       "3 -0.506205  \n",
       "4  7.870048  \n",
       "\n",
       "[5 rows x 36 columns]"
      ]
     },
     "execution_count": 100,
     "metadata": {},
     "output_type": "execute_result"
    }
   ],
   "source": [
    "df_sns = pd.read_csv('snsdata.csv', sep=',')\n",
    "trash, data = df_sns.iloc[:, :4], df_sns.iloc[:, 4:]\n",
    "df = pd.DataFrame(data)\n",
    "#df_norm = (df - df.mean()).div(df.std())\n",
    "for column in df.columns:\n",
    "    df_norm.loc[:,column] = (df[column] - df[column].mean())/\\\n",
    "    df[column].var()\n",
    "df_norm.head()"
   ]
  },
  {
   "cell_type": "code",
   "execution_count": 67,
   "metadata": {
    "collapsed": false
   },
   "outputs": [
    {
     "data": {
      "text/plain": [
       "basketball       24\n",
       "football         15\n",
       "soccer           27\n",
       "softball         17\n",
       "volleyball       14\n",
       "swimming         31\n",
       "cheerleading      9\n",
       "baseball         16\n",
       "tennis           15\n",
       "sports           12\n",
       "cute             18\n",
       "sex             114\n",
       "sexy             18\n",
       "hot              10\n",
       "kissed           26\n",
       "dance            30\n",
       "band             66\n",
       "marching         11\n",
       "music            64\n",
       "rock             21\n",
       "god              79\n",
       "church           44\n",
       "jesus            30\n",
       "bible            11\n",
       "hair             37\n",
       "dress             9\n",
       "blonde          327\n",
       "mall             12\n",
       "shopping         11\n",
       "clothes           8\n",
       "hollister         9\n",
       "abercrombie       8\n",
       "die              22\n",
       "death            14\n",
       "drunk             8\n",
       "drugs            16\n",
       "dtype: int64"
      ]
     },
     "execution_count": 67,
     "metadata": {},
     "output_type": "execute_result"
    }
   ],
   "source": [
    "df.max()"
   ]
  },
  {
   "cell_type": "code",
   "execution_count": 61,
   "metadata": {
    "collapsed": false
   },
   "outputs": [],
   "source": [
    "tmp = np.empty((1599, 12)).astype(int)"
   ]
  },
  {
   "cell_type": "code",
   "execution_count": 62,
   "metadata": {
    "collapsed": false
   },
   "outputs": [
    {
     "data": {
      "text/plain": [
       "array([[0, 0, 0, ..., 0, 0, 0],\n",
       "       [0, 0, 0, ..., 0, 0, 0],\n",
       "       [0, 0, 0, ..., 0, 0, 0],\n",
       "       ..., \n",
       "       [0, 0, 0, ..., 0, 0, 0],\n",
       "       [0, 0, 0, ..., 0, 0, 0],\n",
       "       [0, 0, 0, ..., 0, 0, 0]])"
      ]
     },
     "execution_count": 62,
     "metadata": {},
     "output_type": "execute_result"
    }
   ],
   "source": [
    "tmp"
   ]
  },
  {
   "cell_type": "code",
   "execution_count": 68,
   "metadata": {
    "collapsed": false
   },
   "outputs": [
    {
     "data": {
      "text/plain": [
       "array([  9.30440839,  11.83933916,   9.96682039,  14.53960533,\n",
       "         7.1353877 ,   8.27930705,   7.94904416,   8.6909375 ,\n",
       "         6.44405028,  11.36253594,   5.03602816,  14.50256561])"
      ]
     },
     "execution_count": 68,
     "metadata": {},
     "output_type": "execute_result"
    }
   ],
   "source": [
    "5 + np.random.random(12)*10"
   ]
  },
  {
   "cell_type": "code",
   "execution_count": 74,
   "metadata": {
    "collapsed": true
   },
   "outputs": [],
   "source": [
    "X = np.array(df_norm)"
   ]
  },
  {
   "cell_type": "code",
   "execution_count": 76,
   "metadata": {
    "collapsed": false
   },
   "outputs": [
    {
     "data": {
      "text/plain": [
       "59.702483899200139"
      ]
     },
     "execution_count": 76,
     "metadata": {},
     "output_type": "execute_result"
    }
   ],
   "source": [
    "X[:,5].max()"
   ]
  },
  {
   "cell_type": "code",
   "execution_count": 77,
   "metadata": {
    "collapsed": true
   },
   "outputs": [],
   "source": [
    "from sklearn.base import BaseEstimator, ClusterMixin\n",
    "from sklearn.metrics.pairwise import distance_metrics, pairwise_distances\n",
    "\n",
    "class Kmeans(BaseEstimator, ClusterMixin): \n",
    "    \n",
    "    def __init__(self, k=2, metric='euclidean', max_iter=1000, random_state=None):\n",
    "        \"\"\"\n",
    "        Инициализация метода\n",
    "        :k - количество кластеров\n",
    "        :metric - функция расстояния между объектами\n",
    "        :max_iter - максиальное количество итераций\n",
    "        :random_state - seed для инициализации генератора случайных чисел\n",
    "        \"\"\"\n",
    "        \n",
    "        self.k = k\n",
    "        self.random_state = random_state\n",
    "        self.metric = metric\n",
    "        self.max_iter = max_iter\n",
    "        self.n_iters = None\n",
    "        self.X = None\n",
    "        self.labels = None\n",
    "        self.centroids = None\n",
    "        self._check_params()\n",
    "        \n",
    "    def _check_params(self):\n",
    "        if self.max_iter < 0:\n",
    "            raise ValueError(\"number of iterations (set %d) must be non-negative\" % (self.max_iter))\n",
    "        if self.k < 1:\n",
    "            raise ValueError(\"number of clusters (set %d) must be positive\" % (self.k))\n",
    "        if self.metric not in distance_metrics().keys():\n",
    "            raise ValueError(\"specified metric (%s) is not supported. List of supported metrics:\\n%s\" % \n",
    "                             (self.metric, ', '.join(distance_metrics().keys())))\n",
    "        \n",
    "    def _check_and_prepare_X(self, X):\n",
    "        import numpy as np\n",
    "        import pandas as pd\n",
    "        if not isinstance(X, np.ndarray) and not isinstance(X, pd.DataFrame):\n",
    "            raise ValueError(\"X must have numpy.ndarray or pandas.DataFrame type, but given X has type \" +  str(type(X)))\n",
    "        if self.k > X.shape[0]:\n",
    "            raise ValueError(\"number of clusters (set %d) must be not greater than number of samples (set %d)\" % \n",
    "                             (self.k, X.shape[0]))\n",
    "        if isinstance(X, pd.DataFrame):\n",
    "            self.X = X.as_matrix()\n",
    "        else:\n",
    "            self.X = X\n",
    "            \n",
    "    def _check_if_fitted(self):\n",
    "        if self.centroids is None:\n",
    "            raise RuntimeError(\"clustering object is not fitted yet, so centroids are not set\")\n",
    "                             \n",
    "    def fit(self, X, y=None):\n",
    "        \"\"\"\n",
    "        Процедура обучения k-means\n",
    "        :X - матрица наблюдений (numpy.ndarray или pandas.DataFrame)\n",
    "        :y - вектор меток (данный параметр не используется в обучении без учителя)\n",
    "        \"\"\"\n",
    "        \n",
    "        # Проверяем входной датасет и подготавливаем его к обработке\n",
    "        self._check_and_prepare_X(X)\n",
    "        \n",
    "        # Инициализация генератора случайных чисел\n",
    "        np.random.seed(self.random_state)\n",
    "        \n",
    "        # Массив с метками кластеров для каждого объекта из X\n",
    "        self.labels = np.zeros(self.X.shape[0], dtype=int)\n",
    "        self.labels.fill(-1)\n",
    "        \n",
    "        # Массив с центроидами кластеров\n",
    "        self.centroids = np.random.random((self.k, self.X.shape[1]))\n",
    "        \n",
    "        ## Your Code Here\n",
    "        # initialize centroids according to data values ranges\n",
    "        min_values = self.X.min(axis=0) \n",
    "        values_ranges = self.X.max(axis=0) - min_values\n",
    "        for c_idx, centroid in enumerate(self.centroids):\n",
    "            self.centroids[c_idx] = min_values + (values_ranges * centroid)\n",
    "\n",
    "        \n",
    "        # loop over iterations and while centroids not found\n",
    "        iteration = 0\n",
    "        for iteration in xrange(self.max_iter):\n",
    "            # store prev iteration params\n",
    "            old_centroids = self.centroids.copy()\n",
    "            old_labels = self.labels.copy()\n",
    "            \n",
    "            # for each sample, give it a label of nearest centroid\n",
    "            self.labels = distance_metrics()[self.metric](self.X, self.centroids).argmin(axis=1)\n",
    "            \n",
    "            # for each cluster, compute average, it will be a new centroid   \n",
    "            for c in xrange(self.centroids.shape[0]):\n",
    "                self.centroids[c] = np.average(self.X[(self.labels == c)], axis=0)\n",
    "            \n",
    "            # if no points assigned to centroid, do not change centroid coords\n",
    "            nan_rows = np.isnan(self.centroids).any(axis=1)\n",
    "            self.centroids[nan_rows] = old_centroids[nan_rows]\n",
    "            \n",
    "            # check if clusters change, if not, stop\n",
    "            if not np.any(self.labels - old_labels):\n",
    "                break\n",
    "         \n",
    "        # store number of iterations for computation\n",
    "        self.n_iters = iteration\n",
    "        \n",
    "        return self\n",
    "\n",
    "    def predict(self, X, y=None):\n",
    "        \"\"\"\n",
    "        Процедура предсказания кластера\n",
    "        \n",
    "        Возвращает метку ближайшего кластера для каждого объекта\n",
    "        \"\"\"\n",
    "        # Проверяем входной датасет  подготавливаем его к обработке\n",
    "        self._check_and_prepare_X(X)\n",
    "        \n",
    "        # Массив с метками кластеров для каждого объекта из X\n",
    "        self.labels = np.zeros(self.X.shape[0], dtype=int)\n",
    "        self.labels.fill(-1)\n",
    "        \n",
    "        self._check_if_fitted()\n",
    "        self.labels = distance_metrics()[self.metric](X, self.centroids).argmin(axis=1)\n",
    "        \n",
    "        return self.labels"
   ]
  },
  {
   "cell_type": "code",
   "execution_count": 106,
   "metadata": {
    "collapsed": false
   },
   "outputs": [],
   "source": [
    "t = Kmeans(k=9, random_state=201949)\n",
    "k_means = t.fit(df_norm)"
   ]
  },
  {
   "cell_type": "code",
   "execution_count": 107,
   "metadata": {
    "collapsed": false
   },
   "outputs": [
    {
     "name": "stdout",
     "output_type": "stream",
     "text": [
      "[0 0 0 ..., 0 0 0]\n",
      "[25014  1143     4     1     0  1202    98  1412  1126]\n"
     ]
    }
   ],
   "source": [
    "print k_means.labels\n",
    "arr = np.zeros(9).astype(int)\n",
    "for i in xrange(k_means.labels.shape[0]):\n",
    "    arr[k_means.labels[i]] += 1\n",
    "    \n",
    "print arr"
   ]
  },
  {
   "cell_type": "code",
   "execution_count": 89,
   "metadata": {
    "collapsed": false
   },
   "outputs": [
    {
     "data": {
      "text/plain": [
       "array([False, False, False, False, False, False, False, False, False], dtype=bool)"
      ]
     },
     "execution_count": 89,
     "metadata": {},
     "output_type": "execute_result"
    }
   ],
   "source": [
    "np.isnan(arr)"
   ]
  },
  {
   "cell_type": "code",
   "execution_count": 98,
   "metadata": {
    "collapsed": false
   },
   "outputs": [
    {
     "data": {
      "text/plain": [
       "5"
      ]
     },
     "execution_count": 98,
     "metadata": {},
     "output_type": "execute_result"
    }
   ],
   "source": [
    "len(arr[arr==0])"
   ]
  },
  {
   "cell_type": "code",
   "execution_count": null,
   "metadata": {
    "collapsed": true
   },
   "outputs": [],
   "source": []
  },
  {
   "cell_type": "code",
   "execution_count": null,
   "metadata": {
    "collapsed": true
   },
   "outputs": [],
   "source": []
  }
 ],
 "metadata": {
  "kernelspec": {
   "display_name": "Python 2",
   "language": "python",
   "name": "python2"
  },
  "language_info": {
   "codemirror_mode": {
    "name": "ipython",
    "version": 2
   },
   "file_extension": ".py",
   "mimetype": "text/x-python",
   "name": "python",
   "nbconvert_exporter": "python",
   "pygments_lexer": "ipython2",
   "version": "2.7.11+"
  }
 },
 "nbformat": 4,
 "nbformat_minor": 2
}
