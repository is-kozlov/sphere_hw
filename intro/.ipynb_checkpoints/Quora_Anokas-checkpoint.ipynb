{
 "cells": [
  {
   "cell_type": "code",
   "execution_count": 1,
   "metadata": {
    "collapsed": false
   },
   "outputs": [],
   "source": [
    "import numpy as np\n",
    "import pandas as pd\n",
    "import os\n",
    "import gc\n",
    "import matplotlib.pyplot as plt\n",
    "import seaborn as sns\n",
    "%matplotlib inline\n",
    "\n",
    "pal = sns.color_palette()"
   ]
  },
  {
   "cell_type": "code",
   "execution_count": 3,
   "metadata": {
    "collapsed": false
   },
   "outputs": [
    {
     "data": {
      "text/html": [
       "<div>\n",
       "<table border=\"1\" class=\"dataframe\">\n",
       "  <thead>\n",
       "    <tr style=\"text-align: right;\">\n",
       "      <th></th>\n",
       "      <th>id</th>\n",
       "      <th>qid1</th>\n",
       "      <th>qid2</th>\n",
       "      <th>question1</th>\n",
       "      <th>question2</th>\n",
       "      <th>is_duplicate</th>\n",
       "    </tr>\n",
       "  </thead>\n",
       "  <tbody>\n",
       "    <tr>\n",
       "      <th>0</th>\n",
       "      <td>0</td>\n",
       "      <td>1</td>\n",
       "      <td>2</td>\n",
       "      <td>What is the step by step guide to invest in sh...</td>\n",
       "      <td>What is the step by step guide to invest in sh...</td>\n",
       "      <td>0</td>\n",
       "    </tr>\n",
       "    <tr>\n",
       "      <th>1</th>\n",
       "      <td>1</td>\n",
       "      <td>3</td>\n",
       "      <td>4</td>\n",
       "      <td>What is the story of Kohinoor (Koh-i-Noor) Dia...</td>\n",
       "      <td>What would happen if the Indian government sto...</td>\n",
       "      <td>0</td>\n",
       "    </tr>\n",
       "    <tr>\n",
       "      <th>2</th>\n",
       "      <td>2</td>\n",
       "      <td>5</td>\n",
       "      <td>6</td>\n",
       "      <td>How can I increase the speed of my internet co...</td>\n",
       "      <td>How can Internet speed be increased by hacking...</td>\n",
       "      <td>0</td>\n",
       "    </tr>\n",
       "    <tr>\n",
       "      <th>3</th>\n",
       "      <td>3</td>\n",
       "      <td>7</td>\n",
       "      <td>8</td>\n",
       "      <td>Why am I mentally very lonely? How can I solve...</td>\n",
       "      <td>Find the remainder when [math]23^{24}[/math] i...</td>\n",
       "      <td>0</td>\n",
       "    </tr>\n",
       "    <tr>\n",
       "      <th>4</th>\n",
       "      <td>4</td>\n",
       "      <td>9</td>\n",
       "      <td>10</td>\n",
       "      <td>Which one dissolve in water quikly sugar, salt...</td>\n",
       "      <td>Which fish would survive in salt water?</td>\n",
       "      <td>0</td>\n",
       "    </tr>\n",
       "  </tbody>\n",
       "</table>\n",
       "</div>"
      ],
      "text/plain": [
       "   id  qid1  qid2                                          question1  \\\n",
       "0   0     1     2  What is the step by step guide to invest in sh...   \n",
       "1   1     3     4  What is the story of Kohinoor (Koh-i-Noor) Dia...   \n",
       "2   2     5     6  How can I increase the speed of my internet co...   \n",
       "3   3     7     8  Why am I mentally very lonely? How can I solve...   \n",
       "4   4     9    10  Which one dissolve in water quikly sugar, salt...   \n",
       "\n",
       "                                           question2  is_duplicate  \n",
       "0  What is the step by step guide to invest in sh...             0  \n",
       "1  What would happen if the Indian government sto...             0  \n",
       "2  How can Internet speed be increased by hacking...             0  \n",
       "3  Find the remainder when [math]23^{24}[/math] i...             0  \n",
       "4            Which fish would survive in salt water?             0  "
      ]
     },
     "execution_count": 3,
     "metadata": {},
     "output_type": "execute_result"
    }
   ],
   "source": [
    "#filepath = '/media/ivan/Acer/Ivan/sphere/Quora/train.csv'\n",
    "filepath = 'C:\\Ivan\\sphere\\Quora\\\\train.csv'\n",
    "df = pd.read_csv(filepath, sep=',')\n",
    "df = df.reset_index(drop=True)\n",
    "df.head()"
   ]
  },
  {
   "cell_type": "code",
   "execution_count": 4,
   "metadata": {
    "collapsed": false
   },
   "outputs": [
    {
     "data": {
      "text/html": [
       "<div>\n",
       "<table border=\"1\" class=\"dataframe\">\n",
       "  <thead>\n",
       "    <tr style=\"text-align: right;\">\n",
       "      <th></th>\n",
       "      <th>test_id</th>\n",
       "      <th>question1</th>\n",
       "      <th>question2</th>\n",
       "    </tr>\n",
       "  </thead>\n",
       "  <tbody>\n",
       "    <tr>\n",
       "      <th>0</th>\n",
       "      <td>0</td>\n",
       "      <td>How does the Surface Pro himself 4 compare wit...</td>\n",
       "      <td>Why did Microsoft choose core m3 and not core ...</td>\n",
       "    </tr>\n",
       "    <tr>\n",
       "      <th>1</th>\n",
       "      <td>1</td>\n",
       "      <td>Should I have a hair transplant at age 24? How...</td>\n",
       "      <td>How much cost does hair transplant require?</td>\n",
       "    </tr>\n",
       "    <tr>\n",
       "      <th>2</th>\n",
       "      <td>2</td>\n",
       "      <td>What but is the best way to send money from Ch...</td>\n",
       "      <td>What you send money to China?</td>\n",
       "    </tr>\n",
       "    <tr>\n",
       "      <th>3</th>\n",
       "      <td>3</td>\n",
       "      <td>Which food not emulsifiers?</td>\n",
       "      <td>What foods fibre?</td>\n",
       "    </tr>\n",
       "    <tr>\n",
       "      <th>4</th>\n",
       "      <td>4</td>\n",
       "      <td>How \"aberystwyth\" start reading?</td>\n",
       "      <td>How their can I start reading?</td>\n",
       "    </tr>\n",
       "  </tbody>\n",
       "</table>\n",
       "</div>"
      ],
      "text/plain": [
       "   test_id                                          question1  \\\n",
       "0        0  How does the Surface Pro himself 4 compare wit...   \n",
       "1        1  Should I have a hair transplant at age 24? How...   \n",
       "2        2  What but is the best way to send money from Ch...   \n",
       "3        3                        Which food not emulsifiers?   \n",
       "4        4                   How \"aberystwyth\" start reading?   \n",
       "\n",
       "                                           question2  \n",
       "0  Why did Microsoft choose core m3 and not core ...  \n",
       "1        How much cost does hair transplant require?  \n",
       "2                      What you send money to China?  \n",
       "3                                  What foods fibre?  \n",
       "4                     How their can I start reading?  "
      ]
     },
     "execution_count": 4,
     "metadata": {},
     "output_type": "execute_result"
    }
   ],
   "source": [
    "#filepath = '/media/ivan/Acer/Ivan/sphere/Quora/test.csv'\n",
    "filepath = 'C:\\Ivan\\sphere\\Quora\\\\test.csv'\n",
    "df_test = pd.read_csv(filepath, sep=',')\n",
    "df_test = df_test.reset_index(drop=True)\n",
    "df_test.head()"
   ]
  },
  {
   "cell_type": "code",
   "execution_count": 24,
   "metadata": {
    "collapsed": false
   },
   "outputs": [
    {
     "data": {
      "text/plain": [
       "((404290, 9), (2345796, 5))"
      ]
     },
     "execution_count": 24,
     "metadata": {},
     "output_type": "execute_result"
    }
   ],
   "source": [
    "df = df.fillna(' ')\n",
    "df_test = df_test.fillna(' ')\n",
    "df.shape, df_test.shape"
   ]
  },
  {
   "cell_type": "code",
   "execution_count": 5,
   "metadata": {
    "collapsed": false
   },
   "outputs": [
    {
     "name": "stdout",
     "output_type": "stream",
     "text": [
      "Total number of question pairs for training: 404290\n",
      "Duplicate pairs: 36.92%\n",
      "Total number of questions in the training data: 537933\n",
      "Number of questions that appear multiple times: 111780\n"
     ]
    }
   ],
   "source": [
    "print('Total number of question pairs for training: {}'.format(len(df)))\n",
    "print('Duplicate pairs: {}%'.format(round(df['is_duplicate'].mean()*100, 2)))\n",
    "qids = pd.Series(df['qid1'].tolist() + df['qid2'].tolist())\n",
    "print('Total number of questions in the training data: {}'.format(len(\n",
    "    np.unique(qids))))\n",
    "print('Number of questions that appear multiple times: {}'.format(np.sum(qids.value_counts() > 1)))"
   ]
  },
  {
   "cell_type": "code",
   "execution_count": 5,
   "metadata": {
    "collapsed": true
   },
   "outputs": [],
   "source": [
    "train_qs = pd.Series(df['question1'].tolist() + df['question2'].tolist()).astype(str)\n",
    "test_qs = pd.Series(df_test['question1'].tolist() + df_test['question2'].tolist()).astype(str)"
   ]
  },
  {
   "cell_type": "code",
   "execution_count": 19,
   "metadata": {
    "collapsed": false
   },
   "outputs": [
    {
     "name": "stdout",
     "output_type": "stream",
     "text": [
      "mean-train 59.86 std-train 31.99 mean-test 60.11 std-test 31.66 max-train 1169.00 max-test 1176.00\n"
     ]
    },
    {
     "data": {
      "image/png": "[encoded data removed]",
      "text/plain": [
       "<matplotlib.figure.Figure at 0x7fabc611aed0>"
      ]
     },
     "metadata": {},
     "output_type": "display_data"
    }
   ],
   "source": [
    "train_qs = pd.Series(df['question1'].tolist() + df['question2'].tolist()).astype(str)\n",
    "test_qs = pd.Series(df_test['question1'].tolist() + df_test['question2'].tolist()).astype(str)\n",
    "\n",
    "dist_train = train_qs.apply(len)\n",
    "dist_test = test_qs.apply(len)\n",
    "plt.figure(figsize=(15, 10))\n",
    "plt.hist(dist_train, bins=200, range=[0, 200], color=pal[2], normed=True, label='train')\n",
    "plt.hist(dist_test, bins=200, range=[0, 200], color=pal[1], normed=True, alpha=0.5, label='test')\n",
    "plt.title('Normalised histogram of character count in questions', fontsize=15)\n",
    "plt.legend()\n",
    "plt.xlabel('Number of characters', fontsize=15)\n",
    "plt.ylabel('Probability', fontsize=15)\n",
    "\n",
    "print('mean-train {:.2f} std-train {:.2f} mean-test {:.2f} std-test {:.2f} max-train {:.2f} max-test {:.2f}'.format(dist_train.mean(), \n",
    "                          dist_train.std(), dist_test.mean(), dist_test.std(), dist_train.max(), dist_test.max()))"
   ]
  },
  {
   "cell_type": "code",
   "execution_count": 20,
   "metadata": {
    "collapsed": false
   },
   "outputs": [
    {
     "name": "stdout",
     "output_type": "stream",
     "text": [
      "mean-train 11.06 std-train 5.89 mean-test 11.02 std-test 5.84 max-train 237.00 max-test 238.00\n"
     ]
    },
    {
     "data": {
      "image/png": "[encoded data removed]",
      "text/plain": [
       "<matplotlib.figure.Figure at 0x7fabd0e7d250>"
      ]
     },
     "metadata": {},
     "output_type": "display_data"
    }
   ],
   "source": [
    "dist_train = train_qs.apply(lambda x: len(x.split(' ')))\n",
    "dist_test = test_qs.apply(lambda x: len(x.split(' ')))\n",
    "\n",
    "plt.figure(figsize=(15, 10))\n",
    "plt.hist(dist_train, bins=50, range=[0, 50], color=pal[2], normed=True, label='train')\n",
    "plt.hist(dist_test, bins=50, range=[0, 50], color=pal[1], normed=True, alpha=0.5, label='test')\n",
    "plt.title('Normalised histogram of word count in questions', fontsize=15)\n",
    "plt.legend()\n",
    "plt.xlabel('Number of words', fontsize=15)\n",
    "plt.ylabel('Probability', fontsize=15)\n",
    "\n",
    "print('mean-train {:.2f} std-train {:.2f} mean-test {:.2f} std-test {:.2f} max-train {:.2f} max-test {:.2f}'.format(dist_train.mean(), \n",
    "                          dist_train.std(), dist_test.mean(), dist_test.std(), dist_train.max(), dist_test.max()))"
   ]
  },
  {
   "cell_type": "code",
   "execution_count": 6,
   "metadata": {
    "collapsed": true
   },
   "outputs": [],
   "source": [
    "stops = ['i', 'me', 'my', 'myself', 'we', 'our', 'ours', 'ourselves', 'you', 'your', 'yours',\n",
    "'yourself', 'yourselves', 'he', 'him', 'his', 'himself', 'she', 'her', 'hers',\n",
    "'herself', 'it', 'its', 'itself', 'they', 'them', 'their', 'theirs', 'themselves',\n",
    "'what', 'which', 'who', 'whom', 'this', 'that', 'these', 'those', 'am', 'is', 'are',\n",
    "'was', 'were', 'be', 'been', 'being', 'have', 'has', 'had', 'having', 'do', 'does',\n",
    "'did', 'doing', 'a', 'an', 'the', 'and', 'but', 'if', 'or', 'because', 'as', 'until',\n",
    "'while', 'of', 'at', 'by', 'for', 'with', 'about', 'against', 'between', 'into',\n",
    "'through', 'during', 'before', 'after', 'above', 'below', 'to', 'from', 'up', 'down',\n",
    "'in', 'out', 'on', 'off', 'over', 'under', 'again', 'further', 'then', 'once', 'here',\n",
    "'there', 'when', 'where', 'why', 'how', 'all', 'any', 'both', 'each', 'few', 'more',\n",
    "'most', 'other', 'some', 'such', 'no', 'nor', 'not', 'only', 'own', 'same', 'so',\n",
    "'than', 'too', 'very', 's', 't', 'can', 'will', 'just', 'don', 'should', 'now']"
   ]
  },
  {
   "cell_type": "code",
   "execution_count": 7,
   "metadata": {
    "collapsed": false
   },
   "outputs": [],
   "source": [
    "def word_match_share(row):\n",
    "    q1words = {}\n",
    "    q2words = {}\n",
    "    for word in str(row['question1']).lower().split():\n",
    "        if word not in stops:\n",
    "            q1words[word] = 1\n",
    "    for word in str(row['question2']).lower().split():\n",
    "        if word not in stops:\n",
    "            q2words[word] = 1\n",
    "    if len(q1words) == 0 or len(q2words) == 0:\n",
    "        # The computer-generated chaff includes a few questions that are nothing but stopwords\n",
    "        return 0\n",
    "    shared_words_in_q1 = [w for w in q1words.keys() if w in q2words]\n",
    "    shared_words_in_q2 = [w for w in q2words.keys() if w in q1words]\n",
    "    R = (len(shared_words_in_q1) + len(shared_words_in_q2))/(len(q1words) + len(q2words))\n",
    "    return R\n",
    "\n",
    "#plt.figure(figsize=(15, 5))\n",
    "#train_word_match = df.apply(word_match_share, axis=1, raw=True)\n",
    "#plt.hist(train_word_match[df['is_duplicate'] == 0], bins=20, normed=True, label='Not Duplicate')\n",
    "#plt.hist(train_word_match[df['is_duplicate'] == 1], bins=20, normed=True, alpha=0.7, label='Duplicate')\n",
    "#plt.legend()\n",
    "#plt.title('Label distribution over word_match_share', fontsize=15)\n",
    "#plt.xlabel('word_match_share', fontsize=15)"
   ]
  },
  {
   "cell_type": "code",
   "execution_count": 8,
   "metadata": {
    "collapsed": false
   },
   "outputs": [],
   "source": [
    "from collections import Counter\n",
    "\n",
    "# If a word appears only once, we ignore it completely (likely a typo)\n",
    "# Epsilon defines a smoothing constant, which makes the effect of extremely rare words smaller\n",
    "def get_weight(count, eps=10000, min_count=2):\n",
    "    if count < min_count:\n",
    "        return 0\n",
    "    else:\n",
    "        return 1. / (count + eps)\n",
    "\n",
    "eps = 5000 \n",
    "words = (' '.join(train_qs)).lower().split()\n",
    "counts = Counter(words)\n",
    "weights = {word: get_weight(count) for word, count in counts.items()}"
   ]
  },
  {
   "cell_type": "code",
   "execution_count": 36,
   "metadata": {
    "collapsed": false
   },
   "outputs": [
    {
     "name": "stdout",
     "output_type": "stream",
     "text": [
      "Most common words and weights: \n",
      "\n",
      "[('the', 2.5891040146646852e-06), ('what', 3.115623919267953e-06), ('is', 3.5861702928825277e-06), ('how', 4.366449945201053e-06), ('i', 4.4805878531263305e-06), ('a', 4.540645588989843e-06), ('to', 4.671434644293609e-06), ('in', 4.884625153865692e-06), ('of', 5.920242493132519e-06), ('do', 6.070908207867897e-06)]\n",
      "\n",
      "Least common words and weights: \n"
     ]
    },
    {
     "data": {
      "text/plain": [
       "[('chameleons', 9.998000399920016e-05),\n",
       " ('275', 9.998000399920016e-05),\n",
       " ('276', 9.998000399920016e-05),\n",
       " ('kid:', 9.998000399920016e-05),\n",
       " ('usenet', 9.998000399920016e-05),\n",
       " ('(football', 9.998000399920016e-05),\n",
       " ('dittofish?', 9.998000399920016e-05),\n",
       " ('sneha', 9.998000399920016e-05),\n",
       " ('population)', 9.998000399920016e-05),\n",
       " (',delhi', 9.998000399920016e-05)]"
      ]
     },
     "execution_count": 36,
     "metadata": {},
     "output_type": "execute_result"
    }
   ],
   "source": [
    "print('Most common words and weights: \\n')\n",
    "print(sorted(weights.items(), key=lambda x: x[1] if x[1] > 0 else 9999)[:10])\n",
    "print('\\nLeast common words and weights: ')\n",
    "(sorted(weights.items(), key=lambda x: x[1], reverse=True)[:10])"
   ]
  },
  {
   "cell_type": "code",
   "execution_count": 9,
   "metadata": {
    "collapsed": true
   },
   "outputs": [],
   "source": [
    "def tfidf_word_match_share(row):\n",
    "    q1words = {}\n",
    "    q2words = {}\n",
    "    for word in str(row['question1']).lower().split():\n",
    "        if word not in stops:\n",
    "            q1words[word] = 1\n",
    "    for word in str(row['question2']).lower().split():\n",
    "        if word not in stops:\n",
    "            q2words[word] = 1\n",
    "    if len(q1words) == 0 or len(q2words) == 0:\n",
    "        # The computer-generated chaff includes a few questions that are nothing but stopwords\n",
    "        return 0\n",
    "    \n",
    "    shared_weights = [weights.get(w, 0) for w in q1words.keys() if w in q2words] + [weights.get(w, 0) for w in q2words.keys() if w in q1words]\n",
    "    total_weights = [weights.get(w, 0) for w in q1words] + [weights.get(w, 0) for w in q2words]\n",
    "    \n",
    "    try:\n",
    "        R = float(np.sum(shared_weights)) / np.sum(total_weights)\n",
    "    except:\n",
    "        return 0\n",
    "    return R"
   ]
  },
  {
   "cell_type": "code",
   "execution_count": 10,
   "metadata": {
    "collapsed": true
   },
   "outputs": [],
   "source": [
    "def normalized_word_share(row):\n",
    "    w1 = set(map(lambda word: word.lower().strip(), row['question1'].split(\" \")))\n",
    "    w2 = set(map(lambda word: word.lower().strip(), row['question2'].split(\" \")))    \n",
    "    return 1.0 * len(w1 & w2)/(len(w1) + len(w2))"
   ]
  },
  {
   "cell_type": "code",
   "execution_count": 13,
   "metadata": {
    "collapsed": false
   },
   "outputs": [
    {
     "name": "stdout",
     "output_type": "stream",
     "text": [
      "Wall time: 22.9 s\n"
     ]
    }
   ],
   "source": [
    "%%time\n",
    "simple_word_share = df.apply(normalized_word_share, axis=1)"
   ]
  },
  {
   "cell_type": "code",
   "execution_count": 14,
   "metadata": {
    "collapsed": false
   },
   "outputs": [
    {
     "name": "stdout",
     "output_type": "stream",
     "text": [
      "('Original AUC:', 0.52948241446941902)\n",
      "('   TFIDF AUC:', 0.77065271103232624)\n",
      "('simple word share AUC:', 0.74114839298971991)\n",
      "Wall time: 1min 27s\n"
     ]
    }
   ],
   "source": [
    "%%time\n",
    "from sklearn.metrics import roc_auc_score\n",
    "train_word_match = df.apply(word_match_share, axis=1, raw=True)\n",
    "tfidf_train_word_match = df.apply(tfidf_word_match_share, axis=1, raw=True)\n",
    "print('Original AUC:', roc_auc_score(df['is_duplicate'], train_word_match))\n",
    "print('   TFIDF AUC:', roc_auc_score(df['is_duplicate'], tfidf_train_word_match.fillna(0)))\n",
    "print('simple word share AUC:', roc_auc_score(df['is_duplicate'], simple_word_share.fillna(0)))"
   ]
  },
  {
   "cell_type": "code",
   "execution_count": 18,
   "metadata": {
    "collapsed": false
   },
   "outputs": [
    {
     "name": "stdout",
     "output_type": "stream",
     "text": [
      "Wall time: 11 ms\n"
     ]
    }
   ],
   "source": [
    "%%time\n",
    "df['word_match'] = train_word_match\n",
    "df['tfidf_word_match'] = tfidf_train_word_match\n",
    "df['simple_word_share'] = simple_word_share"
   ]
  },
  {
   "cell_type": "code",
   "execution_count": 26,
   "metadata": {
    "collapsed": false
   },
   "outputs": [
    {
     "name": "stdout",
     "output_type": "stream",
     "text": [
      "Wall time: 10min 32s\n"
     ]
    }
   ],
   "source": [
    "%%time\n",
    "test_word_match = df_test.apply(word_match_share, axis=1, raw=True)\n",
    "tfidf_test_word_match = df_test.apply(tfidf_word_match_share, axis=1, raw=True)\n",
    "simple_word_share = df_test.apply(normalized_word_share, axis=1)\n",
    "\n",
    "df_test['word_match'] = test_word_match\n",
    "df_test['tfidf_word_match'] = tfidf_test_word_match\n",
    "df_test['simple_word_share'] = simple_word_share"
   ]
  },
  {
   "cell_type": "code",
   "execution_count": 27,
   "metadata": {
    "collapsed": false
   },
   "outputs": [
    {
     "data": {
      "text/html": [
       "<div>\n",
       "<table border=\"1\" class=\"dataframe\">\n",
       "  <thead>\n",
       "    <tr style=\"text-align: right;\">\n",
       "      <th></th>\n",
       "      <th>test_id</th>\n",
       "      <th>question1</th>\n",
       "      <th>question2</th>\n",
       "      <th>word_match</th>\n",
       "      <th>tfidf_word_match</th>\n",
       "      <th>simple_word_share</th>\n",
       "    </tr>\n",
       "  </thead>\n",
       "  <tbody>\n",
       "    <tr>\n",
       "      <th>0</th>\n",
       "      <td>0</td>\n",
       "      <td>How does the Surface Pro himself 4 compare wit...</td>\n",
       "      <td>Why did Microsoft choose core m3 and not core ...</td>\n",
       "      <td>0</td>\n",
       "      <td>0.274019</td>\n",
       "      <td>0.083333</td>\n",
       "    </tr>\n",
       "    <tr>\n",
       "      <th>1</th>\n",
       "      <td>1</td>\n",
       "      <td>Should I have a hair transplant at age 24? How...</td>\n",
       "      <td>How much cost does hair transplant require?</td>\n",
       "      <td>0</td>\n",
       "      <td>0.480962</td>\n",
       "      <td>0.190476</td>\n",
       "    </tr>\n",
       "    <tr>\n",
       "      <th>2</th>\n",
       "      <td>2</td>\n",
       "      <td>What but is the best way to send money from Ch...</td>\n",
       "      <td>What you send money to China?</td>\n",
       "      <td>0</td>\n",
       "      <td>0.468893</td>\n",
       "      <td>0.222222</td>\n",
       "    </tr>\n",
       "    <tr>\n",
       "      <th>3</th>\n",
       "      <td>3</td>\n",
       "      <td>Which food not emulsifiers?</td>\n",
       "      <td>What foods fibre?</td>\n",
       "      <td>0</td>\n",
       "      <td>0.000000</td>\n",
       "      <td>0.000000</td>\n",
       "    </tr>\n",
       "    <tr>\n",
       "      <th>4</th>\n",
       "      <td>4</td>\n",
       "      <td>How \"aberystwyth\" start reading?</td>\n",
       "      <td>How their can I start reading?</td>\n",
       "      <td>0</td>\n",
       "      <td>1.000000</td>\n",
       "      <td>0.300000</td>\n",
       "    </tr>\n",
       "  </tbody>\n",
       "</table>\n",
       "</div>"
      ],
      "text/plain": [
       "   test_id                                          question1  \\\n",
       "0        0  How does the Surface Pro himself 4 compare wit...   \n",
       "1        1  Should I have a hair transplant at age 24? How...   \n",
       "2        2  What but is the best way to send money from Ch...   \n",
       "3        3                        Which food not emulsifiers?   \n",
       "4        4                   How \"aberystwyth\" start reading?   \n",
       "\n",
       "                                           question2  word_match  \\\n",
       "0  Why did Microsoft choose core m3 and not core ...           0   \n",
       "1        How much cost does hair transplant require?           0   \n",
       "2                      What you send money to China?           0   \n",
       "3                                  What foods fibre?           0   \n",
       "4                     How their can I start reading?           0   \n",
       "\n",
       "   tfidf_word_match  simple_word_share  \n",
       "0          0.274019           0.083333  \n",
       "1          0.480962           0.190476  \n",
       "2          0.468893           0.222222  \n",
       "3          0.000000           0.000000  \n",
       "4          1.000000           0.300000  "
      ]
     },
     "execution_count": 27,
     "metadata": {},
     "output_type": "execute_result"
    }
   ],
   "source": [
    "df_test.head()"
   ]
  },
  {
   "cell_type": "code",
   "execution_count": 28,
   "metadata": {
    "collapsed": true
   },
   "outputs": [],
   "source": [
    "filepath = 'C:\\Ivan\\sphere\\Quora\\\\'\n",
    "df.to_csv(filepath+'df_3feat.csv', index=False)\n",
    "df_test.to_csv(filepath+'df_test_3feat.csv', index=False)"
   ]
  },
  {
   "cell_type": "code",
   "execution_count": null,
   "metadata": {
    "collapsed": false
   },
   "outputs": [],
   "source": [
    "import gc\n",
    "del train_word_match\n",
    "del tfidf_train_word_match\n",
    "del simple_word_share\n",
    "gc.collect()"
   ]
  },
  {
   "cell_type": "markdown",
   "metadata": {},
   "source": [
    "### My features"
   ]
  },
  {
   "cell_type": "code",
   "execution_count": 3,
   "metadata": {
    "collapsed": true
   },
   "outputs": [],
   "source": [
    "from sklearn.feature_extraction.text import TfidfVectorizer, CountVectorizer\n",
    "from sklearn.linear_model import LogisticRegression\n",
    "from sklearn.metrics.pairwise import cosine_similarity, paired_manhattan_distances, paired_euclidean_distances"
   ]
  },
  {
   "cell_type": "code",
   "execution_count": 4,
   "metadata": {
    "collapsed": false
   },
   "outputs": [
    {
     "data": {
      "text/plain": [
       "(404290, 20)"
      ]
     },
     "execution_count": 4,
     "metadata": {},
     "output_type": "execute_result"
    }
   ],
   "source": [
    "df = df.fillna(' ')\n",
    "df.shape"
   ]
  },
  {
   "cell_type": "code",
   "execution_count": 5,
   "metadata": {
    "collapsed": false
   },
   "outputs": [],
   "source": [
    "BOW = CountVectorizer(max_df=0.999, min_df=100, max_features=None, \n",
    "                                      analyzer='char', ngram_range=(1,3), \n",
    "                                      binary=True, lowercase=True)"
   ]
  },
  {
   "cell_type": "code",
   "execution_count": 6,
   "metadata": {
    "collapsed": false
   },
   "outputs": [
    {
     "name": "stdout",
     "output_type": "stream",
     "text": [
      "Wall time: 1min 14s\n"
     ]
    },
    {
     "data": {
      "text/plain": [
       "CountVectorizer(analyzer='char', binary=True, decode_error=u'strict',\n",
       "        dtype=<type 'numpy.int64'>, encoding=u'utf-8', input=u'content',\n",
       "        lowercase=True, max_df=0.999, max_features=None, min_df=100,\n",
       "        ngram_range=(1, 3), preprocessor=None, stop_words=None,\n",
       "        strip_accents=None, token_pattern=u'(?u)\\\\b\\\\w\\\\w+\\\\b',\n",
       "        tokenizer=None, vocabulary=None)"
      ]
     },
     "execution_count": 6,
     "metadata": {},
     "output_type": "execute_result"
    }
   ],
   "source": [
    "%%time\n",
    "BOW.fit(pd.concat((df.loc[:,'question1'],df.loc[:,'question2'])).unique())"
   ]
  },
  {
   "cell_type": "code",
   "execution_count": 7,
   "metadata": {
    "collapsed": false
   },
   "outputs": [
    {
     "name": "stdout",
     "output_type": "stream",
     "text": [
      "Wall time: 1min 56s\n"
     ]
    }
   ],
   "source": [
    "%%time\n",
    "BOW_1 = BOW.transform(df.loc[:,'question1'])\n",
    "BOW_2 = BOW.transform(df.loc[:,'question2'])\n",
    "labels = df.is_duplicate.values"
   ]
  },
  {
   "cell_type": "code",
   "execution_count": 8,
   "metadata": {
    "collapsed": false
   },
   "outputs": [
    {
     "data": {
      "text/plain": [
       "(404290, 8345)"
      ]
     },
     "execution_count": 8,
     "metadata": {},
     "output_type": "execute_result"
    }
   ],
   "source": [
    "BOW_1.shape"
   ]
  },
  {
   "cell_type": "code",
   "execution_count": 9,
   "metadata": {
    "collapsed": false
   },
   "outputs": [
    {
     "data": {
      "text/plain": [
       "(404290, 8345)"
      ]
     },
     "execution_count": 9,
     "metadata": {},
     "output_type": "execute_result"
    }
   ],
   "source": [
    "Dlt = (BOW_1 != BOW_2).astype(int)\n",
    "Dlt.shape"
   ]
  },
  {
   "cell_type": "code",
   "execution_count": 10,
   "metadata": {
    "collapsed": false
   },
   "outputs": [],
   "source": [
    "df['bow_mean'] = np.array(Dlt.mean(axis=1).reshape(-1,))[0]"
   ]
  },
  {
   "cell_type": "code",
   "execution_count": 13,
   "metadata": {
    "collapsed": false
   },
   "outputs": [],
   "source": [
    "from sklearn.cluster import KMeans"
   ]
  },
  {
   "cell_type": "code",
   "execution_count": null,
   "metadata": {
    "collapsed": true
   },
   "outputs": [],
   "source": []
  },
  {
   "cell_type": "code",
   "execution_count": null,
   "metadata": {
    "collapsed": true
   },
   "outputs": [],
   "source": []
  },
  {
   "cell_type": "code",
   "execution_count": null,
   "metadata": {
    "collapsed": true
   },
   "outputs": [],
   "source": []
  },
  {
   "cell_type": "code",
   "execution_count": 14,
   "metadata": {
    "collapsed": false
   },
   "outputs": [
    {
     "name": "stdout",
     "output_type": "stream",
     "text": [
      "Wall time: 26min 52s\n"
     ]
    }
   ],
   "source": [
    "%%time\n",
    "km2 = KMeans(n_clusters=2, n_jobs=-1).fit(Dlt[0:50000])\n",
    "km3 = KMeans(n_clusters=3, n_jobs=-1).fit(Dlt[100000:150000])\n",
    "km4 = KMeans(n_clusters=4, n_jobs=-1).fit(Dlt[200000:250000])"
   ]
  },
  {
   "cell_type": "code",
   "execution_count": 15,
   "metadata": {
    "collapsed": true
   },
   "outputs": [],
   "source": [
    "df['km2'] = km2.predict(Dlt)\n",
    "df['km3'] = km3.predict(Dlt)\n",
    "df['km4'] = km4.predict(Dlt)"
   ]
  },
  {
   "cell_type": "code",
   "execution_count": 17,
   "metadata": {
    "collapsed": false
   },
   "outputs": [],
   "source": [
    "filepath = 'C:\\Ivan\\sphere\\Quora\\\\'\n",
    "df.to_csv(filepath+'df_20feat_kmeans.csv', index=False)"
   ]
  },
  {
   "cell_type": "code",
   "execution_count": 18,
   "metadata": {
    "collapsed": false
   },
   "outputs": [
    {
     "data": {
      "text/plain": [
       "615"
      ]
     },
     "execution_count": 18,
     "metadata": {},
     "output_type": "execute_result"
    }
   ],
   "source": [
    "import gc\n",
    "del df\n",
    "del Dlt\n",
    "del BOW_1, BOW_2\n",
    "gc.collect()"
   ]
  },
  {
   "cell_type": "code",
   "execution_count": null,
   "metadata": {
    "collapsed": false
   },
   "outputs": [],
   "source": [
    "%%time\n",
    "BOW_1 = BOW.transform(df_test.loc[:,'question1'])\n",
    "BOW_2 = BOW.transform(df_test.loc[:,'question2'])"
   ]
  },
  {
   "cell_type": "code",
   "execution_count": 25,
   "metadata": {
    "collapsed": false
   },
   "outputs": [
    {
     "name": "stdout",
     "output_type": "stream",
     "text": [
      "Wall time: 15min 38s\n"
     ]
    }
   ],
   "source": [
    "%%time\n",
    "Dlt = (BOW_1 != BOW_2).astype(int)\n",
    "Dlt.shape"
   ]
  },
  {
   "cell_type": "code",
   "execution_count": 26,
   "metadata": {
    "collapsed": false
   },
   "outputs": [
    {
     "name": "stdout",
     "output_type": "stream",
     "text": [
      "Wall time: 59min 4s\n",
      "Parser   : 127 ms\n"
     ]
    }
   ],
   "source": [
    "%%time\n",
    "df_test['bow_mean'] = np.array(Dlt.mean(axis=1).reshape(-1,))[0]\n",
    "df_test['km2'] = km2.predict(Dlt)\n",
    "df_test['km3'] = km3.predict(Dlt)\n",
    "df_test['km4'] = km4.predict(Dlt)"
   ]
  },
  {
   "cell_type": "code",
   "execution_count": 27,
   "metadata": {
    "collapsed": true
   },
   "outputs": [],
   "source": [
    "filepath = 'C:\\Ivan\\sphere\\Quora\\\\'\n",
    "df_test.to_csv(filepath+'df_test_20feat_kmeans.csv', index=False)"
   ]
  },
  {
   "cell_type": "code",
   "execution_count": null,
   "metadata": {
    "collapsed": true
   },
   "outputs": [],
   "source": []
  },
  {
   "cell_type": "code",
   "execution_count": null,
   "metadata": {
    "collapsed": true
   },
   "outputs": [],
   "source": []
  },
  {
   "cell_type": "code",
   "execution_count": null,
   "metadata": {
    "collapsed": true
   },
   "outputs": [],
   "source": []
  },
  {
   "cell_type": "code",
   "execution_count": null,
   "metadata": {
    "collapsed": true
   },
   "outputs": [],
   "source": []
  },
  {
   "cell_type": "code",
   "execution_count": 38,
   "metadata": {
    "collapsed": false
   },
   "outputs": [
    {
     "data": {
      "text/plain": [
       "(404290, 8)"
      ]
     },
     "execution_count": 38,
     "metadata": {},
     "output_type": "execute_result"
    }
   ],
   "source": [
    "df.shape"
   ]
  },
  {
   "cell_type": "code",
   "execution_count": 30,
   "metadata": {
    "collapsed": false
   },
   "outputs": [
    {
     "name": "stdout",
     "output_type": "stream",
     "text": [
      "Wall time: 3.83 s\n"
     ]
    }
   ],
   "source": [
    "%%time\n",
    "df['len_1'] = df['question1'].apply(lambda x: len(x.split(' ')))\n",
    "df['len_2'] = df['question2'].apply(lambda x: len(x.split(' ')))\n",
    "df['len_diff'] = abs(df['len_1'] - df['len_2'])\n",
    "\n",
    "df['char_1'] = df['question1'].apply(lambda x: len(x))\n",
    "df['char_2'] = df['question2'].apply(lambda x: len(x))\n",
    "df['char_diff'] = abs(df['char_1'] - df['char_2'])\n",
    "\n",
    "df['max_word_1'] = df['question1'].apply(lambda x: max(len(word) for word in x.split(' ')))\n",
    "df['max_word_2'] = df['question2'].apply(lambda x: max(len(word) for word in x.split(' ')))\n",
    "df['max_word_diff'] = abs(df['max_word_1'] - df['max_word_2'])\n",
    "\n",
    "df['mean_len'] = (df['len_1'] + df['len_2'])/2.0\n",
    "df['mean_char'] = (df['char_1'] + df['char_2'])/2.0"
   ]
  },
  {
   "cell_type": "code",
   "execution_count": 45,
   "metadata": {
    "collapsed": true
   },
   "outputs": [],
   "source": [
    "x_train['len_diff'] = df['len_diff']\n",
    "x_train['char_diff'] = df['char_diff']\n",
    "x_train['max_word_diff'] = df['max_word_diff']\n",
    "x_train['mean_len'] = df['mean_len']\n",
    "x_train['mean_char'] = df['mean_char']"
   ]
  },
  {
   "cell_type": "code",
   "execution_count": 53,
   "metadata": {
    "collapsed": false
   },
   "outputs": [
    {
     "data": {
      "text/plain": [
       "(2345796, 3)"
      ]
     },
     "execution_count": 53,
     "metadata": {},
     "output_type": "execute_result"
    }
   ],
   "source": [
    "df = df_test.copy(deep=False)\n",
    "df = df.fillna(' ')\n",
    "df.shape"
   ]
  },
  {
   "cell_type": "code",
   "execution_count": 31,
   "metadata": {
    "collapsed": false
   },
   "outputs": [
    {
     "name": "stdout",
     "output_type": "stream",
     "text": [
      "Wall time: 23 s\n"
     ]
    }
   ],
   "source": [
    "%%time\n",
    "df_test['len_1'] = df_test['question1'].apply(lambda x: len(x.split(' ')))\n",
    "df_test['len_2'] = df_test['question2'].apply(lambda x: len(x.split(' ')))\n",
    "df_test['len_diff'] = abs(df_test['len_1'] - df['len_2'])\n",
    "\n",
    "df_test['char_1'] = df_test['question1'].apply(lambda x: len(x))\n",
    "df_test['char_2'] = df_test['question2'].apply(lambda x: len(x))\n",
    "df_test['char_diff'] = abs(df_test['char_1'] - df_test['char_2'])\n",
    "\n",
    "df_test['max_word_1'] = df_test['question1'].apply(lambda x: max(len(word) for word in x.split(' ')))\n",
    "df_test['max_word_2'] = df_test['question2'].apply(lambda x: max(len(word) for word in x.split(' ')))\n",
    "df_test['max_word_diff'] = abs(df_test['max_word_1'] - df_test['max_word_2'])\n",
    "\n",
    "df_test['mean_len'] = (df_test['len_1'] + df_test['len_2'])/2.0\n",
    "df_test['mean_char'] = (df_test['char_1'] + df['char_2'])/2.0"
   ]
  },
  {
   "cell_type": "code",
   "execution_count": 48,
   "metadata": {
    "collapsed": false
   },
   "outputs": [
    {
     "data": {
      "text/plain": [
       "(2345796, 17)"
      ]
     },
     "execution_count": 48,
     "metadata": {},
     "output_type": "execute_result"
    }
   ],
   "source": [
    "df_test.shap"
   ]
  },
  {
   "cell_type": "code",
   "execution_count": 49,
   "metadata": {
    "collapsed": true
   },
   "outputs": [],
   "source": [
    "filepath = 'C:\\Ivan\\sphere\\Quora\\\\'\n",
    "df.to_csv(filepath+'df_17feat.csv', index=False)\n",
    "df_test.to_csv(filepath+'df_test_17feat.csv', index=False)"
   ]
  },
  {
   "cell_type": "markdown",
   "metadata": {},
   "source": [
    "## Page rank"
   ]
  },
  {
   "cell_type": "code",
   "execution_count": null,
   "metadata": {
    "collapsed": false
   },
   "outputs": [],
   "source": [
    "#Generating a graph of Questions and their neighbors\n",
    "def generate_qid_graph_table(row):\n",
    "\n",
    "    hash_key1 = row['qid1']\n",
    "    hash_key2 = row['qid2']\n",
    "        \n",
    "    qid_graph.setdefault(hash_key1, []).append(hash_key2)\n",
    "    qid_graph.setdefault(hash_key2, []).append(hash_key1)\n",
    "\n",
    "qid_graph = {}\n",
    "df.apply(generate_qid_graph_table, axis = 1);\n",
    "#df_test.apply(generate_qid_graph_table, axis = 1);"
   ]
  },
  {
   "cell_type": "code",
   "execution_count": null,
   "metadata": {
    "collapsed": true
   },
   "outputs": [],
   "source": [
    "def pagerank():\n",
    "\n",
    "    MAX_ITER = 20 #Let me know if you find an optimal iteration number!\n",
    "    d = 0.85\n",
    "    \n",
    "    #Initializing -- every node gets a uniform value!\n",
    "    pagerank_dict = {i:1/len(qid_graph) for i in qid_graph}\n",
    "    num_nodes = len(pagerank_dict)\n",
    "    \n",
    "    for iter in range(0, MAX_ITER):\n",
    "        \n",
    "        for node in qid_graph:    \n",
    "            local_pr = 0\n",
    "            \n",
    "            for neighbor in qid_graph[node]:\n",
    "                local_pr += pagerank_dict[neighbor]/len(qid_graph[neighbor])\n",
    "            \n",
    "            pagerank_dict[node] = (1-d)/num_nodes + d*local_pr\n",
    "\n",
    "    return pagerank_dict\n",
    "\n",
    "pagerank_dict = pagerank()"
   ]
  },
  {
   "cell_type": "markdown",
   "metadata": {},
   "source": [
    "## Download data"
   ]
  },
  {
   "cell_type": "code",
   "execution_count": 2,
   "metadata": {
    "collapsed": false
   },
   "outputs": [],
   "source": [
    "filepath = '/media/ivan/Acer/Ivan/sphere/Quora/'\n",
    "#filepath = 'C:\\Ivan\\sphere\\Quora\\\\'\n",
    "df = pd.read_csv(filepath+'df_kmeans_cos2.csv')\n",
    "df_test = pd.read_csv(filepath+'df_test_kmeans_cos2.csv')"
   ]
  },
  {
   "cell_type": "code",
   "execution_count": 14,
   "metadata": {
    "collapsed": false
   },
   "outputs": [
    {
     "data": {
      "text/plain": [
       "Index([u'id', u'qid1', u'qid2', u'question1', u'question2', u'is_duplicate',\n",
       "       u'word_match', u'tfidf_word_match', u'simple_word_share', u'len_1',\n",
       "       u'len_2', u'len_diff', u'char_1', u'char_2', u'char_diff',\n",
       "       u'max_word_1', u'max_word_2', u'max_word_diff', u'mean_len',\n",
       "       u'mean_char', u'bow_mean', u'km2', u'km3', u'km4', u'question1_clean',\n",
       "       u'question2_clean', u'cos_char', u'cos_word'],\n",
       "      dtype='object')"
      ]
     },
     "execution_count": 14,
     "metadata": {},
     "output_type": "execute_result"
    }
   ],
   "source": [
    "df.columns"
   ]
  },
  {
   "cell_type": "code",
   "execution_count": 15,
   "metadata": {
    "collapsed": false
   },
   "outputs": [
    {
     "data": {
      "text/plain": [
       "((404290, 13), (2345796, 13))"
      ]
     },
     "execution_count": 15,
     "metadata": {},
     "output_type": "execute_result"
    }
   ],
   "source": [
    "x_train = df[['word_match', 'tfidf_word_match', 'simple_word_share', 'len_diff', 'char_diff',\n",
    "              'max_word_diff', 'mean_len', 'mean_char', 'cos_char', 'cos_word', 'km2', 'km3', 'km4']].values\n",
    "x_test = df_test[['word_match', 'tfidf_word_match', 'simple_word_share', 'len_diff', 'char_diff',\n",
    "              'max_word_diff', 'mean_len', 'mean_char', 'cos_char', 'cos_word',  'km2', 'km3', 'km4']].values\n",
    "x_train.shape, x_test.shape"
   ]
  },
  {
   "cell_type": "markdown",
   "metadata": {},
   "source": [
    "## Rebalansing train data"
   ]
  },
  {
   "cell_type": "code",
   "execution_count": 33,
   "metadata": {
    "collapsed": false
   },
   "outputs": [
    {
     "name": "stdout",
     "output_type": "stream",
     "text": [
      "149263 255027\n",
      "1.96188733908\n",
      "0.165000044217\n",
      "CPU times: user 244 ms, sys: 460 ms, total: 704 ms\n",
      "Wall time: 720 ms\n"
     ]
    }
   ],
   "source": [
    "%%time\n",
    "y_train = df.is_duplicate.values\n",
    "pos_train = x_train[y_train == 1]\n",
    "neg_train = x_train[y_train == 0]\n",
    "\n",
    "print len(pos_train), len(neg_train)\n",
    "\n",
    "# Now we oversample the negative class\n",
    "# There is likely a much more elegant way to do this...\n",
    "p = 0.165\n",
    "scale = (len(pos_train)*(1-p) - p*len(neg_train)) / (p*len(neg_train))\n",
    "print scale\n",
    "\n",
    "#neg_train = np.concatenate([neg_train, neg_train.sample(n=int(scale*len(neg_train)), replace=True)])\n",
    "neg_train = np.concatenate([neg_train, neg_train[np.random.choice(len(neg_train), size=int(scale*len(neg_train)))]])\n",
    "\n",
    "print float(len(pos_train)) / (len(pos_train) + len(neg_train))\n",
    "\n",
    "x_train_new = np.concatenate([pos_train, neg_train])\n",
    "y_train_new = np.ones(len(pos_train)).tolist() + np.zeros(len(neg_train)).tolist()\n",
    "del pos_train, neg_train"
   ]
  },
  {
   "cell_type": "code",
   "execution_count": 8,
   "metadata": {
    "collapsed": false
   },
   "outputs": [
    {
     "data": {
      "text/plain": [
       "(2345796, 9)"
      ]
     },
     "execution_count": 8,
     "metadata": {},
     "output_type": "execute_result"
    }
   ],
   "source": [
    "np.isnan(x_test).shape"
   ]
  },
  {
   "cell_type": "code",
   "execution_count": 17,
   "metadata": {
    "collapsed": false
   },
   "outputs": [],
   "source": [
    "x_test[np.isnan(x_test)] = 0"
   ]
  },
  {
   "cell_type": "code",
   "execution_count": 10,
   "metadata": {
    "collapsed": false
   },
   "outputs": [
    {
     "data": {
      "text/plain": [
       "array([False], dtype=bool)"
      ]
     },
     "execution_count": 10,
     "metadata": {},
     "output_type": "execute_result"
    }
   ],
   "source": [
    "np.unique(np.isnan(x_test))"
   ]
  },
  {
   "cell_type": "code",
   "execution_count": 34,
   "metadata": {
    "collapsed": false
   },
   "outputs": [],
   "source": [
    "# Finally, we split some of the data off for validation\n",
    "from sklearn.cross_validation import train_test_split\n",
    "\n",
    "X_train, X_valid, Y_train, Y_valid = train_test_split(x_train_new, y_train_new, test_size=0.2, random_state=None)"
   ]
  },
  {
   "cell_type": "code",
   "execution_count": 14,
   "metadata": {
    "collapsed": false
   },
   "outputs": [
    {
     "name": "stdout",
     "output_type": "stream",
     "text": [
      "CPU times: user 21min 44s, sys: 5.79 s, total: 21min 50s\n",
      "Wall time: 8min 1s\n"
     ]
    }
   ],
   "source": [
    "%%time\n",
    "import xgboost as xgb\n",
    "from xgboost import XGBClassifier\n",
    "\n",
    "model = XGBClassifier(max_depth=4, learning_rate=0.2, n_estimators=400).fit(x_train_new, y_train_new)"
   ]
  },
  {
   "cell_type": "code",
   "execution_count": 38,
   "metadata": {
    "collapsed": false
   },
   "outputs": [
    {
     "name": "stderr",
     "output_type": "stream",
     "text": [
      "Will train until valid error hasn't decreased in 50 rounds.\n",
      "[0]\ttrain-logloss:0.595551\tvalid-logloss:0.595340\n",
      "[1]\ttrain-logloss:0.529802\tvalid-logloss:0.529483\n",
      "[2]\ttrain-logloss:0.483186\tvalid-logloss:0.483365\n",
      "[3]\ttrain-logloss:0.449822\tvalid-logloss:0.449815\n",
      "[4]\ttrain-logloss:0.424850\tvalid-logloss:0.424871\n",
      "[5]\ttrain-logloss:0.406343\tvalid-logloss:0.406026\n",
      "[6]\ttrain-logloss:0.391688\tvalid-logloss:0.391473\n",
      "[7]\ttrain-logloss:0.380270\tvalid-logloss:0.380213\n",
      "[8]\ttrain-logloss:0.371296\tvalid-logloss:0.371234\n",
      "[9]\ttrain-logloss:0.364490\tvalid-logloss:0.364536\n",
      "[10]\ttrain-logloss:0.358985\tvalid-logloss:0.358805\n",
      "[11]\ttrain-logloss:0.354390\tvalid-logloss:0.354448\n",
      "[12]\ttrain-logloss:0.350577\tvalid-logloss:0.350829\n",
      "[13]\ttrain-logloss:0.347954\tvalid-logloss:0.347768\n",
      "[14]\ttrain-logloss:0.345231\tvalid-logloss:0.345411\n",
      "[15]\ttrain-logloss:0.343378\tvalid-logloss:0.343452\n",
      "[16]\ttrain-logloss:0.341625\tvalid-logloss:0.341790\n",
      "[17]\ttrain-logloss:0.340250\tvalid-logloss:0.340475\n",
      "[18]\ttrain-logloss:0.339431\tvalid-logloss:0.339418\n",
      "[19]\ttrain-logloss:0.338311\tvalid-logloss:0.338501\n",
      "[20]\ttrain-logloss:0.337547\tvalid-logloss:0.337644\n",
      "[21]\ttrain-logloss:0.337054\tvalid-logloss:0.337040\n",
      "[22]\ttrain-logloss:0.336312\tvalid-logloss:0.336480\n",
      "[23]\ttrain-logloss:0.335718\tvalid-logloss:0.335915\n",
      "[24]\ttrain-logloss:0.335335\tvalid-logloss:0.335448\n",
      "[25]\ttrain-logloss:0.334950\tvalid-logloss:0.335061\n",
      "[26]\ttrain-logloss:0.334617\tvalid-logloss:0.334648\n",
      "[27]\ttrain-logloss:0.334094\tvalid-logloss:0.334344\n",
      "[28]\ttrain-logloss:0.333504\tvalid-logloss:0.333740\n",
      "[29]\ttrain-logloss:0.333247\tvalid-logloss:0.333406\n",
      "[30]\ttrain-logloss:0.333057\tvalid-logloss:0.333258\n",
      "[31]\ttrain-logloss:0.332641\tvalid-logloss:0.332902\n",
      "[32]\ttrain-logloss:0.332356\tvalid-logloss:0.332636\n",
      "[33]\ttrain-logloss:0.332225\tvalid-logloss:0.332505\n",
      "[34]\ttrain-logloss:0.332017\tvalid-logloss:0.332285\n",
      "[35]\ttrain-logloss:0.331556\tvalid-logloss:0.331843\n",
      "[36]\ttrain-logloss:0.331159\tvalid-logloss:0.331500\n",
      "[37]\ttrain-logloss:0.330720\tvalid-logloss:0.331058\n",
      "[38]\ttrain-logloss:0.330424\tvalid-logloss:0.330759\n",
      "[39]\ttrain-logloss:0.330144\tvalid-logloss:0.330461\n",
      "[40]\ttrain-logloss:0.329977\tvalid-logloss:0.330304\n",
      "[41]\ttrain-logloss:0.329737\tvalid-logloss:0.330120\n",
      "[42]\ttrain-logloss:0.329297\tvalid-logloss:0.329713\n",
      "[43]\ttrain-logloss:0.328872\tvalid-logloss:0.329296\n",
      "[44]\ttrain-logloss:0.328724\tvalid-logloss:0.329179\n",
      "[45]\ttrain-logloss:0.328439\tvalid-logloss:0.328935\n",
      "[46]\ttrain-logloss:0.328203\tvalid-logloss:0.328731\n",
      "[47]\ttrain-logloss:0.328078\tvalid-logloss:0.328590\n",
      "[48]\ttrain-logloss:0.327975\tvalid-logloss:0.328523\n",
      "[49]\ttrain-logloss:0.327710\tvalid-logloss:0.328285\n",
      "[50]\ttrain-logloss:0.327375\tvalid-logloss:0.327960\n",
      "[51]\ttrain-logloss:0.327270\tvalid-logloss:0.327873\n",
      "[52]\ttrain-logloss:0.327149\tvalid-logloss:0.327773\n",
      "[53]\ttrain-logloss:0.326976\tvalid-logloss:0.327616\n",
      "[54]\ttrain-logloss:0.326869\tvalid-logloss:0.327502\n",
      "[55]\ttrain-logloss:0.326725\tvalid-logloss:0.327349\n",
      "[56]\ttrain-logloss:0.326653\tvalid-logloss:0.327294\n",
      "[57]\ttrain-logloss:0.326488\tvalid-logloss:0.327125\n",
      "[58]\ttrain-logloss:0.326280\tvalid-logloss:0.326942\n",
      "[59]\ttrain-logloss:0.326144\tvalid-logloss:0.326821\n",
      "[60]\ttrain-logloss:0.325991\tvalid-logloss:0.326678\n",
      "[61]\ttrain-logloss:0.325783\tvalid-logloss:0.326466\n",
      "[62]\ttrain-logloss:0.325556\tvalid-logloss:0.326225\n",
      "[63]\ttrain-logloss:0.325426\tvalid-logloss:0.326112\n",
      "[64]\ttrain-logloss:0.325292\tvalid-logloss:0.326011\n",
      "[65]\ttrain-logloss:0.325107\tvalid-logloss:0.325844\n",
      "[66]\ttrain-logloss:0.325007\tvalid-logloss:0.325750\n",
      "[67]\ttrain-logloss:0.324888\tvalid-logloss:0.325645\n",
      "[68]\ttrain-logloss:0.324810\tvalid-logloss:0.325579\n",
      "[69]\ttrain-logloss:0.324766\tvalid-logloss:0.325559\n",
      "[70]\ttrain-logloss:0.324590\tvalid-logloss:0.325387\n",
      "[71]\ttrain-logloss:0.324487\tvalid-logloss:0.325306\n",
      "[72]\ttrain-logloss:0.324283\tvalid-logloss:0.325092\n",
      "[73]\ttrain-logloss:0.324106\tvalid-logloss:0.324906\n",
      "[74]\ttrain-logloss:0.323995\tvalid-logloss:0.324802\n",
      "[75]\ttrain-logloss:0.323894\tvalid-logloss:0.324721\n",
      "[76]\ttrain-logloss:0.323814\tvalid-logloss:0.324658\n",
      "[77]\ttrain-logloss:0.323650\tvalid-logloss:0.324544\n",
      "[78]\ttrain-logloss:0.323405\tvalid-logloss:0.324265\n",
      "[79]\ttrain-logloss:0.323271\tvalid-logloss:0.324145\n",
      "[80]\ttrain-logloss:0.323209\tvalid-logloss:0.324107\n",
      "[81]\ttrain-logloss:0.323095\tvalid-logloss:0.324020\n",
      "[82]\ttrain-logloss:0.323074\tvalid-logloss:0.324011\n",
      "[83]\ttrain-logloss:0.323013\tvalid-logloss:0.323976\n",
      "[84]\ttrain-logloss:0.322870\tvalid-logloss:0.323832\n",
      "[85]\ttrain-logloss:0.322774\tvalid-logloss:0.323740\n",
      "[86]\ttrain-logloss:0.322741\tvalid-logloss:0.323728\n",
      "[87]\ttrain-logloss:0.322555\tvalid-logloss:0.323553\n",
      "[88]\ttrain-logloss:0.322442\tvalid-logloss:0.323441\n",
      "[89]\ttrain-logloss:0.322292\tvalid-logloss:0.323292\n",
      "[90]\ttrain-logloss:0.322195\tvalid-logloss:0.323200\n",
      "[91]\ttrain-logloss:0.322147\tvalid-logloss:0.323173\n",
      "[92]\ttrain-logloss:0.322048\tvalid-logloss:0.323090\n",
      "[93]\ttrain-logloss:0.322006\tvalid-logloss:0.323053\n",
      "[94]\ttrain-logloss:0.321907\tvalid-logloss:0.322962\n",
      "[95]\ttrain-logloss:0.321801\tvalid-logloss:0.322889\n",
      "[96]\ttrain-logloss:0.321612\tvalid-logloss:0.322702\n",
      "[97]\ttrain-logloss:0.321488\tvalid-logloss:0.322579\n",
      "[98]\ttrain-logloss:0.321433\tvalid-logloss:0.322536\n",
      "[99]\ttrain-logloss:0.321401\tvalid-logloss:0.322520\n",
      "[100]\ttrain-logloss:0.321305\tvalid-logloss:0.322445\n",
      "[101]\ttrain-logloss:0.321257\tvalid-logloss:0.322417\n",
      "[102]\ttrain-logloss:0.321216\tvalid-logloss:0.322389\n",
      "[103]\ttrain-logloss:0.321178\tvalid-logloss:0.322357\n",
      "[104]\ttrain-logloss:0.321064\tvalid-logloss:0.322261\n",
      "[105]\ttrain-logloss:0.321016\tvalid-logloss:0.322226\n",
      "[106]\ttrain-logloss:0.320911\tvalid-logloss:0.322165\n",
      "[107]\ttrain-logloss:0.320853\tvalid-logloss:0.322120\n",
      "[108]\ttrain-logloss:0.320741\tvalid-logloss:0.322028\n",
      "[109]\ttrain-logloss:0.320684\tvalid-logloss:0.321971\n",
      "[110]\ttrain-logloss:0.320676\tvalid-logloss:0.321968\n",
      "[111]\ttrain-logloss:0.320612\tvalid-logloss:0.321931\n",
      "[112]\ttrain-logloss:0.320559\tvalid-logloss:0.321895\n",
      "[113]\ttrain-logloss:0.320509\tvalid-logloss:0.321861\n",
      "[114]\ttrain-logloss:0.320348\tvalid-logloss:0.321711\n",
      "[115]\ttrain-logloss:0.320222\tvalid-logloss:0.321576\n",
      "[116]\ttrain-logloss:0.320022\tvalid-logloss:0.321367\n",
      "[117]\ttrain-logloss:0.319955\tvalid-logloss:0.321304\n",
      "[118]\ttrain-logloss:0.319894\tvalid-logloss:0.321250\n",
      "[119]\ttrain-logloss:0.319867\tvalid-logloss:0.321239\n",
      "[120]\ttrain-logloss:0.319808\tvalid-logloss:0.321195\n",
      "[121]\ttrain-logloss:0.319665\tvalid-logloss:0.321072\n",
      "[122]\ttrain-logloss:0.319618\tvalid-logloss:0.321044\n",
      "[123]\ttrain-logloss:0.319513\tvalid-logloss:0.320940\n",
      "[124]\ttrain-logloss:0.319402\tvalid-logloss:0.320843\n",
      "[125]\ttrain-logloss:0.319337\tvalid-logloss:0.320797\n",
      "[126]\ttrain-logloss:0.319256\tvalid-logloss:0.320733\n",
      "[127]\ttrain-logloss:0.319179\tvalid-logloss:0.320665\n",
      "[128]\ttrain-logloss:0.319132\tvalid-logloss:0.320644\n",
      "[129]\ttrain-logloss:0.319054\tvalid-logloss:0.320585\n",
      "[130]\ttrain-logloss:0.318998\tvalid-logloss:0.320541\n",
      "[131]\ttrain-logloss:0.318904\tvalid-logloss:0.320445\n",
      "[132]\ttrain-logloss:0.318802\tvalid-logloss:0.320339\n",
      "[133]\ttrain-logloss:0.318738\tvalid-logloss:0.320298\n",
      "[134]\ttrain-logloss:0.318728\tvalid-logloss:0.320297\n",
      "[135]\ttrain-logloss:0.318652\tvalid-logloss:0.320231\n",
      "[136]\ttrain-logloss:0.318608\tvalid-logloss:0.320193\n",
      "[137]\ttrain-logloss:0.318569\tvalid-logloss:0.320163\n",
      "[138]\ttrain-logloss:0.318471\tvalid-logloss:0.320062\n",
      "[139]\ttrain-logloss:0.318389\tvalid-logloss:0.319988\n",
      "[140]\ttrain-logloss:0.318360\tvalid-logloss:0.319973\n",
      "[141]\ttrain-logloss:0.318283\tvalid-logloss:0.319926\n",
      "[142]\ttrain-logloss:0.318250\tvalid-logloss:0.319902\n",
      "[143]\ttrain-logloss:0.318193\tvalid-logloss:0.319862\n",
      "[144]\ttrain-logloss:0.318150\tvalid-logloss:0.319828\n",
      "[145]\ttrain-logloss:0.318139\tvalid-logloss:0.319822\n",
      "[146]\ttrain-logloss:0.318117\tvalid-logloss:0.319806\n",
      "[147]\ttrain-logloss:0.318043\tvalid-logloss:0.319757\n",
      "[148]\ttrain-logloss:0.317986\tvalid-logloss:0.319708\n",
      "[149]\ttrain-logloss:0.317938\tvalid-logloss:0.319665\n",
      "[150]\ttrain-logloss:0.317780\tvalid-logloss:0.319488\n",
      "[151]\ttrain-logloss:0.317723\tvalid-logloss:0.319446\n",
      "[152]\ttrain-logloss:0.317649\tvalid-logloss:0.319386\n",
      "[153]\ttrain-logloss:0.317614\tvalid-logloss:0.319361\n",
      "[154]\ttrain-logloss:0.317604\tvalid-logloss:0.319357\n",
      "[155]\ttrain-logloss:0.317538\tvalid-logloss:0.319304\n",
      "[156]\ttrain-logloss:0.317522\tvalid-logloss:0.319298\n",
      "[157]\ttrain-logloss:0.317516\tvalid-logloss:0.319299\n",
      "[158]\ttrain-logloss:0.317409\tvalid-logloss:0.319213\n",
      "[159]\ttrain-logloss:0.317335\tvalid-logloss:0.319163\n",
      "[160]\ttrain-logloss:0.317261\tvalid-logloss:0.319113\n",
      "[161]\ttrain-logloss:0.317193\tvalid-logloss:0.319064\n",
      "[162]\ttrain-logloss:0.317130\tvalid-logloss:0.319017\n",
      "[163]\ttrain-logloss:0.317085\tvalid-logloss:0.318972\n",
      "[164]\ttrain-logloss:0.317047\tvalid-logloss:0.318948\n",
      "[165]\ttrain-logloss:0.316990\tvalid-logloss:0.318904\n",
      "[166]\ttrain-logloss:0.316931\tvalid-logloss:0.318861\n",
      "[167]\ttrain-logloss:0.316880\tvalid-logloss:0.318822\n",
      "[168]\ttrain-logloss:0.316833\tvalid-logloss:0.318793\n",
      "[169]\ttrain-logloss:0.316747\tvalid-logloss:0.318718\n",
      "[170]\ttrain-logloss:0.316727\tvalid-logloss:0.318715\n",
      "[171]\ttrain-logloss:0.316719\tvalid-logloss:0.318709\n",
      "[172]\ttrain-logloss:0.316627\tvalid-logloss:0.318652\n",
      "[173]\ttrain-logloss:0.316587\tvalid-logloss:0.318615\n",
      "[174]\ttrain-logloss:0.316583\tvalid-logloss:0.318614\n",
      "[175]\ttrain-logloss:0.316522\tvalid-logloss:0.318571\n",
      "[176]\ttrain-logloss:0.316422\tvalid-logloss:0.318474\n",
      "[177]\ttrain-logloss:0.316342\tvalid-logloss:0.318412\n",
      "[178]\ttrain-logloss:0.316187\tvalid-logloss:0.318279\n",
      "[179]\ttrain-logloss:0.316168\tvalid-logloss:0.318269\n",
      "[180]\ttrain-logloss:0.316149\tvalid-logloss:0.318257\n",
      "[181]\ttrain-logloss:0.316050\tvalid-logloss:0.318168\n",
      "[182]\ttrain-logloss:0.316010\tvalid-logloss:0.318142\n",
      "[183]\ttrain-logloss:0.315963\tvalid-logloss:0.318121\n",
      "[184]\ttrain-logloss:0.315955\tvalid-logloss:0.318122\n",
      "[185]\ttrain-logloss:0.315924\tvalid-logloss:0.318101\n",
      "[186]\ttrain-logloss:0.315854\tvalid-logloss:0.318052\n",
      "[187]\ttrain-logloss:0.315795\tvalid-logloss:0.318011\n",
      "[188]\ttrain-logloss:0.315736\tvalid-logloss:0.317962\n",
      "[189]\ttrain-logloss:0.315718\tvalid-logloss:0.317956\n",
      "[190]\ttrain-logloss:0.315710\tvalid-logloss:0.317949\n",
      "[191]\ttrain-logloss:0.315673\tvalid-logloss:0.317921\n",
      "[192]\ttrain-logloss:0.315652\tvalid-logloss:0.317914\n",
      "[193]\ttrain-logloss:0.315597\tvalid-logloss:0.317874\n",
      "[194]\ttrain-logloss:0.315560\tvalid-logloss:0.317859\n",
      "[195]\ttrain-logloss:0.315538\tvalid-logloss:0.317857\n",
      "[196]\ttrain-logloss:0.315512\tvalid-logloss:0.317845\n",
      "[197]\ttrain-logloss:0.315456\tvalid-logloss:0.317801\n",
      "[198]\ttrain-logloss:0.315438\tvalid-logloss:0.317803\n"
     ]
    },
    {
     "name": "stdout",
     "output_type": "stream",
     "text": [
      "CPU times: user 9min 57s, sys: 820 ms, total: 9min 57s\n",
      "Wall time: 2min 50s\n"
     ]
    },
    {
     "name": "stderr",
     "output_type": "stream",
     "text": [
      "[199]\ttrain-logloss:0.315380\tvalid-logloss:0.317766\n"
     ]
    }
   ],
   "source": [
    "%%time\n",
    "import xgboost as xgb\n",
    "\n",
    "# Set our parameters for xgboost\n",
    "params = {}\n",
    "params['objective'] = 'binary:logistic'\n",
    "params['eval_metric'] = 'logloss'\n",
    "params['eta'] = 0.2\n",
    "params['max_depth'] = 4\n",
    "params['verbose_eval'] = 10\n",
    "\n",
    "d_train = xgb.DMatrix(X_train, label=Y_train)\n",
    "d_valid = xgb.DMatrix(X_valid, label=Y_valid)\n",
    "\n",
    "watchlist = [(d_train, 'train'), (d_valid, 'valid')]\n",
    "\n",
    "bst = xgb.train(params, d_train, 200, watchlist, early_stopping_rounds=50)"
   ]
  },
  {
   "cell_type": "code",
   "execution_count": 8,
   "metadata": {
    "collapsed": false
   },
   "outputs": [
    {
     "name": "stderr",
     "output_type": "stream",
     "text": [
      "Will train until valid error hasn't decreased in 50 rounds.\n",
      "[0]\ttrain-logloss:0.672437\tvalid-logloss:0.671908\n",
      "[1]\ttrain-logloss:0.651605\tvalid-logloss:0.651926\n",
      "[2]\ttrain-logloss:0.634362\tvalid-logloss:0.633734\n",
      "[3]\ttrain-logloss:0.616965\tvalid-logloss:0.616709\n",
      "[4]\ttrain-logloss:0.601217\tvalid-logloss:0.601070\n",
      "[5]\ttrain-logloss:0.586773\tvalid-logloss:0.586416\n",
      "[6]\ttrain-logloss:0.573148\tvalid-logloss:0.572655\n",
      "[7]\ttrain-logloss:0.559906\tvalid-logloss:0.559952\n",
      "[8]\ttrain-logloss:0.548466\tvalid-logloss:0.548024\n",
      "[9]\ttrain-logloss:0.537243\tvalid-logloss:0.536683\n",
      "[10]\ttrain-logloss:0.526505\tvalid-logloss:0.526155\n",
      "[11]\ttrain-logloss:0.516668\tvalid-logloss:0.516364\n",
      "[12]\ttrain-logloss:0.507875\tvalid-logloss:0.507178\n",
      "[13]\ttrain-logloss:0.499171\tvalid-logloss:0.498344\n",
      "[14]\ttrain-logloss:0.490866\tvalid-logloss:0.490211\n",
      "[15]\ttrain-logloss:0.483126\tvalid-logloss:0.482517\n",
      "[16]\ttrain-logloss:0.475465\tvalid-logloss:0.475255\n",
      "[17]\ttrain-logloss:0.468519\tvalid-logloss:0.468431\n",
      "[18]\ttrain-logloss:0.462501\tvalid-logloss:0.461951\n",
      "[19]\ttrain-logloss:0.456479\tvalid-logloss:0.455861\n",
      "[20]\ttrain-logloss:0.450706\tvalid-logloss:0.450076\n",
      "[21]\ttrain-logloss:0.445193\tvalid-logloss:0.444643\n",
      "[22]\ttrain-logloss:0.440157\tvalid-logloss:0.439435\n",
      "[23]\ttrain-logloss:0.435011\tvalid-logloss:0.434492\n",
      "[24]\ttrain-logloss:0.430540\tvalid-logloss:0.429932\n",
      "[25]\ttrain-logloss:0.426030\tvalid-logloss:0.425580\n",
      "[26]\ttrain-logloss:0.421976\tvalid-logloss:0.421345\n",
      "[27]\ttrain-logloss:0.417982\tvalid-logloss:0.417427\n",
      "[28]\ttrain-logloss:0.414141\tvalid-logloss:0.413745\n",
      "[29]\ttrain-logloss:0.410951\tvalid-logloss:0.410125\n",
      "[30]\ttrain-logloss:0.407498\tvalid-logloss:0.406750\n",
      "[31]\ttrain-logloss:0.404003\tvalid-logloss:0.403503\n",
      "[32]\ttrain-logloss:0.401361\tvalid-logloss:0.400503\n",
      "[33]\ttrain-logloss:0.398204\tvalid-logloss:0.397605\n",
      "[34]\ttrain-logloss:0.395679\tvalid-logloss:0.394852\n",
      "[35]\ttrain-logloss:0.392685\tvalid-logloss:0.392181\n",
      "[36]\ttrain-logloss:0.390420\tvalid-logloss:0.389753\n",
      "[37]\ttrain-logloss:0.388215\tvalid-logloss:0.387384\n",
      "[38]\ttrain-logloss:0.385646\tvalid-logloss:0.385168\n",
      "[39]\ttrain-logloss:0.383588\tvalid-logloss:0.383047\n",
      "[40]\ttrain-logloss:0.381561\tvalid-logloss:0.380945\n",
      "[41]\ttrain-logloss:0.379622\tvalid-logloss:0.379041\n",
      "[42]\ttrain-logloss:0.377780\tvalid-logloss:0.377155\n",
      "[43]\ttrain-logloss:0.375921\tvalid-logloss:0.375369\n",
      "[44]\ttrain-logloss:0.374230\tvalid-logloss:0.373624\n",
      "[45]\ttrain-logloss:0.372520\tvalid-logloss:0.371934\n",
      "[46]\ttrain-logloss:0.371055\tvalid-logloss:0.370457\n",
      "[47]\ttrain-logloss:0.369386\tvalid-logloss:0.368980\n",
      "[48]\ttrain-logloss:0.368266\tvalid-logloss:0.367586\n",
      "[49]\ttrain-logloss:0.366872\tvalid-logloss:0.366250\n",
      "[50]\ttrain-logloss:0.365428\tvalid-logloss:0.364965\n",
      "[51]\ttrain-logloss:0.364102\tvalid-logloss:0.363693\n",
      "[52]\ttrain-logloss:0.363217\tvalid-logloss:0.362506\n",
      "[53]\ttrain-logloss:0.361869\tvalid-logloss:0.361473\n",
      "[54]\ttrain-logloss:0.361124\tvalid-logloss:0.360326\n",
      "[55]\ttrain-logloss:0.359960\tvalid-logloss:0.359378\n",
      "[56]\ttrain-logloss:0.358749\tvalid-logloss:0.358438\n",
      "[57]\ttrain-logloss:0.358036\tvalid-logloss:0.357488\n",
      "[58]\ttrain-logloss:0.356963\tvalid-logloss:0.356611\n",
      "[59]\ttrain-logloss:0.356356\tvalid-logloss:0.355739\n",
      "[60]\ttrain-logloss:0.355310\tvalid-logloss:0.354923\n",
      "[61]\ttrain-logloss:0.354661\tvalid-logloss:0.354128\n",
      "[62]\ttrain-logloss:0.354168\tvalid-logloss:0.353350\n",
      "[63]\ttrain-logloss:0.353118\tvalid-logloss:0.352728\n",
      "[64]\ttrain-logloss:0.352593\tvalid-logloss:0.351999\n",
      "[65]\ttrain-logloss:0.351727\tvalid-logloss:0.351273\n",
      "[66]\ttrain-logloss:0.351170\tvalid-logloss:0.350644\n",
      "[67]\ttrain-logloss:0.350672\tvalid-logloss:0.349966\n",
      "[68]\ttrain-logloss:0.349865\tvalid-logloss:0.349425\n",
      "[69]\ttrain-logloss:0.349429\tvalid-logloss:0.348884\n",
      "[70]\ttrain-logloss:0.348977\tvalid-logloss:0.348376\n",
      "[71]\ttrain-logloss:0.348213\tvalid-logloss:0.347766\n",
      "[72]\ttrain-logloss:0.347806\tvalid-logloss:0.347274\n",
      "[73]\ttrain-logloss:0.347562\tvalid-logloss:0.346824\n",
      "[74]\ttrain-logloss:0.347140\tvalid-logloss:0.346371\n",
      "[75]\ttrain-logloss:0.346414\tvalid-logloss:0.345941\n",
      "[76]\ttrain-logloss:0.346039\tvalid-logloss:0.345491\n",
      "[77]\ttrain-logloss:0.345786\tvalid-logloss:0.345081\n",
      "[78]\ttrain-logloss:0.345444\tvalid-logloss:0.344700\n",
      "[79]\ttrain-logloss:0.344768\tvalid-logloss:0.344309\n",
      "[80]\ttrain-logloss:0.344395\tvalid-logloss:0.344021\n",
      "[81]\ttrain-logloss:0.344198\tvalid-logloss:0.343657\n",
      "[82]\ttrain-logloss:0.343867\tvalid-logloss:0.343305\n",
      "[83]\ttrain-logloss:0.343633\tvalid-logloss:0.342924\n",
      "[84]\ttrain-logloss:0.343013\tvalid-logloss:0.342676\n",
      "[85]\ttrain-logloss:0.342679\tvalid-logloss:0.342337\n",
      "[86]\ttrain-logloss:0.342489\tvalid-logloss:0.342001\n",
      "[87]\ttrain-logloss:0.342286\tvalid-logloss:0.341758\n",
      "[88]\ttrain-logloss:0.341994\tvalid-logloss:0.341436\n",
      "[89]\ttrain-logloss:0.341815\tvalid-logloss:0.341165\n",
      "[90]\ttrain-logloss:0.341261\tvalid-logloss:0.340968\n",
      "[91]\ttrain-logloss:0.341057\tvalid-logloss:0.340668\n",
      "[92]\ttrain-logloss:0.340790\tvalid-logloss:0.340461\n",
      "[93]\ttrain-logloss:0.340605\tvalid-logloss:0.340176\n",
      "[94]\ttrain-logloss:0.340490\tvalid-logloss:0.340007\n",
      "[95]\ttrain-logloss:0.340299\tvalid-logloss:0.339775\n",
      "[96]\ttrain-logloss:0.340128\tvalid-logloss:0.339623\n",
      "[97]\ttrain-logloss:0.339939\tvalid-logloss:0.339366\n",
      "[98]\ttrain-logloss:0.339832\tvalid-logloss:0.339214\n",
      "[99]\ttrain-logloss:0.339367\tvalid-logloss:0.339083\n",
      "[100]\ttrain-logloss:0.339206\tvalid-logloss:0.338859\n",
      "[101]\ttrain-logloss:0.339016\tvalid-logloss:0.338743\n",
      "[102]\ttrain-logloss:0.338896\tvalid-logloss:0.338615\n",
      "[103]\ttrain-logloss:0.338756\tvalid-logloss:0.338404\n",
      "[104]\ttrain-logloss:0.338646\tvalid-logloss:0.338315\n",
      "[105]\ttrain-logloss:0.338566\tvalid-logloss:0.338186\n",
      "[106]\ttrain-logloss:0.338457\tvalid-logloss:0.338033\n",
      "[107]\ttrain-logloss:0.338300\tvalid-logloss:0.337933\n",
      "[108]\ttrain-logloss:0.338168\tvalid-logloss:0.337776\n",
      "[109]\ttrain-logloss:0.338079\tvalid-logloss:0.337626\n",
      "[110]\ttrain-logloss:0.338014\tvalid-logloss:0.337527\n",
      "[111]\ttrain-logloss:0.337633\tvalid-logloss:0.337407\n",
      "[112]\ttrain-logloss:0.337547\tvalid-logloss:0.337311\n",
      "[113]\ttrain-logloss:0.337408\tvalid-logloss:0.337197\n",
      "[114]\ttrain-logloss:0.337300\tvalid-logloss:0.337033\n",
      "[115]\ttrain-logloss:0.337205\tvalid-logloss:0.336906\n",
      "[116]\ttrain-logloss:0.337021\tvalid-logloss:0.336808\n",
      "[117]\ttrain-logloss:0.336961\tvalid-logloss:0.336736\n",
      "[118]\ttrain-logloss:0.336856\tvalid-logloss:0.336638\n",
      "[119]\ttrain-logloss:0.336750\tvalid-logloss:0.336484\n",
      "[120]\ttrain-logloss:0.336691\tvalid-logloss:0.336411\n",
      "[121]\ttrain-logloss:0.336613\tvalid-logloss:0.336312\n",
      "[122]\ttrain-logloss:0.336547\tvalid-logloss:0.336253\n",
      "[123]\ttrain-logloss:0.336431\tvalid-logloss:0.336133\n",
      "[124]\ttrain-logloss:0.336368\tvalid-logloss:0.336054\n",
      "[125]\ttrain-logloss:0.336314\tvalid-logloss:0.335950\n",
      "[126]\ttrain-logloss:0.336224\tvalid-logloss:0.335841\n",
      "[127]\ttrain-logloss:0.336153\tvalid-logloss:0.335760\n",
      "[128]\ttrain-logloss:0.336089\tvalid-logloss:0.335694\n",
      "[129]\ttrain-logloss:0.335928\tvalid-logloss:0.335612\n",
      "[130]\ttrain-logloss:0.335860\tvalid-logloss:0.335538\n",
      "[131]\ttrain-logloss:0.335779\tvalid-logloss:0.335447\n",
      "[132]\ttrain-logloss:0.335677\tvalid-logloss:0.335343\n",
      "[133]\ttrain-logloss:0.335603\tvalid-logloss:0.335219\n",
      "[134]\ttrain-logloss:0.335538\tvalid-logloss:0.335168\n",
      "[135]\ttrain-logloss:0.335462\tvalid-logloss:0.335096\n",
      "[136]\ttrain-logloss:0.335396\tvalid-logloss:0.335002\n",
      "[137]\ttrain-logloss:0.335318\tvalid-logloss:0.334925\n",
      "[138]\ttrain-logloss:0.335251\tvalid-logloss:0.334858\n",
      "[139]\ttrain-logloss:0.334979\tvalid-logloss:0.334805\n",
      "[140]\ttrain-logloss:0.334899\tvalid-logloss:0.334725\n",
      "[141]\ttrain-logloss:0.334808\tvalid-logloss:0.334630\n",
      "[142]\ttrain-logloss:0.334740\tvalid-logloss:0.334548\n",
      "[143]\ttrain-logloss:0.334682\tvalid-logloss:0.334494\n",
      "[144]\ttrain-logloss:0.334622\tvalid-logloss:0.334439\n",
      "[145]\ttrain-logloss:0.334548\tvalid-logloss:0.334363\n",
      "[146]\ttrain-logloss:0.334462\tvalid-logloss:0.334242\n",
      "[147]\ttrain-logloss:0.334366\tvalid-logloss:0.334170\n",
      "[148]\ttrain-logloss:0.334313\tvalid-logloss:0.334110\n",
      "[149]\ttrain-logloss:0.334189\tvalid-logloss:0.333991\n",
      "[150]\ttrain-logloss:0.334128\tvalid-logloss:0.333946\n",
      "[151]\ttrain-logloss:0.334012\tvalid-logloss:0.333805\n",
      "[152]\ttrain-logloss:0.333945\tvalid-logloss:0.333749\n",
      "[153]\ttrain-logloss:0.333821\tvalid-logloss:0.333638\n",
      "[154]\ttrain-logloss:0.333772\tvalid-logloss:0.333588\n",
      "[155]\ttrain-logloss:0.333724\tvalid-logloss:0.333543\n",
      "[156]\ttrain-logloss:0.333675\tvalid-logloss:0.333501\n",
      "[157]\ttrain-logloss:0.333552\tvalid-logloss:0.333450\n",
      "[158]\ttrain-logloss:0.333493\tvalid-logloss:0.333387\n",
      "[159]\ttrain-logloss:0.333450\tvalid-logloss:0.333341\n",
      "[160]\ttrain-logloss:0.333402\tvalid-logloss:0.333296\n",
      "[161]\ttrain-logloss:0.333364\tvalid-logloss:0.333262\n",
      "[162]\ttrain-logloss:0.333300\tvalid-logloss:0.333200\n",
      "[163]\ttrain-logloss:0.333247\tvalid-logloss:0.333141\n",
      "[164]\ttrain-logloss:0.333193\tvalid-logloss:0.333085\n",
      "[165]\ttrain-logloss:0.333145\tvalid-logloss:0.333033\n",
      "[166]\ttrain-logloss:0.333124\tvalid-logloss:0.333012\n",
      "[167]\ttrain-logloss:0.333084\tvalid-logloss:0.332979\n",
      "[168]\ttrain-logloss:0.333007\tvalid-logloss:0.332907\n",
      "[169]\ttrain-logloss:0.332917\tvalid-logloss:0.332821\n",
      "[170]\ttrain-logloss:0.332834\tvalid-logloss:0.332734\n",
      "[171]\ttrain-logloss:0.332789\tvalid-logloss:0.332700\n",
      "[172]\ttrain-logloss:0.332758\tvalid-logloss:0.332666\n",
      "[173]\ttrain-logloss:0.332676\tvalid-logloss:0.332590\n",
      "[174]\ttrain-logloss:0.332608\tvalid-logloss:0.332501\n",
      "[175]\ttrain-logloss:0.332561\tvalid-logloss:0.332455\n",
      "[176]\ttrain-logloss:0.332481\tvalid-logloss:0.332373\n",
      "[177]\ttrain-logloss:0.332384\tvalid-logloss:0.332275\n",
      "[178]\ttrain-logloss:0.332349\tvalid-logloss:0.332245\n",
      "[179]\ttrain-logloss:0.332305\tvalid-logloss:0.332203\n",
      "[180]\ttrain-logloss:0.332220\tvalid-logloss:0.332123\n",
      "[181]\ttrain-logloss:0.332152\tvalid-logloss:0.332059\n",
      "[182]\ttrain-logloss:0.332113\tvalid-logloss:0.332021\n",
      "[183]\ttrain-logloss:0.332034\tvalid-logloss:0.331945\n",
      "[184]\ttrain-logloss:0.331921\tvalid-logloss:0.331836\n",
      "[185]\ttrain-logloss:0.331895\tvalid-logloss:0.331814\n",
      "[186]\ttrain-logloss:0.331881\tvalid-logloss:0.331797\n",
      "[187]\ttrain-logloss:0.331840\tvalid-logloss:0.331762\n",
      "[188]\ttrain-logloss:0.331724\tvalid-logloss:0.331647\n",
      "[189]\ttrain-logloss:0.331666\tvalid-logloss:0.331593\n",
      "[190]\ttrain-logloss:0.331637\tvalid-logloss:0.331565\n",
      "[191]\ttrain-logloss:0.331552\tvalid-logloss:0.331485\n",
      "[192]\ttrain-logloss:0.331533\tvalid-logloss:0.331467\n",
      "[193]\ttrain-logloss:0.331466\tvalid-logloss:0.331409\n",
      "[194]\ttrain-logloss:0.331389\tvalid-logloss:0.331334\n",
      "[195]\ttrain-logloss:0.331313\tvalid-logloss:0.331265\n",
      "[196]\ttrain-logloss:0.331196\tvalid-logloss:0.331149\n",
      "[197]\ttrain-logloss:0.331135\tvalid-logloss:0.331092\n",
      "[198]\ttrain-logloss:0.331121\tvalid-logloss:0.331072\n",
      "[199]\ttrain-logloss:0.331053\tvalid-logloss:0.331006\n",
      "[200]\ttrain-logloss:0.330979\tvalid-logloss:0.330933\n",
      "[201]\ttrain-logloss:0.330892\tvalid-logloss:0.330854\n",
      "[202]\ttrain-logloss:0.330837\tvalid-logloss:0.330802\n",
      "[203]\ttrain-logloss:0.330813\tvalid-logloss:0.330779\n",
      "[204]\ttrain-logloss:0.330765\tvalid-logloss:0.330731\n",
      "[205]\ttrain-logloss:0.330730\tvalid-logloss:0.330695\n",
      "[206]\ttrain-logloss:0.330637\tvalid-logloss:0.330600\n",
      "[207]\ttrain-logloss:0.330552\tvalid-logloss:0.330511\n",
      "[208]\ttrain-logloss:0.330509\tvalid-logloss:0.330473\n",
      "[209]\ttrain-logloss:0.330450\tvalid-logloss:0.330422\n",
      "[210]\ttrain-logloss:0.330415\tvalid-logloss:0.330385\n",
      "[211]\ttrain-logloss:0.330323\tvalid-logloss:0.330295\n",
      "[212]\ttrain-logloss:0.330265\tvalid-logloss:0.330244\n",
      "[213]\ttrain-logloss:0.330213\tvalid-logloss:0.330194\n",
      "[214]\ttrain-logloss:0.330163\tvalid-logloss:0.330153\n",
      "[215]\ttrain-logloss:0.330110\tvalid-logloss:0.330112\n",
      "[216]\ttrain-logloss:0.330086\tvalid-logloss:0.330088\n",
      "[217]\ttrain-logloss:0.330041\tvalid-logloss:0.330046\n",
      "[218]\ttrain-logloss:0.330029\tvalid-logloss:0.330037\n",
      "[219]\ttrain-logloss:0.329979\tvalid-logloss:0.329994\n",
      "[220]\ttrain-logloss:0.329920\tvalid-logloss:0.329944\n",
      "[221]\ttrain-logloss:0.329828\tvalid-logloss:0.329852\n",
      "[222]\ttrain-logloss:0.329778\tvalid-logloss:0.329800\n",
      "[223]\ttrain-logloss:0.329724\tvalid-logloss:0.329752\n",
      "[224]\ttrain-logloss:0.329696\tvalid-logloss:0.329725\n",
      "[225]\ttrain-logloss:0.329625\tvalid-logloss:0.329652\n",
      "[226]\ttrain-logloss:0.329586\tvalid-logloss:0.329609\n",
      "[227]\ttrain-logloss:0.329520\tvalid-logloss:0.329546\n",
      "[228]\ttrain-logloss:0.329431\tvalid-logloss:0.329457\n",
      "[229]\ttrain-logloss:0.329409\tvalid-logloss:0.329439\n",
      "[230]\ttrain-logloss:0.329366\tvalid-logloss:0.329403\n",
      "[231]\ttrain-logloss:0.329323\tvalid-logloss:0.329367\n",
      "[232]\ttrain-logloss:0.329274\tvalid-logloss:0.329318\n",
      "[233]\ttrain-logloss:0.329223\tvalid-logloss:0.329271\n",
      "[234]\ttrain-logloss:0.329166\tvalid-logloss:0.329216\n",
      "[235]\ttrain-logloss:0.329130\tvalid-logloss:0.329179\n",
      "[236]\ttrain-logloss:0.329106\tvalid-logloss:0.329162\n",
      "[237]\ttrain-logloss:0.329098\tvalid-logloss:0.329153\n",
      "[238]\ttrain-logloss:0.329062\tvalid-logloss:0.329118\n",
      "[239]\ttrain-logloss:0.329011\tvalid-logloss:0.329071\n",
      "[240]\ttrain-logloss:0.328975\tvalid-logloss:0.329043\n",
      "[241]\ttrain-logloss:0.328912\tvalid-logloss:0.328992\n",
      "[242]\ttrain-logloss:0.328831\tvalid-logloss:0.328916\n",
      "[243]\ttrain-logloss:0.328770\tvalid-logloss:0.328871\n",
      "[244]\ttrain-logloss:0.328741\tvalid-logloss:0.328845\n",
      "[245]\ttrain-logloss:0.328698\tvalid-logloss:0.328804\n",
      "[246]\ttrain-logloss:0.328660\tvalid-logloss:0.328776\n",
      "[247]\ttrain-logloss:0.328642\tvalid-logloss:0.328762\n",
      "[248]\ttrain-logloss:0.328618\tvalid-logloss:0.328738\n",
      "[249]\ttrain-logloss:0.328593\tvalid-logloss:0.328715\n",
      "[250]\ttrain-logloss:0.328580\tvalid-logloss:0.328703\n",
      "[251]\ttrain-logloss:0.328520\tvalid-logloss:0.328645\n",
      "[252]\ttrain-logloss:0.328495\tvalid-logloss:0.328624\n",
      "[253]\ttrain-logloss:0.328425\tvalid-logloss:0.328554\n",
      "[254]\ttrain-logloss:0.328400\tvalid-logloss:0.328536\n",
      "[255]\ttrain-logloss:0.328367\tvalid-logloss:0.328508\n",
      "[256]\ttrain-logloss:0.328327\tvalid-logloss:0.328471\n",
      "[257]\ttrain-logloss:0.328271\tvalid-logloss:0.328416\n",
      "[258]\ttrain-logloss:0.328261\tvalid-logloss:0.328411\n",
      "[259]\ttrain-logloss:0.328196\tvalid-logloss:0.328351\n",
      "[260]\ttrain-logloss:0.328172\tvalid-logloss:0.328332\n",
      "[261]\ttrain-logloss:0.328118\tvalid-logloss:0.328279\n",
      "[262]\ttrain-logloss:0.328066\tvalid-logloss:0.328229\n",
      "[263]\ttrain-logloss:0.328044\tvalid-logloss:0.328210\n",
      "[264]\ttrain-logloss:0.327996\tvalid-logloss:0.328164\n",
      "[265]\ttrain-logloss:0.327977\tvalid-logloss:0.328147\n",
      "[266]\ttrain-logloss:0.327941\tvalid-logloss:0.328114\n",
      "[267]\ttrain-logloss:0.327920\tvalid-logloss:0.328092\n",
      "[268]\ttrain-logloss:0.327873\tvalid-logloss:0.328058\n",
      "[269]\ttrain-logloss:0.327806\tvalid-logloss:0.327999\n",
      "[270]\ttrain-logloss:0.327777\tvalid-logloss:0.327974\n",
      "[271]\ttrain-logloss:0.327730\tvalid-logloss:0.327929\n",
      "[272]\ttrain-logloss:0.327683\tvalid-logloss:0.327885\n",
      "[273]\ttrain-logloss:0.327649\tvalid-logloss:0.327854\n",
      "[274]\ttrain-logloss:0.327631\tvalid-logloss:0.327838\n",
      "[275]\ttrain-logloss:0.327614\tvalid-logloss:0.327819\n",
      "[276]\ttrain-logloss:0.327591\tvalid-logloss:0.327800\n",
      "[277]\ttrain-logloss:0.327564\tvalid-logloss:0.327773\n",
      "[278]\ttrain-logloss:0.327527\tvalid-logloss:0.327745\n",
      "[279]\ttrain-logloss:0.327492\tvalid-logloss:0.327717\n",
      "[280]\ttrain-logloss:0.327396\tvalid-logloss:0.327624\n",
      "[281]\ttrain-logloss:0.327372\tvalid-logloss:0.327603\n",
      "[282]\ttrain-logloss:0.327313\tvalid-logloss:0.327540\n",
      "[283]\ttrain-logloss:0.327279\tvalid-logloss:0.327510\n",
      "[284]\ttrain-logloss:0.327241\tvalid-logloss:0.327480\n",
      "[285]\ttrain-logloss:0.327175\tvalid-logloss:0.327418\n",
      "[286]\ttrain-logloss:0.327156\tvalid-logloss:0.327404\n",
      "[287]\ttrain-logloss:0.327127\tvalid-logloss:0.327376\n",
      "[288]\ttrain-logloss:0.327087\tvalid-logloss:0.327334\n",
      "[289]\ttrain-logloss:0.327073\tvalid-logloss:0.327321\n",
      "[290]\ttrain-logloss:0.327038\tvalid-logloss:0.327292\n",
      "[291]\ttrain-logloss:0.326988\tvalid-logloss:0.327254\n",
      "[292]\ttrain-logloss:0.326976\tvalid-logloss:0.327247\n",
      "[293]\ttrain-logloss:0.326936\tvalid-logloss:0.327212\n",
      "[294]\ttrain-logloss:0.326930\tvalid-logloss:0.327207\n",
      "[295]\ttrain-logloss:0.326896\tvalid-logloss:0.327180\n",
      "[296]\ttrain-logloss:0.326848\tvalid-logloss:0.327141\n",
      "[297]\ttrain-logloss:0.326832\tvalid-logloss:0.327125\n",
      "[298]\ttrain-logloss:0.326785\tvalid-logloss:0.327087\n",
      "[299]\ttrain-logloss:0.326773\tvalid-logloss:0.327077\n",
      "[300]\ttrain-logloss:0.326760\tvalid-logloss:0.327066\n",
      "[301]\ttrain-logloss:0.326736\tvalid-logloss:0.327047\n",
      "[302]\ttrain-logloss:0.326728\tvalid-logloss:0.327038\n",
      "[303]\ttrain-logloss:0.326699\tvalid-logloss:0.327011\n",
      "[304]\ttrain-logloss:0.326687\tvalid-logloss:0.327003\n",
      "[305]\ttrain-logloss:0.326667\tvalid-logloss:0.326985\n",
      "[306]\ttrain-logloss:0.326610\tvalid-logloss:0.326927\n",
      "[307]\ttrain-logloss:0.326557\tvalid-logloss:0.326883\n",
      "[308]\ttrain-logloss:0.326538\tvalid-logloss:0.326869\n",
      "[309]\ttrain-logloss:0.326502\tvalid-logloss:0.326842\n",
      "[310]\ttrain-logloss:0.326493\tvalid-logloss:0.326833\n",
      "[311]\ttrain-logloss:0.326488\tvalid-logloss:0.326831\n",
      "[312]\ttrain-logloss:0.326456\tvalid-logloss:0.326805\n",
      "[313]\ttrain-logloss:0.326427\tvalid-logloss:0.326775\n",
      "[314]\ttrain-logloss:0.326399\tvalid-logloss:0.326753\n",
      "[315]\ttrain-logloss:0.326378\tvalid-logloss:0.326738\n",
      "[316]\ttrain-logloss:0.326315\tvalid-logloss:0.326673\n",
      "[317]\ttrain-logloss:0.326268\tvalid-logloss:0.326629\n",
      "[318]\ttrain-logloss:0.326262\tvalid-logloss:0.326624\n",
      "[319]\ttrain-logloss:0.326249\tvalid-logloss:0.326618\n",
      "[320]\ttrain-logloss:0.326236\tvalid-logloss:0.326606\n",
      "[321]\ttrain-logloss:0.326187\tvalid-logloss:0.326567\n",
      "[322]\ttrain-logloss:0.326177\tvalid-logloss:0.326558\n",
      "[323]\ttrain-logloss:0.326162\tvalid-logloss:0.326546\n",
      "[324]\ttrain-logloss:0.326128\tvalid-logloss:0.326519\n",
      "[325]\ttrain-logloss:0.326066\tvalid-logloss:0.326457\n",
      "[326]\ttrain-logloss:0.326054\tvalid-logloss:0.326448\n",
      "[327]\ttrain-logloss:0.326011\tvalid-logloss:0.326407\n",
      "[328]\ttrain-logloss:0.325989\tvalid-logloss:0.326390\n",
      "[329]\ttrain-logloss:0.325944\tvalid-logloss:0.326352\n",
      "[330]\ttrain-logloss:0.325934\tvalid-logloss:0.326348\n",
      "[331]\ttrain-logloss:0.325902\tvalid-logloss:0.326320\n",
      "[332]\ttrain-logloss:0.325877\tvalid-logloss:0.326300\n",
      "[333]\ttrain-logloss:0.325849\tvalid-logloss:0.326281\n",
      "[334]\ttrain-logloss:0.325825\tvalid-logloss:0.326263\n",
      "[335]\ttrain-logloss:0.325821\tvalid-logloss:0.326258\n",
      "[336]\ttrain-logloss:0.325779\tvalid-logloss:0.326222\n",
      "[337]\ttrain-logloss:0.325755\tvalid-logloss:0.326197\n",
      "[338]\ttrain-logloss:0.325725\tvalid-logloss:0.326165\n",
      "[339]\ttrain-logloss:0.325698\tvalid-logloss:0.326145\n",
      "[340]\ttrain-logloss:0.325686\tvalid-logloss:0.326137\n",
      "[341]\ttrain-logloss:0.325674\tvalid-logloss:0.326127\n",
      "[342]\ttrain-logloss:0.325635\tvalid-logloss:0.326086\n",
      "[343]\ttrain-logloss:0.325594\tvalid-logloss:0.326055\n",
      "[344]\ttrain-logloss:0.325567\tvalid-logloss:0.326025\n",
      "[345]\ttrain-logloss:0.325549\tvalid-logloss:0.326009\n",
      "[346]\ttrain-logloss:0.325519\tvalid-logloss:0.325979\n",
      "[347]\ttrain-logloss:0.325509\tvalid-logloss:0.325972\n",
      "[348]\ttrain-logloss:0.325500\tvalid-logloss:0.325965\n",
      "[349]\ttrain-logloss:0.325496\tvalid-logloss:0.325961\n",
      "[350]\ttrain-logloss:0.325481\tvalid-logloss:0.325951\n",
      "[351]\ttrain-logloss:0.325450\tvalid-logloss:0.325922\n",
      "[352]\ttrain-logloss:0.325423\tvalid-logloss:0.325897\n",
      "[353]\ttrain-logloss:0.325419\tvalid-logloss:0.325894\n",
      "[354]\ttrain-logloss:0.325410\tvalid-logloss:0.325888\n",
      "[355]\ttrain-logloss:0.325387\tvalid-logloss:0.325869\n",
      "[356]\ttrain-logloss:0.325363\tvalid-logloss:0.325849\n",
      "[357]\ttrain-logloss:0.325322\tvalid-logloss:0.325814\n",
      "[358]\ttrain-logloss:0.325283\tvalid-logloss:0.325781\n",
      "[359]\ttrain-logloss:0.325257\tvalid-logloss:0.325755\n",
      "[360]\ttrain-logloss:0.325234\tvalid-logloss:0.325736\n",
      "[361]\ttrain-logloss:0.325206\tvalid-logloss:0.325706\n",
      "[362]\ttrain-logloss:0.325191\tvalid-logloss:0.325695\n",
      "[363]\ttrain-logloss:0.325182\tvalid-logloss:0.325692\n",
      "[364]\ttrain-logloss:0.325176\tvalid-logloss:0.325685\n",
      "[365]\ttrain-logloss:0.325159\tvalid-logloss:0.325668\n",
      "[366]\ttrain-logloss:0.325133\tvalid-logloss:0.325646\n",
      "[367]\ttrain-logloss:0.325090\tvalid-logloss:0.325599\n",
      "[368]\ttrain-logloss:0.325075\tvalid-logloss:0.325587\n",
      "[369]\ttrain-logloss:0.325055\tvalid-logloss:0.325569\n",
      "[370]\ttrain-logloss:0.325041\tvalid-logloss:0.325557\n",
      "[371]\ttrain-logloss:0.325036\tvalid-logloss:0.325554\n",
      "[372]\ttrain-logloss:0.325015\tvalid-logloss:0.325535\n",
      "[373]\ttrain-logloss:0.325000\tvalid-logloss:0.325521\n",
      "[374]\ttrain-logloss:0.324973\tvalid-logloss:0.325497\n",
      "[375]\ttrain-logloss:0.324963\tvalid-logloss:0.325493\n",
      "[376]\ttrain-logloss:0.324923\tvalid-logloss:0.325460\n",
      "[377]\ttrain-logloss:0.324909\tvalid-logloss:0.325448\n",
      "[378]\ttrain-logloss:0.324896\tvalid-logloss:0.325438\n",
      "[379]\ttrain-logloss:0.324884\tvalid-logloss:0.325431\n",
      "[380]\ttrain-logloss:0.324841\tvalid-logloss:0.325392\n",
      "[381]\ttrain-logloss:0.324817\tvalid-logloss:0.325370\n",
      "[382]\ttrain-logloss:0.324799\tvalid-logloss:0.325357\n",
      "[383]\ttrain-logloss:0.324782\tvalid-logloss:0.325338\n",
      "[384]\ttrain-logloss:0.324776\tvalid-logloss:0.325333\n",
      "[385]\ttrain-logloss:0.324762\tvalid-logloss:0.325323\n",
      "[386]\ttrain-logloss:0.324749\tvalid-logloss:0.325309\n",
      "[387]\ttrain-logloss:0.324733\tvalid-logloss:0.325298\n",
      "[388]\ttrain-logloss:0.324700\tvalid-logloss:0.325278\n",
      "[389]\ttrain-logloss:0.324695\tvalid-logloss:0.325274\n",
      "[390]\ttrain-logloss:0.324691\tvalid-logloss:0.325272\n",
      "[391]\ttrain-logloss:0.324675\tvalid-logloss:0.325260\n",
      "[392]\ttrain-logloss:0.324633\tvalid-logloss:0.325227\n",
      "[393]\ttrain-logloss:0.324628\tvalid-logloss:0.325223\n",
      "[394]\ttrain-logloss:0.324615\tvalid-logloss:0.325216\n",
      "[395]\ttrain-logloss:0.324601\tvalid-logloss:0.325203\n",
      "[396]\ttrain-logloss:0.324573\tvalid-logloss:0.325177\n",
      "[397]\ttrain-logloss:0.324554\tvalid-logloss:0.325162\n",
      "[398]\ttrain-logloss:0.324549\tvalid-logloss:0.325159\n",
      "[399]\ttrain-logloss:0.324513\tvalid-logloss:0.325135\n"
     ]
    },
    {
     "name": "stdout",
     "output_type": "stream",
     "text": [
      "0\n",
      "1\n",
      "2\n",
      "3\n",
      "4\n",
      "5\n",
      "6\n",
      "7\n",
      "8\n",
      "9\n",
      "10\n",
      "11\n",
      "12\n",
      "13\n",
      "14\n",
      "15\n",
      "16\n",
      "17\n",
      "18\n",
      "19\n",
      "20\n",
      "21\n",
      "22\n",
      "23\n"
     ]
    },
    {
     "name": "stderr",
     "output_type": "stream",
     "text": [
      "Will train until valid error hasn't decreased in 50 rounds.\n",
      "[0]\ttrain-logloss:0.672437\tvalid-logloss:0.671908\n",
      "[1]\ttrain-logloss:0.651605\tvalid-logloss:0.651925\n",
      "[2]\ttrain-logloss:0.634362\tvalid-logloss:0.633734\n",
      "[3]\ttrain-logloss:0.616965\tvalid-logloss:0.616709\n",
      "[4]\ttrain-logloss:0.601217\tvalid-logloss:0.601070\n",
      "[5]\ttrain-logloss:0.586773\tvalid-logloss:0.586416\n",
      "[6]\ttrain-logloss:0.573148\tvalid-logloss:0.572655\n",
      "[7]\ttrain-logloss:0.559906\tvalid-logloss:0.559952\n",
      "[8]\ttrain-logloss:0.548466\tvalid-logloss:0.548024\n",
      "[9]\ttrain-logloss:0.537243\tvalid-logloss:0.536683\n",
      "[10]\ttrain-logloss:0.526505\tvalid-logloss:0.526155\n",
      "[11]\ttrain-logloss:0.516668\tvalid-logloss:0.516364\n",
      "[12]\ttrain-logloss:0.507875\tvalid-logloss:0.507178\n",
      "[13]\ttrain-logloss:0.499171\tvalid-logloss:0.498344\n",
      "[14]\ttrain-logloss:0.490866\tvalid-logloss:0.490211\n",
      "[15]\ttrain-logloss:0.483126\tvalid-logloss:0.482517\n",
      "[16]\ttrain-logloss:0.475465\tvalid-logloss:0.475255\n",
      "[17]\ttrain-logloss:0.468519\tvalid-logloss:0.468431\n",
      "[18]\ttrain-logloss:0.462501\tvalid-logloss:0.461951\n",
      "[19]\ttrain-logloss:0.456479\tvalid-logloss:0.455861\n",
      "[20]\ttrain-logloss:0.450706\tvalid-logloss:0.450076\n",
      "[21]\ttrain-logloss:0.445193\tvalid-logloss:0.444643\n",
      "[22]\ttrain-logloss:0.440157\tvalid-logloss:0.439435\n",
      "[23]\ttrain-logloss:0.435011\tvalid-logloss:0.434492\n",
      "[24]\ttrain-logloss:0.430540\tvalid-logloss:0.429932\n",
      "[25]\ttrain-logloss:0.426030\tvalid-logloss:0.425580\n",
      "[26]\ttrain-logloss:0.421976\tvalid-logloss:0.421346\n",
      "[27]\ttrain-logloss:0.417982\tvalid-logloss:0.417427\n",
      "[28]\ttrain-logloss:0.414141\tvalid-logloss:0.413744\n",
      "[29]\ttrain-logloss:0.410951\tvalid-logloss:0.410125\n",
      "[30]\ttrain-logloss:0.407498\tvalid-logloss:0.406750\n",
      "[31]\ttrain-logloss:0.404003\tvalid-logloss:0.403503\n",
      "[32]\ttrain-logloss:0.401361\tvalid-logloss:0.400503\n",
      "[33]\ttrain-logloss:0.398204\tvalid-logloss:0.397605\n",
      "[34]\ttrain-logloss:0.395679\tvalid-logloss:0.394852\n",
      "[35]\ttrain-logloss:0.392685\tvalid-logloss:0.392181\n",
      "[36]\ttrain-logloss:0.390420\tvalid-logloss:0.389753\n",
      "[37]\ttrain-logloss:0.388215\tvalid-logloss:0.387384\n",
      "[38]\ttrain-logloss:0.385646\tvalid-logloss:0.385168\n",
      "[39]\ttrain-logloss:0.383588\tvalid-logloss:0.383047\n",
      "[40]\ttrain-logloss:0.381561\tvalid-logloss:0.380945\n",
      "[41]\ttrain-logloss:0.379622\tvalid-logloss:0.379041\n",
      "[42]\ttrain-logloss:0.377780\tvalid-logloss:0.377155\n",
      "[43]\ttrain-logloss:0.375921\tvalid-logloss:0.375369\n",
      "[44]\ttrain-logloss:0.374230\tvalid-logloss:0.373624\n",
      "[45]\ttrain-logloss:0.372520\tvalid-logloss:0.371934\n",
      "[46]\ttrain-logloss:0.371055\tvalid-logloss:0.370457\n",
      "[47]\ttrain-logloss:0.369386\tvalid-logloss:0.368980\n",
      "[48]\ttrain-logloss:0.368266\tvalid-logloss:0.367586\n",
      "[49]\ttrain-logloss:0.366872\tvalid-logloss:0.366250\n",
      "[50]\ttrain-logloss:0.365428\tvalid-logloss:0.364965\n",
      "[51]\ttrain-logloss:0.364102\tvalid-logloss:0.363693\n",
      "[52]\ttrain-logloss:0.363217\tvalid-logloss:0.362506\n",
      "[53]\ttrain-logloss:0.361869\tvalid-logloss:0.361473\n",
      "[54]\ttrain-logloss:0.361124\tvalid-logloss:0.360326\n",
      "[55]\ttrain-logloss:0.359960\tvalid-logloss:0.359378\n",
      "[56]\ttrain-logloss:0.358749\tvalid-logloss:0.358438\n",
      "[57]\ttrain-logloss:0.358036\tvalid-logloss:0.357488\n",
      "[58]\ttrain-logloss:0.356963\tvalid-logloss:0.356611\n",
      "[59]\ttrain-logloss:0.356356\tvalid-logloss:0.355739\n",
      "[60]\ttrain-logloss:0.355310\tvalid-logloss:0.354923\n",
      "[61]\ttrain-logloss:0.354661\tvalid-logloss:0.354128\n",
      "[62]\ttrain-logloss:0.354168\tvalid-logloss:0.353350\n",
      "[63]\ttrain-logloss:0.353118\tvalid-logloss:0.352728\n",
      "[64]\ttrain-logloss:0.352593\tvalid-logloss:0.351999\n",
      "[65]\ttrain-logloss:0.351727\tvalid-logloss:0.351273\n",
      "[66]\ttrain-logloss:0.351170\tvalid-logloss:0.350644\n",
      "[67]\ttrain-logloss:0.350672\tvalid-logloss:0.349966\n",
      "[68]\ttrain-logloss:0.349865\tvalid-logloss:0.349425\n",
      "[69]\ttrain-logloss:0.349429\tvalid-logloss:0.348884\n",
      "[70]\ttrain-logloss:0.348977\tvalid-logloss:0.348376\n",
      "[71]\ttrain-logloss:0.348213\tvalid-logloss:0.347766\n",
      "[72]\ttrain-logloss:0.347806\tvalid-logloss:0.347274\n",
      "[73]\ttrain-logloss:0.347562\tvalid-logloss:0.346824\n",
      "[74]\ttrain-logloss:0.347140\tvalid-logloss:0.346371\n",
      "[75]\ttrain-logloss:0.346414\tvalid-logloss:0.345941\n",
      "[76]\ttrain-logloss:0.346039\tvalid-logloss:0.345491\n",
      "[77]\ttrain-logloss:0.345786\tvalid-logloss:0.345081\n",
      "[78]\ttrain-logloss:0.345444\tvalid-logloss:0.344700\n",
      "[79]\ttrain-logloss:0.344768\tvalid-logloss:0.344309\n",
      "[80]\ttrain-logloss:0.344395\tvalid-logloss:0.344021\n",
      "[81]\ttrain-logloss:0.344198\tvalid-logloss:0.343657\n",
      "[82]\ttrain-logloss:0.343867\tvalid-logloss:0.343305\n",
      "[83]\ttrain-logloss:0.343633\tvalid-logloss:0.342924\n",
      "[84]\ttrain-logloss:0.343013\tvalid-logloss:0.342677\n",
      "[85]\ttrain-logloss:0.342679\tvalid-logloss:0.342337\n",
      "[86]\ttrain-logloss:0.342489\tvalid-logloss:0.342001\n",
      "[87]\ttrain-logloss:0.342286\tvalid-logloss:0.341758\n",
      "[88]\ttrain-logloss:0.341994\tvalid-logloss:0.341436\n",
      "[89]\ttrain-logloss:0.341815\tvalid-logloss:0.341165\n",
      "[90]\ttrain-logloss:0.341261\tvalid-logloss:0.340968\n",
      "[91]\ttrain-logloss:0.341057\tvalid-logloss:0.340668\n",
      "[92]\ttrain-logloss:0.340790\tvalid-logloss:0.340461\n",
      "[93]\ttrain-logloss:0.340604\tvalid-logloss:0.340176\n",
      "[94]\ttrain-logloss:0.340490\tvalid-logloss:0.340007\n",
      "[95]\ttrain-logloss:0.340299\tvalid-logloss:0.339775\n",
      "[96]\ttrain-logloss:0.340128\tvalid-logloss:0.339623\n",
      "[97]\ttrain-logloss:0.339939\tvalid-logloss:0.339366\n",
      "[98]\ttrain-logloss:0.339832\tvalid-logloss:0.339214\n",
      "[99]\ttrain-logloss:0.339367\tvalid-logloss:0.339083\n",
      "[100]\ttrain-logloss:0.339206\tvalid-logloss:0.338859\n",
      "[101]\ttrain-logloss:0.339016\tvalid-logloss:0.338743\n",
      "[102]\ttrain-logloss:0.338896\tvalid-logloss:0.338615\n",
      "[103]\ttrain-logloss:0.338756\tvalid-logloss:0.338404\n",
      "[104]\ttrain-logloss:0.338646\tvalid-logloss:0.338315\n",
      "[105]\ttrain-logloss:0.338566\tvalid-logloss:0.338186\n",
      "[106]\ttrain-logloss:0.338457\tvalid-logloss:0.338033\n",
      "[107]\ttrain-logloss:0.338300\tvalid-logloss:0.337933\n",
      "[108]\ttrain-logloss:0.338168\tvalid-logloss:0.337776\n",
      "[109]\ttrain-logloss:0.338079\tvalid-logloss:0.337626\n",
      "[110]\ttrain-logloss:0.338014\tvalid-logloss:0.337527\n",
      "[111]\ttrain-logloss:0.337633\tvalid-logloss:0.337407\n",
      "[112]\ttrain-logloss:0.337547\tvalid-logloss:0.337311\n",
      "[113]\ttrain-logloss:0.337408\tvalid-logloss:0.337197\n",
      "[114]\ttrain-logloss:0.337300\tvalid-logloss:0.337033\n",
      "[115]\ttrain-logloss:0.337205\tvalid-logloss:0.336906\n",
      "[116]\ttrain-logloss:0.337021\tvalid-logloss:0.336808\n",
      "[117]\ttrain-logloss:0.336961\tvalid-logloss:0.336736\n",
      "[118]\ttrain-logloss:0.336856\tvalid-logloss:0.336638\n",
      "[119]\ttrain-logloss:0.336750\tvalid-logloss:0.336484\n",
      "[120]\ttrain-logloss:0.336691\tvalid-logloss:0.336411\n",
      "[121]\ttrain-logloss:0.336613\tvalid-logloss:0.336312\n",
      "[122]\ttrain-logloss:0.336547\tvalid-logloss:0.336253\n",
      "[123]\ttrain-logloss:0.336431\tvalid-logloss:0.336133\n",
      "[124]\ttrain-logloss:0.336368\tvalid-logloss:0.336054\n",
      "[125]\ttrain-logloss:0.336314\tvalid-logloss:0.335950\n",
      "[126]\ttrain-logloss:0.336224\tvalid-logloss:0.335841\n",
      "[127]\ttrain-logloss:0.336153\tvalid-logloss:0.335760\n",
      "[128]\ttrain-logloss:0.336089\tvalid-logloss:0.335694\n",
      "[129]\ttrain-logloss:0.335928\tvalid-logloss:0.335612\n",
      "[130]\ttrain-logloss:0.335860\tvalid-logloss:0.335538\n",
      "[131]\ttrain-logloss:0.335779\tvalid-logloss:0.335447\n",
      "[132]\ttrain-logloss:0.335677\tvalid-logloss:0.335343\n",
      "[133]\ttrain-logloss:0.335603\tvalid-logloss:0.335219\n",
      "[134]\ttrain-logloss:0.335538\tvalid-logloss:0.335168\n",
      "[135]\ttrain-logloss:0.335462\tvalid-logloss:0.335096\n",
      "[136]\ttrain-logloss:0.335396\tvalid-logloss:0.335002\n",
      "[137]\ttrain-logloss:0.335318\tvalid-logloss:0.334925\n",
      "[138]\ttrain-logloss:0.335251\tvalid-logloss:0.334858\n",
      "[139]\ttrain-logloss:0.334979\tvalid-logloss:0.334805\n",
      "[140]\ttrain-logloss:0.334899\tvalid-logloss:0.334725\n",
      "[141]\ttrain-logloss:0.334808\tvalid-logloss:0.334630\n",
      "[142]\ttrain-logloss:0.334740\tvalid-logloss:0.334548\n",
      "[143]\ttrain-logloss:0.334682\tvalid-logloss:0.334494\n",
      "[144]\ttrain-logloss:0.334622\tvalid-logloss:0.334439\n",
      "[145]\ttrain-logloss:0.334548\tvalid-logloss:0.334363\n",
      "[146]\ttrain-logloss:0.334462\tvalid-logloss:0.334242\n",
      "[147]\ttrain-logloss:0.334366\tvalid-logloss:0.334170\n",
      "[148]\ttrain-logloss:0.334313\tvalid-logloss:0.334110\n",
      "[149]\ttrain-logloss:0.334189\tvalid-logloss:0.333991\n",
      "[150]\ttrain-logloss:0.334128\tvalid-logloss:0.333946\n",
      "[151]\ttrain-logloss:0.334012\tvalid-logloss:0.333805\n",
      "[152]\ttrain-logloss:0.333945\tvalid-logloss:0.333749\n",
      "[153]\ttrain-logloss:0.333821\tvalid-logloss:0.333638\n",
      "[154]\ttrain-logloss:0.333772\tvalid-logloss:0.333588\n",
      "[155]\ttrain-logloss:0.333724\tvalid-logloss:0.333543\n",
      "[156]\ttrain-logloss:0.333675\tvalid-logloss:0.333501\n",
      "[157]\ttrain-logloss:0.333552\tvalid-logloss:0.333450\n",
      "[158]\ttrain-logloss:0.333493\tvalid-logloss:0.333387\n",
      "[159]\ttrain-logloss:0.333450\tvalid-logloss:0.333341\n",
      "[160]\ttrain-logloss:0.333402\tvalid-logloss:0.333296\n",
      "[161]\ttrain-logloss:0.333364\tvalid-logloss:0.333262\n",
      "[162]\ttrain-logloss:0.333300\tvalid-logloss:0.333200\n",
      "[163]\ttrain-logloss:0.333247\tvalid-logloss:0.333141\n",
      "[164]\ttrain-logloss:0.333193\tvalid-logloss:0.333085\n",
      "[165]\ttrain-logloss:0.333145\tvalid-logloss:0.333033\n",
      "[166]\ttrain-logloss:0.333124\tvalid-logloss:0.333012\n",
      "[167]\ttrain-logloss:0.333084\tvalid-logloss:0.332979\n",
      "[168]\ttrain-logloss:0.333007\tvalid-logloss:0.332907\n",
      "[169]\ttrain-logloss:0.332917\tvalid-logloss:0.332821\n",
      "[170]\ttrain-logloss:0.332834\tvalid-logloss:0.332734\n",
      "[171]\ttrain-logloss:0.332789\tvalid-logloss:0.332700\n",
      "[172]\ttrain-logloss:0.332758\tvalid-logloss:0.332666\n",
      "[173]\ttrain-logloss:0.332676\tvalid-logloss:0.332590\n",
      "[174]\ttrain-logloss:0.332608\tvalid-logloss:0.332501\n",
      "[175]\ttrain-logloss:0.332561\tvalid-logloss:0.332455\n",
      "[176]\ttrain-logloss:0.332481\tvalid-logloss:0.332373\n",
      "[177]\ttrain-logloss:0.332384\tvalid-logloss:0.332275\n",
      "[178]\ttrain-logloss:0.332349\tvalid-logloss:0.332245\n",
      "[179]\ttrain-logloss:0.332305\tvalid-logloss:0.332203\n",
      "[180]\ttrain-logloss:0.332220\tvalid-logloss:0.332123\n",
      "[181]\ttrain-logloss:0.332152\tvalid-logloss:0.332058\n",
      "[182]\ttrain-logloss:0.332113\tvalid-logloss:0.332021\n",
      "[183]\ttrain-logloss:0.332034\tvalid-logloss:0.331945\n",
      "[184]\ttrain-logloss:0.331921\tvalid-logloss:0.331836\n",
      "[185]\ttrain-logloss:0.331895\tvalid-logloss:0.331814\n",
      "[186]\ttrain-logloss:0.331881\tvalid-logloss:0.331797\n",
      "[187]\ttrain-logloss:0.331839\tvalid-logloss:0.331762\n",
      "[188]\ttrain-logloss:0.331724\tvalid-logloss:0.331647\n",
      "[189]\ttrain-logloss:0.331666\tvalid-logloss:0.331593\n",
      "[190]\ttrain-logloss:0.331637\tvalid-logloss:0.331565\n",
      "[191]\ttrain-logloss:0.331552\tvalid-logloss:0.331485\n",
      "[192]\ttrain-logloss:0.331533\tvalid-logloss:0.331467\n",
      "[193]\ttrain-logloss:0.331466\tvalid-logloss:0.331409\n",
      "[194]\ttrain-logloss:0.331389\tvalid-logloss:0.331334\n",
      "[195]\ttrain-logloss:0.331313\tvalid-logloss:0.331265\n",
      "[196]\ttrain-logloss:0.331196\tvalid-logloss:0.331149\n",
      "[197]\ttrain-logloss:0.331135\tvalid-logloss:0.331092\n",
      "[198]\ttrain-logloss:0.331121\tvalid-logloss:0.331072\n",
      "[199]\ttrain-logloss:0.331053\tvalid-logloss:0.331006\n",
      "[200]\ttrain-logloss:0.330979\tvalid-logloss:0.330933\n",
      "[201]\ttrain-logloss:0.330892\tvalid-logloss:0.330854\n",
      "[202]\ttrain-logloss:0.330837\tvalid-logloss:0.330802\n",
      "[203]\ttrain-logloss:0.330813\tvalid-logloss:0.330779\n",
      "[204]\ttrain-logloss:0.330765\tvalid-logloss:0.330731\n",
      "[205]\ttrain-logloss:0.330730\tvalid-logloss:0.330695\n",
      "[206]\ttrain-logloss:0.330637\tvalid-logloss:0.330600\n",
      "[207]\ttrain-logloss:0.330552\tvalid-logloss:0.330511\n",
      "[208]\ttrain-logloss:0.330509\tvalid-logloss:0.330473\n",
      "[209]\ttrain-logloss:0.330450\tvalid-logloss:0.330422\n",
      "[210]\ttrain-logloss:0.330415\tvalid-logloss:0.330385\n",
      "[211]\ttrain-logloss:0.330323\tvalid-logloss:0.330295\n",
      "[212]\ttrain-logloss:0.330265\tvalid-logloss:0.330244\n",
      "[213]\ttrain-logloss:0.330213\tvalid-logloss:0.330194\n",
      "[214]\ttrain-logloss:0.330163\tvalid-logloss:0.330153\n",
      "[215]\ttrain-logloss:0.330110\tvalid-logloss:0.330112\n",
      "[216]\ttrain-logloss:0.330086\tvalid-logloss:0.330088\n",
      "[217]\ttrain-logloss:0.330041\tvalid-logloss:0.330046\n",
      "[218]\ttrain-logloss:0.330029\tvalid-logloss:0.330037\n",
      "[219]\ttrain-logloss:0.329979\tvalid-logloss:0.329994\n",
      "[220]\ttrain-logloss:0.329920\tvalid-logloss:0.329944\n",
      "[221]\ttrain-logloss:0.329828\tvalid-logloss:0.329852\n",
      "[222]\ttrain-logloss:0.329778\tvalid-logloss:0.329800\n",
      "[223]\ttrain-logloss:0.329724\tvalid-logloss:0.329752\n",
      "[224]\ttrain-logloss:0.329696\tvalid-logloss:0.329725\n",
      "[225]\ttrain-logloss:0.329625\tvalid-logloss:0.329652\n",
      "[226]\ttrain-logloss:0.329586\tvalid-logloss:0.329609\n",
      "[227]\ttrain-logloss:0.329520\tvalid-logloss:0.329546\n",
      "[228]\ttrain-logloss:0.329431\tvalid-logloss:0.329457\n",
      "[229]\ttrain-logloss:0.329409\tvalid-logloss:0.329439\n",
      "[230]\ttrain-logloss:0.329367\tvalid-logloss:0.329403\n",
      "[231]\ttrain-logloss:0.329323\tvalid-logloss:0.329367\n",
      "[232]\ttrain-logloss:0.329274\tvalid-logloss:0.329318\n",
      "[233]\ttrain-logloss:0.329223\tvalid-logloss:0.329271\n",
      "[234]\ttrain-logloss:0.329166\tvalid-logloss:0.329216\n",
      "[235]\ttrain-logloss:0.329130\tvalid-logloss:0.329179\n",
      "[236]\ttrain-logloss:0.329106\tvalid-logloss:0.329162\n",
      "[237]\ttrain-logloss:0.329098\tvalid-logloss:0.329153\n",
      "[238]\ttrain-logloss:0.329062\tvalid-logloss:0.329118\n",
      "[239]\ttrain-logloss:0.329011\tvalid-logloss:0.329071\n",
      "[240]\ttrain-logloss:0.328975\tvalid-logloss:0.329043\n",
      "[241]\ttrain-logloss:0.328912\tvalid-logloss:0.328992\n",
      "[242]\ttrain-logloss:0.328831\tvalid-logloss:0.328916\n",
      "[243]\ttrain-logloss:0.328770\tvalid-logloss:0.328871\n",
      "[244]\ttrain-logloss:0.328741\tvalid-logloss:0.328845\n",
      "[245]\ttrain-logloss:0.328698\tvalid-logloss:0.328804\n",
      "[246]\ttrain-logloss:0.328660\tvalid-logloss:0.328776\n",
      "[247]\ttrain-logloss:0.328642\tvalid-logloss:0.328762\n",
      "[248]\ttrain-logloss:0.328618\tvalid-logloss:0.328738\n",
      "[249]\ttrain-logloss:0.328593\tvalid-logloss:0.328715\n",
      "[250]\ttrain-logloss:0.328580\tvalid-logloss:0.328703\n",
      "[251]\ttrain-logloss:0.328520\tvalid-logloss:0.328645\n",
      "[252]\ttrain-logloss:0.328495\tvalid-logloss:0.328624\n",
      "[253]\ttrain-logloss:0.328425\tvalid-logloss:0.328554\n",
      "[254]\ttrain-logloss:0.328400\tvalid-logloss:0.328536\n",
      "[255]\ttrain-logloss:0.328367\tvalid-logloss:0.328508\n",
      "[256]\ttrain-logloss:0.328327\tvalid-logloss:0.328471\n",
      "[257]\ttrain-logloss:0.328271\tvalid-logloss:0.328416\n",
      "[258]\ttrain-logloss:0.328261\tvalid-logloss:0.328411\n",
      "[259]\ttrain-logloss:0.328196\tvalid-logloss:0.328351\n",
      "[260]\ttrain-logloss:0.328172\tvalid-logloss:0.328332\n",
      "[261]\ttrain-logloss:0.328118\tvalid-logloss:0.328279\n",
      "[262]\ttrain-logloss:0.328066\tvalid-logloss:0.328229\n",
      "[263]\ttrain-logloss:0.328044\tvalid-logloss:0.328210\n",
      "[264]\ttrain-logloss:0.327996\tvalid-logloss:0.328164\n",
      "[265]\ttrain-logloss:0.327977\tvalid-logloss:0.328147\n",
      "[266]\ttrain-logloss:0.327941\tvalid-logloss:0.328114\n",
      "[267]\ttrain-logloss:0.327920\tvalid-logloss:0.328092\n",
      "[268]\ttrain-logloss:0.327873\tvalid-logloss:0.328058\n",
      "[269]\ttrain-logloss:0.327806\tvalid-logloss:0.327999\n",
      "[270]\ttrain-logloss:0.327777\tvalid-logloss:0.327974\n",
      "[271]\ttrain-logloss:0.327730\tvalid-logloss:0.327929\n",
      "[272]\ttrain-logloss:0.327683\tvalid-logloss:0.327885\n",
      "[273]\ttrain-logloss:0.327649\tvalid-logloss:0.327854\n",
      "[274]\ttrain-logloss:0.327631\tvalid-logloss:0.327838\n",
      "[275]\ttrain-logloss:0.327614\tvalid-logloss:0.327819\n",
      "[276]\ttrain-logloss:0.327591\tvalid-logloss:0.327800\n",
      "[277]\ttrain-logloss:0.327564\tvalid-logloss:0.327773\n",
      "[278]\ttrain-logloss:0.327527\tvalid-logloss:0.327745\n",
      "[279]\ttrain-logloss:0.327492\tvalid-logloss:0.327717\n",
      "[280]\ttrain-logloss:0.327396\tvalid-logloss:0.327624\n",
      "[281]\ttrain-logloss:0.327372\tvalid-logloss:0.327603\n",
      "[282]\ttrain-logloss:0.327313\tvalid-logloss:0.327540\n",
      "[283]\ttrain-logloss:0.327279\tvalid-logloss:0.327510\n",
      "[284]\ttrain-logloss:0.327241\tvalid-logloss:0.327480\n",
      "[285]\ttrain-logloss:0.327175\tvalid-logloss:0.327418\n",
      "[286]\ttrain-logloss:0.327156\tvalid-logloss:0.327404\n",
      "[287]\ttrain-logloss:0.327127\tvalid-logloss:0.327376\n",
      "[288]\ttrain-logloss:0.327087\tvalid-logloss:0.327334\n",
      "[289]\ttrain-logloss:0.327073\tvalid-logloss:0.327321\n",
      "[290]\ttrain-logloss:0.327038\tvalid-logloss:0.327292\n",
      "[291]\ttrain-logloss:0.326988\tvalid-logloss:0.327254\n",
      "[292]\ttrain-logloss:0.326976\tvalid-logloss:0.327247\n",
      "[293]\ttrain-logloss:0.326936\tvalid-logloss:0.327212\n",
      "[294]\ttrain-logloss:0.326930\tvalid-logloss:0.327207\n",
      "[295]\ttrain-logloss:0.326896\tvalid-logloss:0.327180\n"
     ]
    },
    {
     "ename": "KeyboardInterrupt",
     "evalue": "",
     "output_type": "error",
     "traceback": [
      "\u001b[0;31m---------------------------------------------------------------------------\u001b[0m",
      "\u001b[0;31mKeyboardInterrupt\u001b[0m                         Traceback (most recent call last)",
      "\u001b[0;32m<ipython-input-8-3c6bbec18527>\u001b[0m in \u001b[0;36m<module>\u001b[0;34m()\u001b[0m\n\u001b[0;32m----> 1\u001b[0;31m \u001b[0mget_ipython\u001b[0m\u001b[0;34m(\u001b[0m\u001b[0;34m)\u001b[0m\u001b[0;34m.\u001b[0m\u001b[0mrun_cell_magic\u001b[0m\u001b[0;34m(\u001b[0m\u001b[0;34mu'time'\u001b[0m\u001b[0;34m,\u001b[0m \u001b[0;34mu''\u001b[0m\u001b[0;34m,\u001b[0m \u001b[0;34mu\"import xgboost as xgb\\n#from tqdm import tqdm_notebook\\n\\nparams = {}\\nparams['objective'] = 'binary:logistic'\\nparams['eval_metric'] = 'logloss'\\nparams['eta'] = 0.04\\nparams['max_depth'] = 4\\nparams['eval_level'] = 10\\n\\nd_train = xgb.DMatrix(X_train, label=Y_train)\\nd_valid = xgb.DMatrix(X_valid, label=Y_valid)\\n\\nwatchlist = [(d_train, 'train'), (d_valid, 'valid')]\\n\\ntest_size = df_test.shape[0]\\nscores = np.zeros((test_size, ), dtype=np.float64)\\n\\nfor i in xrange(20):\\n    params['random_state'] = i*10\\n    params['random_seed'] = i*10\\n    params['seed'] = i*10\\n    bst = xgb.train(params, d_train, 400, watchlist, early_stopping_rounds=50)\\n    d_test = xgb.DMatrix(x_test)\\n    delta = 100000\\n    i = 0\\n    while(True):\\n        print i\\n        interval = xrange(delta*i, delta*(i+1) if delta*(i+1) < test_size else test_size)\\n        d_test = xgb.DMatrix(x_test[interval])\\n        scores[interval] += bst.predict(d_test)\\n        del d_test\\n        if delta*(i+1) > test_size:\\n            break\\n        i += 1\"\u001b[0m\u001b[0;34m)\u001b[0m\u001b[0;34m\u001b[0m\u001b[0m\n\u001b[0m",
      "\u001b[0;32m/home/ivan/.local/lib/python2.7/site-packages/IPython/core/interactiveshell.pyc\u001b[0m in \u001b[0;36mrun_cell_magic\u001b[0;34m(self, magic_name, line, cell)\u001b[0m\n\u001b[1;32m   2113\u001b[0m             \u001b[0mmagic_arg_s\u001b[0m \u001b[0;34m=\u001b[0m \u001b[0mself\u001b[0m\u001b[0;34m.\u001b[0m\u001b[0mvar_expand\u001b[0m\u001b[0;34m(\u001b[0m\u001b[0mline\u001b[0m\u001b[0;34m,\u001b[0m \u001b[0mstack_depth\u001b[0m\u001b[0;34m)\u001b[0m\u001b[0;34m\u001b[0m\u001b[0m\n\u001b[1;32m   2114\u001b[0m             \u001b[0;32mwith\u001b[0m \u001b[0mself\u001b[0m\u001b[0;34m.\u001b[0m\u001b[0mbuiltin_trap\u001b[0m\u001b[0;34m:\u001b[0m\u001b[0;34m\u001b[0m\u001b[0m\n\u001b[0;32m-> 2115\u001b[0;31m                 \u001b[0mresult\u001b[0m \u001b[0;34m=\u001b[0m \u001b[0mfn\u001b[0m\u001b[0;34m(\u001b[0m\u001b[0mmagic_arg_s\u001b[0m\u001b[0;34m,\u001b[0m \u001b[0mcell\u001b[0m\u001b[0;34m)\u001b[0m\u001b[0;34m\u001b[0m\u001b[0m\n\u001b[0m\u001b[1;32m   2116\u001b[0m             \u001b[0;32mreturn\u001b[0m \u001b[0mresult\u001b[0m\u001b[0;34m\u001b[0m\u001b[0m\n\u001b[1;32m   2117\u001b[0m \u001b[0;34m\u001b[0m\u001b[0m\n",
      "\u001b[0;32m<decorator-gen-59>\u001b[0m in \u001b[0;36mtime\u001b[0;34m(self, line, cell, local_ns)\u001b[0m\n",
      "\u001b[0;32m/home/ivan/.local/lib/python2.7/site-packages/IPython/core/magic.pyc\u001b[0m in \u001b[0;36m<lambda>\u001b[0;34m(f, *a, **k)\u001b[0m\n\u001b[1;32m    186\u001b[0m     \u001b[0;31m# but it's overkill for just that one bit of state.\u001b[0m\u001b[0;34m\u001b[0m\u001b[0;34m\u001b[0m\u001b[0m\n\u001b[1;32m    187\u001b[0m     \u001b[0;32mdef\u001b[0m \u001b[0mmagic_deco\u001b[0m\u001b[0;34m(\u001b[0m\u001b[0marg\u001b[0m\u001b[0;34m)\u001b[0m\u001b[0;34m:\u001b[0m\u001b[0;34m\u001b[0m\u001b[0m\n\u001b[0;32m--> 188\u001b[0;31m         \u001b[0mcall\u001b[0m \u001b[0;34m=\u001b[0m \u001b[0;32mlambda\u001b[0m \u001b[0mf\u001b[0m\u001b[0;34m,\u001b[0m \u001b[0;34m*\u001b[0m\u001b[0ma\u001b[0m\u001b[0;34m,\u001b[0m \u001b[0;34m**\u001b[0m\u001b[0mk\u001b[0m\u001b[0;34m:\u001b[0m \u001b[0mf\u001b[0m\u001b[0;34m(\u001b[0m\u001b[0;34m*\u001b[0m\u001b[0ma\u001b[0m\u001b[0;34m,\u001b[0m \u001b[0;34m**\u001b[0m\u001b[0mk\u001b[0m\u001b[0;34m)\u001b[0m\u001b[0;34m\u001b[0m\u001b[0m\n\u001b[0m\u001b[1;32m    189\u001b[0m \u001b[0;34m\u001b[0m\u001b[0m\n\u001b[1;32m    190\u001b[0m         \u001b[0;32mif\u001b[0m \u001b[0mcallable\u001b[0m\u001b[0;34m(\u001b[0m\u001b[0marg\u001b[0m\u001b[0;34m)\u001b[0m\u001b[0;34m:\u001b[0m\u001b[0;34m\u001b[0m\u001b[0m\n",
      "\u001b[0;32m/home/ivan/.local/lib/python2.7/site-packages/IPython/core/magics/execution.pyc\u001b[0m in \u001b[0;36mtime\u001b[0;34m(self, line, cell, local_ns)\u001b[0m\n\u001b[1;32m   1183\u001b[0m         \u001b[0;32melse\u001b[0m\u001b[0;34m:\u001b[0m\u001b[0;34m\u001b[0m\u001b[0m\n\u001b[1;32m   1184\u001b[0m             \u001b[0mst\u001b[0m \u001b[0;34m=\u001b[0m \u001b[0mclock2\u001b[0m\u001b[0;34m(\u001b[0m\u001b[0;34m)\u001b[0m\u001b[0;34m\u001b[0m\u001b[0m\n\u001b[0;32m-> 1185\u001b[0;31m             \u001b[0;32mexec\u001b[0m\u001b[0;34m(\u001b[0m\u001b[0mcode\u001b[0m\u001b[0;34m,\u001b[0m \u001b[0mglob\u001b[0m\u001b[0;34m,\u001b[0m \u001b[0mlocal_ns\u001b[0m\u001b[0;34m)\u001b[0m\u001b[0;34m\u001b[0m\u001b[0m\n\u001b[0m\u001b[1;32m   1186\u001b[0m             \u001b[0mend\u001b[0m \u001b[0;34m=\u001b[0m \u001b[0mclock2\u001b[0m\u001b[0;34m(\u001b[0m\u001b[0;34m)\u001b[0m\u001b[0;34m\u001b[0m\u001b[0m\n\u001b[1;32m   1187\u001b[0m             \u001b[0mout\u001b[0m \u001b[0;34m=\u001b[0m \u001b[0mNone\u001b[0m\u001b[0;34m\u001b[0m\u001b[0m\n",
      "\u001b[0;32m<timed exec>\u001b[0m in \u001b[0;36m<module>\u001b[0;34m()\u001b[0m\n",
      "\u001b[0;32m/media/ivan/Acer/Ivan/sphere/anaconda2/lib/python2.7/site-packages/xgboost.pyc\u001b[0m in \u001b[0;36mtrain\u001b[0;34m(params, dtrain, num_boost_round, evals, obj, feval, early_stopping_rounds, evals_result)\u001b[0m\n\u001b[1;32m    670\u001b[0m \u001b[0;34m\u001b[0m\u001b[0m\n\u001b[1;32m    671\u001b[0m         \u001b[0;32mfor\u001b[0m \u001b[0mi\u001b[0m \u001b[0;32min\u001b[0m \u001b[0mrange\u001b[0m\u001b[0;34m(\u001b[0m\u001b[0mnum_boost_round\u001b[0m\u001b[0;34m)\u001b[0m\u001b[0;34m:\u001b[0m\u001b[0;34m\u001b[0m\u001b[0m\n\u001b[0;32m--> 672\u001b[0;31m             \u001b[0mbst\u001b[0m\u001b[0;34m.\u001b[0m\u001b[0mupdate\u001b[0m\u001b[0;34m(\u001b[0m\u001b[0mdtrain\u001b[0m\u001b[0;34m,\u001b[0m \u001b[0mi\u001b[0m\u001b[0;34m,\u001b[0m \u001b[0mobj\u001b[0m\u001b[0;34m)\u001b[0m\u001b[0;34m\u001b[0m\u001b[0m\n\u001b[0m\u001b[1;32m    673\u001b[0m             \u001b[0mbst_eval_set\u001b[0m \u001b[0;34m=\u001b[0m \u001b[0mbst\u001b[0m\u001b[0;34m.\u001b[0m\u001b[0meval_set\u001b[0m\u001b[0;34m(\u001b[0m\u001b[0mevals\u001b[0m\u001b[0;34m,\u001b[0m \u001b[0mi\u001b[0m\u001b[0;34m,\u001b[0m \u001b[0mfeval\u001b[0m\u001b[0;34m)\u001b[0m\u001b[0;34m\u001b[0m\u001b[0m\n\u001b[1;32m    674\u001b[0m \u001b[0;34m\u001b[0m\u001b[0m\n",
      "\u001b[0;32m/media/ivan/Acer/Ivan/sphere/anaconda2/lib/python2.7/site-packages/xgboost.pyc\u001b[0m in \u001b[0;36mupdate\u001b[0;34m(self, dtrain, it, fobj)\u001b[0m\n\u001b[1;32m    373\u001b[0m             \u001b[0;32mraise\u001b[0m \u001b[0mTypeError\u001b[0m\u001b[0;34m(\u001b[0m\u001b[0;34m'invalid training matrix: {}'\u001b[0m\u001b[0;34m.\u001b[0m\u001b[0mformat\u001b[0m\u001b[0;34m(\u001b[0m\u001b[0mtype\u001b[0m\u001b[0;34m(\u001b[0m\u001b[0mdtrain\u001b[0m\u001b[0;34m)\u001b[0m\u001b[0;34m.\u001b[0m\u001b[0m__name__\u001b[0m\u001b[0;34m)\u001b[0m\u001b[0;34m)\u001b[0m\u001b[0;34m\u001b[0m\u001b[0m\n\u001b[1;32m    374\u001b[0m         \u001b[0;32mif\u001b[0m \u001b[0mfobj\u001b[0m \u001b[0;32mis\u001b[0m \u001b[0mNone\u001b[0m\u001b[0;34m:\u001b[0m\u001b[0;34m\u001b[0m\u001b[0m\n\u001b[0;32m--> 375\u001b[0;31m             \u001b[0mxglib\u001b[0m\u001b[0;34m.\u001b[0m\u001b[0mXGBoosterUpdateOneIter\u001b[0m\u001b[0;34m(\u001b[0m\u001b[0mself\u001b[0m\u001b[0;34m.\u001b[0m\u001b[0mhandle\u001b[0m\u001b[0;34m,\u001b[0m \u001b[0mit\u001b[0m\u001b[0;34m,\u001b[0m \u001b[0mdtrain\u001b[0m\u001b[0;34m.\u001b[0m\u001b[0mhandle\u001b[0m\u001b[0;34m)\u001b[0m\u001b[0;34m\u001b[0m\u001b[0m\n\u001b[0m\u001b[1;32m    376\u001b[0m         \u001b[0;32melse\u001b[0m\u001b[0;34m:\u001b[0m\u001b[0;34m\u001b[0m\u001b[0m\n\u001b[1;32m    377\u001b[0m             \u001b[0mpred\u001b[0m \u001b[0;34m=\u001b[0m \u001b[0mself\u001b[0m\u001b[0;34m.\u001b[0m\u001b[0mpredict\u001b[0m\u001b[0;34m(\u001b[0m\u001b[0mdtrain\u001b[0m\u001b[0;34m)\u001b[0m\u001b[0;34m\u001b[0m\u001b[0m\n",
      "\u001b[0;31mKeyboardInterrupt\u001b[0m: "
     ]
    }
   ],
   "source": [
    "%%time\n",
    "import xgboost as xgb\n",
    "#from tqdm import tqdm_notebook\n",
    "\n",
    "params = {}\n",
    "params['objective'] = 'binary:logistic'\n",
    "params['eval_metric'] = 'logloss'\n",
    "params['eta'] = 0.04\n",
    "params['max_depth'] = 4\n",
    "params['eval_level'] = 10\n",
    "\n",
    "d_train = xgb.DMatrix(X_train, label=Y_train)\n",
    "d_valid = xgb.DMatrix(X_valid, label=Y_valid)\n",
    "\n",
    "watchlist = [(d_train, 'train'), (d_valid, 'valid')]\n",
    "\n",
    "test_size = df_test.shape[0]\n",
    "scores = np.zeros((test_size, ), dtype=np.float64)\n",
    "\n",
    "for i in xrange(20):\n",
    "    params['random_state'] = i*10\n",
    "    params['random_seed'] = i*10\n",
    "    params['seed'] = i*10\n",
    "    bst = xgb.train(params, d_train, 400, watchlist, early_stopping_rounds=50)\n",
    "    d_test = xgb.DMatrix(x_test)\n",
    "    delta = 100000\n",
    "    i = 0\n",
    "    while(True):\n",
    "        print i\n",
    "        interval = xrange(delta*i, delta*(i+1) if delta*(i+1) < test_size else test_size)\n",
    "        d_test = xgb.DMatrix(x_test[interval])\n",
    "        scores[interval] += bst.predict(d_test)\n",
    "        del d_test\n",
    "        if delta*(i+1) > test_size:\n",
    "            break\n",
    "        i += 1"
   ]
  },
  {
   "cell_type": "code",
   "execution_count": 13,
   "metadata": {
    "collapsed": false
   },
   "outputs": [
    {
     "data": {
      "text/plain": [
       "67"
      ]
     },
     "execution_count": 13,
     "metadata": {},
     "output_type": "execute_result"
    }
   ],
   "source": [
    "import gc\n",
    "del df\n",
    "del x_train\n",
    "del y_train\n",
    "del X_train, X_valid, Y_train, Y_valid\n",
    "del d_train, d_valid\n",
    "del x_train_new, y_train_new\n",
    "gc.collect()"
   ]
  },
  {
   "cell_type": "code",
   "execution_count": 15,
   "metadata": {
    "collapsed": true
   },
   "outputs": [],
   "source": [
    "scores = model.predict_proba(x_test)"
   ]
  },
  {
   "cell_type": "code",
   "execution_count": 16,
   "metadata": {
    "collapsed": false
   },
   "outputs": [
    {
     "data": {
      "text/plain": [
       "(2345796, 2)"
      ]
     },
     "execution_count": 16,
     "metadata": {},
     "output_type": "execute_result"
    }
   ],
   "source": [
    "scores.shape"
   ]
  },
  {
   "cell_type": "code",
   "execution_count": 39,
   "metadata": {
    "collapsed": false
   },
   "outputs": [
    {
     "name": "stdout",
     "output_type": "stream",
     "text": [
      "0\n",
      "1\n",
      "2\n",
      "3\n",
      "4\n",
      "5\n",
      "6\n",
      "7\n",
      "8\n",
      "9\n",
      "10\n",
      "11\n",
      "12\n",
      "13\n",
      "14\n",
      "15\n",
      "16\n",
      "17\n",
      "18\n",
      "19\n",
      "20\n",
      "21\n",
      "22\n",
      "23\n"
     ]
    }
   ],
   "source": [
    "import time\n",
    "delta = 100000\n",
    "i = 0\n",
    "test_size = df_test.shape[0]\n",
    "scores = np.empty((test_size, ), dtype=np.float64)\n",
    "while(True):\n",
    "    print i\n",
    "    interval = xrange(delta*i, delta*(i+1) if delta*(i+1) < test_size else test_size)\n",
    "    d_test = xgb.DMatrix(x_test[interval])\n",
    "    scores[interval] = bst.predict(d_test)\n",
    "    del d_test\n",
    "    if delta*(i+1) > test_size:\n",
    "        break\n",
    "    i += 1\n",
    "    time.sleep(1)"
   ]
  },
  {
   "cell_type": "code",
   "execution_count": 28,
   "metadata": {
    "collapsed": false
   },
   "outputs": [
    {
     "data": {
      "text/plain": [
       "(2345796,)"
      ]
     },
     "execution_count": 28,
     "metadata": {},
     "output_type": "execute_result"
    }
   ],
   "source": [
    "scores.shape"
   ]
  },
  {
   "cell_type": "code",
   "execution_count": 40,
   "metadata": {
    "collapsed": true
   },
   "outputs": [],
   "source": [
    "#d_test = xgb.DMatrix(x_test)\n",
    "#scores = bst.predict(d_test)\n",
    "\n",
    "filepath = '/media/ivan/Acer/Ivan/sphere/Quora/xgb_cos5.csv'\n",
    "#filepath = 'C:\\Ivan\\sphere\\Quora\\\\train.csv'\n",
    "sub = pd.DataFrame()\n",
    "sub['test_id'] = df_test['test_id']\n",
    "sub['is_duplicate'] = scores\n",
    "sub.to_csv(filepath, index=False)"
   ]
  },
  {
   "cell_type": "code",
   "execution_count": 12,
   "metadata": {
    "collapsed": true
   },
   "outputs": [],
   "source": [
    "a = pd.read_csv(filepath)"
   ]
  },
  {
   "cell_type": "code",
   "execution_count": 13,
   "metadata": {
    "collapsed": false
   },
   "outputs": [
    {
     "data": {
      "text/html": [
       "<div>\n",
       "<table border=\"1\" class=\"dataframe\">\n",
       "  <thead>\n",
       "    <tr style=\"text-align: right;\">\n",
       "      <th></th>\n",
       "      <th>test_id</th>\n",
       "      <th>is_duplicate</th>\n",
       "    </tr>\n",
       "  </thead>\n",
       "  <tbody>\n",
       "    <tr>\n",
       "      <th>0</th>\n",
       "      <td>0</td>\n",
       "      <td>0.011026</td>\n",
       "    </tr>\n",
       "    <tr>\n",
       "      <th>1</th>\n",
       "      <td>1</td>\n",
       "      <td>0.384933</td>\n",
       "    </tr>\n",
       "    <tr>\n",
       "      <th>2</th>\n",
       "      <td>2</td>\n",
       "      <td>0.368815</td>\n",
       "    </tr>\n",
       "    <tr>\n",
       "      <th>3</th>\n",
       "      <td>3</td>\n",
       "      <td>0.000023</td>\n",
       "    </tr>\n",
       "    <tr>\n",
       "      <th>4</th>\n",
       "      <td>4</td>\n",
       "      <td>0.082414</td>\n",
       "    </tr>\n",
       "  </tbody>\n",
       "</table>\n",
       "</div>"
      ],
      "text/plain": [
       "   test_id  is_duplicate\n",
       "0        0      0.011026\n",
       "1        1      0.384933\n",
       "2        2      0.368815\n",
       "3        3      0.000023\n",
       "4        4      0.082414"
      ]
     },
     "execution_count": 13,
     "metadata": {},
     "output_type": "execute_result"
    }
   ],
   "source": [
    "a.head()"
   ]
  },
  {
   "cell_type": "code",
   "execution_count": 29,
   "metadata": {
    "collapsed": false
   },
   "outputs": [
    {
     "data": {
      "text/plain": [
       "array([False], dtype=bool)"
      ]
     },
     "execution_count": 29,
     "metadata": {},
     "output_type": "execute_result"
    }
   ],
   "source": [
    "np.unique(np.isnan(scores))"
   ]
  },
  {
   "cell_type": "markdown",
   "metadata": {},
   "source": [
    "## Other models"
   ]
  },
  {
   "cell_type": "code",
   "execution_count": 41,
   "metadata": {
    "collapsed": false
   },
   "outputs": [],
   "source": [
    "from sklearn.linear_model import LogisticRegression\n",
    "from sklearn.ensemble import RandomForestClassifier\n",
    "from sklearn.model_selection import cross_val_score"
   ]
  },
  {
   "cell_type": "code",
   "execution_count": 44,
   "metadata": {
    "collapsed": false
   },
   "outputs": [
    {
     "data": {
      "text/plain": [
       "((404290L, 2L), (404290L,), (2345796L, 2L))"
      ]
     },
     "execution_count": 44,
     "metadata": {},
     "output_type": "execute_result"
    }
   ],
   "source": [
    "X = df[['tfidf_word_match', 'simple_word_share']].values\n",
    "y = df.is_duplicate.values\n",
    "X_test = df_test[['tfidf_word_match', 'simple_word_share']].values\n",
    "X.shape, y.shape, X_test.shape"
   ]
  },
  {
   "cell_type": "code",
   "execution_count": 82,
   "metadata": {
    "collapsed": false
   },
   "outputs": [
    {
     "data": {
      "text/plain": [
       "((404290L, 7L), (404290L,), (2345796L, 7L))"
      ]
     },
     "execution_count": 82,
     "metadata": {},
     "output_type": "execute_result"
    }
   ],
   "source": [
    "X = x_train.values\n",
    "#y = np.array(y_train_new, dtype=np.int64)\n",
    "y = y_train\n",
    "X_test = x_test.values\n",
    "X.shape, y.shape, X_test.shape"
   ]
  },
  {
   "cell_type": "code",
   "execution_count": 45,
   "metadata": {
    "collapsed": true
   },
   "outputs": [],
   "source": [
    "from sklearn.preprocessing import scale\n",
    "X = scale(X)\n",
    "X_test = scale(X_test)"
   ]
  },
  {
   "cell_type": "code",
   "execution_count": 47,
   "metadata": {
    "collapsed": false
   },
   "outputs": [
    {
     "name": "stdout",
     "output_type": "stream",
     "text": [
      "0.554965026907 0.000718829463403\n",
      "Wall time: 4.24 s\n"
     ]
    }
   ],
   "source": [
    "%%time\n",
    "model = LogisticRegression(C=1.0, solver='sag')\n",
    "#model = RandomForestClassifier(n_estimators=50, max_depth=10, n_jobs=-1)\n",
    "cv = cross_val_score(model, X, y, n_jobs=-1, scoring='log_loss')\n",
    "print -cv.mean(), cv.std()"
   ]
  },
  {
   "cell_type": "code",
   "execution_count": 89,
   "metadata": {
    "collapsed": false
   },
   "outputs": [
    {
     "name": "stdout",
     "output_type": "stream",
     "text": [
      "Wall time: 3.46 s\n"
     ]
    }
   ],
   "source": [
    "%%time\n",
    "#model = RandomForestClassifier(n_estimators=50, max_depth=10, n_jobs=-1, class_weight={1: 0.46, 0: 1.32}).fit(x_train, y_train)\n",
    "model = LogisticRegression(C=1.0, solver='sag', class_weight={1: 0.46, 0: 1.32}).fit(X, y)"
   ]
  },
  {
   "cell_type": "code",
   "execution_count": 90,
   "metadata": {
    "collapsed": false
   },
   "outputs": [
    {
     "name": "stdout",
     "output_type": "stream",
     "text": [
      "Wall time: 274 ms\n"
     ]
    }
   ],
   "source": [
    "%%time\n",
    "scores = model.predict_proba(X_test)"
   ]
  },
  {
   "cell_type": "code",
   "execution_count": 91,
   "metadata": {
    "collapsed": true
   },
   "outputs": [],
   "source": [
    "#filepath = '/media/ivan/Acer/Ivan/sphere/Quora/anokas.csv'\n",
    "filepath = 'C:\\Ivan\\sphere\\Quora\\\\anokas_LR_weights.csv'\n",
    "sub = pd.DataFrame()\n",
    "sub['test_id'] = df_test['test_id']\n",
    "sub['is_duplicate'] = scores[:,0]\n",
    "sub.to_csv(filepath, index=False)"
   ]
  }
 ],
 "metadata": {
  "kernelspec": {
   "display_name": "Python 2",
   "language": "python",
   "name": "python2"
  },
  "language_info": {
   "codemirror_mode": {
    "name": "ipython",
    "version": 2
   },
   "file_extension": ".py",
   "mimetype": "text/x-python",
   "name": "python",
   "nbconvert_exporter": "python",
   "pygments_lexer": "ipython2",
   "version": "2.7.13"
  }
 },
 "nbformat": 4,
 "nbformat_minor": 2
}
