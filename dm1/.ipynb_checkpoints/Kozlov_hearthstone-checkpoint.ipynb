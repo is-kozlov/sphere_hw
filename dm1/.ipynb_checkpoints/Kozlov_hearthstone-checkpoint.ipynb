{
 "cells": [
  {
   "cell_type": "markdown",
   "metadata": {},
   "source": [
    "# Алгоритмы интеллектуальной обработки больших объемов данных\n",
    "## Семестровый проект\n"
   ]
  },
  {
   "cell_type": "code",
   "execution_count": null,
   "metadata": {
    "collapsed": true
   },
   "outputs": [],
   "source": [
    "import pandas as pd\n",
    "import numpy as np\n",
    "import matplotlib.pyplot as plt\n",
    "import seaborn as sns\n",
    "sns.set_style('whitegrid')\n",
    "\n",
    "from sklearn.preprocessing import scale\n",
    "\n",
    "%matplotlib inline\n",
    "\n",
    "plt.style.use('ggplot')\n",
    "plt.rcParams['figure.figsize'] = (15,7)"
   ]
  },
  {
   "cell_type": "markdown",
   "metadata": {},
   "source": [
    "## О hearthstone"
   ]
  },
  {
   "cell_type": "markdown",
   "metadata": {},
   "source": [
    "[Hearthstone](http://eu.battle.net/hearthstone/ru/) - карточная он-лайн игра по мотивам вселенной Warcraft.\n",
    "\n",
    "Каждый игрок играет за персонажа определенного класса и собирает колоду карт которую может разыгрывать во время игры. Для дальнейших деталей обратитесь к [wiki](https://ru.wikipedia.org/wiki/Hearthstone), посмотрите youtube или поиграйте сами (но не долго =) ).\n",
    "\n",
    "Теми или иными способами игрок может отнимать жизни у своего оппонента, таким образом цель раунда - побить другого игрока."
   ]
  },
  {
   "cell_type": "markdown",
   "metadata": {},
   "source": [
    "<center><img src='http://ps3hits.ru/wp-content/uploads/2015/08/hearthstone-game-sshot-1.jpg'></center>"
   ]
  },
  {
   "cell_type": "markdown",
   "metadata": {},
   "source": [
    "## Постановка задачи"
   ]
  },
  {
   "cell_type": "markdown",
   "metadata": {},
   "source": [
    "В рамках конференции [AAIA 17](https://fedcsis.org/2017/aaia) было запущено [соревнование](https://knowledgepit.fedcsis.org/contest/view.php?id=120) по предсказанию исхода раунда в heartstone. \n",
    "\n",
    "Используя признаки, которые описывают текущее состояние раунда, необходимо предсказать **вероятность** победы игрока в этом раунде.\n",
    "\n",
    "Качество модели измеряется с помощью **ROC-AUC**\n",
    "\n",
    "### Правила\n",
    "* Объединяться в команды по правилам конкурса можно, но по правилам нашего курса - нельзя)\n",
    "* Вы можете использовать любой алгоритм, даже неизученный в нашем курсе (если на защите сможете объяснить, как он работает)\n",
    "* Имейте ввиду, что вы должны отправить результаты строго до 14 мая 23:59 GMT на сайт соревнования (раздел submission). Без результата в leaderboard оценка выставлена не будет."
   ]
  },
  {
   "cell_type": "markdown",
   "metadata": {},
   "source": [
    "## Данные\n",
    "\n",
    "Для того, чтобы получить данные, необходимо зарегистрироваться на сайте соревнования. \n",
    "\n",
    "Данные содержат набор информации о раунде в некоторый момент времени: жизни игрока и оппонента, номер хода, карты на столе, карты в руке игрока, количество карт в руке оппонента и тп.<br/>\n",
    "По игроку №1 (далее просто **игрок**) помимо всего прочего известен набор карт \"в руке\".</br>\n",
    "По игроку №2 (далее просто **оппонент**) эта информация отсутствует.</br>\n",
    "\n",
    "\n",
    "Данные поставляются в двух форматах:\n",
    "* В формате json содержится полная информация по текущему состоянию раунда\n",
    "* В табличном формате упрощенная аггрерированная информация по текущему состоянию раунда\n",
    "\n",
    "В данных для обучению содержится 2 млн. игр, разбитых на 4 файла. Названия признаков говорят сами за себя.\n",
    "Целевой признак - `decision` (1 - победил игрок, 0 - победил оппонент)."
   ]
  },
  {
   "cell_type": "code",
   "execution_count": 39,
   "metadata": {
    "collapsed": false
   },
   "outputs": [],
   "source": [
    "# Загрузка данных целиком\n",
    "df_list = []\n",
    "for chunk in range(4,5):\n",
    "    #filepath = '/media/ivan/Acer/Ivan/sphere/Hearthstone/trainingData_tabular_chunk%d.csv' % chunk\n",
    "    filepath = 'C:\\Ivan\\sphere\\Hearthstone\\\\trainingData_tabular_chunk%d.csv' % chunk\n",
    "\n",
    "    df_list.append(pd.read_csv(filepath, sep=','))\n",
    "\n",
    "df_data = pd.concat(df_list)"
   ]
  },
  {
   "cell_type": "code",
   "execution_count": 40,
   "metadata": {
    "collapsed": false
   },
   "outputs": [
    {
     "data": {
      "text/plain": [
       "(500000, 45)"
      ]
     },
     "execution_count": 40,
     "metadata": {},
     "output_type": "execute_result"
    }
   ],
   "source": [
    "df_data.shape"
   ]
  },
  {
   "cell_type": "code",
   "execution_count": 41,
   "metadata": {
    "collapsed": false
   },
   "outputs": [],
   "source": [
    "# для удобства\n",
    "df_data.columns = df_data.columns.str.replace('.', '_')\n",
    "df_data = df_data.set_index('gamestate_id')"
   ]
  },
  {
   "cell_type": "code",
   "execution_count": 42,
   "metadata": {
    "collapsed": false
   },
   "outputs": [
    {
     "data": {
      "text/html": [
       "<div>\n",
       "<table border=\"1\" class=\"dataframe\">\n",
       "  <thead>\n",
       "    <tr style=\"text-align: right;\">\n",
       "      <th>gamestate_id</th>\n",
       "      <th>4246724</th>\n",
       "      <th>2920165</th>\n",
       "      <th>4168328</th>\n",
       "      <th>3931182</th>\n",
       "      <th>2236781</th>\n",
       "    </tr>\n",
       "  </thead>\n",
       "  <tbody>\n",
       "    <tr>\n",
       "      <th>decision</th>\n",
       "      <td>0</td>\n",
       "      <td>0</td>\n",
       "      <td>1</td>\n",
       "      <td>0</td>\n",
       "      <td>0</td>\n",
       "    </tr>\n",
       "    <tr>\n",
       "      <th>turn</th>\n",
       "      <td>14</td>\n",
       "      <td>16</td>\n",
       "      <td>10</td>\n",
       "      <td>12</td>\n",
       "      <td>3</td>\n",
       "    </tr>\n",
       "    <tr>\n",
       "      <th>opponent_armor</th>\n",
       "      <td>0</td>\n",
       "      <td>0</td>\n",
       "      <td>2</td>\n",
       "      <td>0</td>\n",
       "      <td>0</td>\n",
       "    </tr>\n",
       "    <tr>\n",
       "      <th>opponent_attack</th>\n",
       "      <td>0</td>\n",
       "      <td>0</td>\n",
       "      <td>0</td>\n",
       "      <td>0</td>\n",
       "      <td>0</td>\n",
       "    </tr>\n",
       "    <tr>\n",
       "      <th>opponent_hero_card_id</th>\n",
       "      <td>390</td>\n",
       "      <td>494</td>\n",
       "      <td>1235</td>\n",
       "      <td>25</td>\n",
       "      <td>326</td>\n",
       "    </tr>\n",
       "    <tr>\n",
       "      <th>opponent_hp</th>\n",
       "      <td>21</td>\n",
       "      <td>24</td>\n",
       "      <td>19</td>\n",
       "      <td>9</td>\n",
       "      <td>30</td>\n",
       "    </tr>\n",
       "    <tr>\n",
       "      <th>opponent_special_skill_used</th>\n",
       "      <td>0</td>\n",
       "      <td>0</td>\n",
       "      <td>0</td>\n",
       "      <td>0</td>\n",
       "      <td>1</td>\n",
       "    </tr>\n",
       "    <tr>\n",
       "      <th>opponent_weapon_durability</th>\n",
       "      <td>0</td>\n",
       "      <td>0</td>\n",
       "      <td>0</td>\n",
       "      <td>0</td>\n",
       "      <td>0</td>\n",
       "    </tr>\n",
       "    <tr>\n",
       "      <th>opponent_crystals_all</th>\n",
       "      <td>10</td>\n",
       "      <td>10</td>\n",
       "      <td>9</td>\n",
       "      <td>10</td>\n",
       "      <td>2</td>\n",
       "    </tr>\n",
       "    <tr>\n",
       "      <th>opponent_crystals_current</th>\n",
       "      <td>1</td>\n",
       "      <td>3</td>\n",
       "      <td>0</td>\n",
       "      <td>1</td>\n",
       "      <td>0</td>\n",
       "    </tr>\n",
       "    <tr>\n",
       "      <th>opponent_deck_count</th>\n",
       "      <td>11</td>\n",
       "      <td>10</td>\n",
       "      <td>15</td>\n",
       "      <td>15</td>\n",
       "      <td>24</td>\n",
       "    </tr>\n",
       "    <tr>\n",
       "      <th>opponent_fatigue_damage</th>\n",
       "      <td>0</td>\n",
       "      <td>0</td>\n",
       "      <td>0</td>\n",
       "      <td>0</td>\n",
       "      <td>0</td>\n",
       "    </tr>\n",
       "    <tr>\n",
       "      <th>opponent_hand_count</th>\n",
       "      <td>3</td>\n",
       "      <td>2</td>\n",
       "      <td>5</td>\n",
       "      <td>1</td>\n",
       "      <td>6</td>\n",
       "    </tr>\n",
       "    <tr>\n",
       "      <th>opponent_played_minions_count</th>\n",
       "      <td>4</td>\n",
       "      <td>1</td>\n",
       "      <td>4</td>\n",
       "      <td>2</td>\n",
       "      <td>0</td>\n",
       "    </tr>\n",
       "    <tr>\n",
       "      <th>player_armor</th>\n",
       "      <td>0</td>\n",
       "      <td>0</td>\n",
       "      <td>0</td>\n",
       "      <td>0</td>\n",
       "      <td>0</td>\n",
       "    </tr>\n",
       "    <tr>\n",
       "      <th>player_attack</th>\n",
       "      <td>0</td>\n",
       "      <td>0</td>\n",
       "      <td>0</td>\n",
       "      <td>0</td>\n",
       "      <td>0</td>\n",
       "    </tr>\n",
       "    <tr>\n",
       "      <th>player_hero_card_id</th>\n",
       "      <td>25</td>\n",
       "      <td>494</td>\n",
       "      <td>981</td>\n",
       "      <td>25</td>\n",
       "      <td>25</td>\n",
       "    </tr>\n",
       "    <tr>\n",
       "      <th>player_hp</th>\n",
       "      <td>5</td>\n",
       "      <td>5</td>\n",
       "      <td>19</td>\n",
       "      <td>21</td>\n",
       "      <td>26</td>\n",
       "    </tr>\n",
       "    <tr>\n",
       "      <th>player_special_skill_used</th>\n",
       "      <td>0</td>\n",
       "      <td>0</td>\n",
       "      <td>0</td>\n",
       "      <td>0</td>\n",
       "      <td>0</td>\n",
       "    </tr>\n",
       "    <tr>\n",
       "      <th>player_weapon_durability</th>\n",
       "      <td>0</td>\n",
       "      <td>0</td>\n",
       "      <td>0</td>\n",
       "      <td>0</td>\n",
       "      <td>0</td>\n",
       "    </tr>\n",
       "    <tr>\n",
       "      <th>player_crystals_all</th>\n",
       "      <td>10</td>\n",
       "      <td>10</td>\n",
       "      <td>10</td>\n",
       "      <td>10</td>\n",
       "      <td>2</td>\n",
       "    </tr>\n",
       "    <tr>\n",
       "      <th>player_crystals_current</th>\n",
       "      <td>3</td>\n",
       "      <td>0</td>\n",
       "      <td>10</td>\n",
       "      <td>5</td>\n",
       "      <td>0</td>\n",
       "    </tr>\n",
       "    <tr>\n",
       "      <th>player_deck_count</th>\n",
       "      <td>13</td>\n",
       "      <td>8</td>\n",
       "      <td>15</td>\n",
       "      <td>15</td>\n",
       "      <td>25</td>\n",
       "    </tr>\n",
       "    <tr>\n",
       "      <th>player_fatigue_damage</th>\n",
       "      <td>0</td>\n",
       "      <td>0</td>\n",
       "      <td>0</td>\n",
       "      <td>0</td>\n",
       "      <td>0</td>\n",
       "    </tr>\n",
       "    <tr>\n",
       "      <th>player_hand_count</th>\n",
       "      <td>2</td>\n",
       "      <td>4</td>\n",
       "      <td>4</td>\n",
       "      <td>0</td>\n",
       "      <td>5</td>\n",
       "    </tr>\n",
       "    <tr>\n",
       "      <th>player_played_minions_count</th>\n",
       "      <td>0</td>\n",
       "      <td>2</td>\n",
       "      <td>3</td>\n",
       "      <td>1</td>\n",
       "      <td>1</td>\n",
       "    </tr>\n",
       "    <tr>\n",
       "      <th>opponent_played_nOfCards</th>\n",
       "      <td>4</td>\n",
       "      <td>1</td>\n",
       "      <td>4</td>\n",
       "      <td>2</td>\n",
       "      <td>0</td>\n",
       "    </tr>\n",
       "    <tr>\n",
       "      <th>opponent_played_attack</th>\n",
       "      <td>24</td>\n",
       "      <td>2</td>\n",
       "      <td>8</td>\n",
       "      <td>6</td>\n",
       "      <td>0</td>\n",
       "    </tr>\n",
       "    <tr>\n",
       "      <th>opponent_played_crystals_cost</th>\n",
       "      <td>21</td>\n",
       "      <td>5</td>\n",
       "      <td>12</td>\n",
       "      <td>4</td>\n",
       "      <td>0</td>\n",
       "    </tr>\n",
       "    <tr>\n",
       "      <th>opponent_played_hp_current</th>\n",
       "      <td>17</td>\n",
       "      <td>7</td>\n",
       "      <td>10</td>\n",
       "      <td>4</td>\n",
       "      <td>0</td>\n",
       "    </tr>\n",
       "    <tr>\n",
       "      <th>opponent_played_hp_max</th>\n",
       "      <td>25</td>\n",
       "      <td>7</td>\n",
       "      <td>13</td>\n",
       "      <td>5</td>\n",
       "      <td>0</td>\n",
       "    </tr>\n",
       "    <tr>\n",
       "      <th>player_played_nOfCards</th>\n",
       "      <td>0</td>\n",
       "      <td>2</td>\n",
       "      <td>3</td>\n",
       "      <td>1</td>\n",
       "      <td>1</td>\n",
       "    </tr>\n",
       "    <tr>\n",
       "      <th>player_played_attack</th>\n",
       "      <td>0</td>\n",
       "      <td>9</td>\n",
       "      <td>11</td>\n",
       "      <td>10</td>\n",
       "      <td>1</td>\n",
       "    </tr>\n",
       "    <tr>\n",
       "      <th>player_played_crystals_cost</th>\n",
       "      <td>0</td>\n",
       "      <td>10</td>\n",
       "      <td>11</td>\n",
       "      <td>6</td>\n",
       "      <td>1</td>\n",
       "    </tr>\n",
       "    <tr>\n",
       "      <th>player_played_hp_current</th>\n",
       "      <td>0</td>\n",
       "      <td>13</td>\n",
       "      <td>12</td>\n",
       "      <td>6</td>\n",
       "      <td>1</td>\n",
       "    </tr>\n",
       "    <tr>\n",
       "      <th>player_played_hp_max</th>\n",
       "      <td>0</td>\n",
       "      <td>13</td>\n",
       "      <td>12</td>\n",
       "      <td>6</td>\n",
       "      <td>1</td>\n",
       "    </tr>\n",
       "    <tr>\n",
       "      <th>player_hand_nOfMinions</th>\n",
       "      <td>2</td>\n",
       "      <td>2</td>\n",
       "      <td>3</td>\n",
       "      <td>0</td>\n",
       "      <td>5</td>\n",
       "    </tr>\n",
       "    <tr>\n",
       "      <th>player_hand_nOfSpells</th>\n",
       "      <td>0</td>\n",
       "      <td>2</td>\n",
       "      <td>1</td>\n",
       "      <td>0</td>\n",
       "      <td>0</td>\n",
       "    </tr>\n",
       "    <tr>\n",
       "      <th>player_hand_nOfWeapons</th>\n",
       "      <td>0</td>\n",
       "      <td>0</td>\n",
       "      <td>0</td>\n",
       "      <td>0</td>\n",
       "      <td>0</td>\n",
       "    </tr>\n",
       "    <tr>\n",
       "      <th>player_hand_nOfCards</th>\n",
       "      <td>2</td>\n",
       "      <td>4</td>\n",
       "      <td>4</td>\n",
       "      <td>0</td>\n",
       "      <td>5</td>\n",
       "    </tr>\n",
       "    <tr>\n",
       "      <th>player_hand_nOfPlayable</th>\n",
       "      <td>0</td>\n",
       "      <td>0</td>\n",
       "      <td>4</td>\n",
       "      <td>0</td>\n",
       "      <td>0</td>\n",
       "    </tr>\n",
       "    <tr>\n",
       "      <th>player_hand_attack</th>\n",
       "      <td>6</td>\n",
       "      <td>7</td>\n",
       "      <td>15</td>\n",
       "      <td>0</td>\n",
       "      <td>19</td>\n",
       "    </tr>\n",
       "    <tr>\n",
       "      <th>player_hand_crystals_cost</th>\n",
       "      <td>8</td>\n",
       "      <td>18</td>\n",
       "      <td>22</td>\n",
       "      <td>0</td>\n",
       "      <td>21</td>\n",
       "    </tr>\n",
       "    <tr>\n",
       "      <th>player_hand_hp</th>\n",
       "      <td>9</td>\n",
       "      <td>9</td>\n",
       "      <td>17</td>\n",
       "      <td>0</td>\n",
       "      <td>20</td>\n",
       "    </tr>\n",
       "  </tbody>\n",
       "</table>\n",
       "</div>"
      ],
      "text/plain": [
       "gamestate_id                   4246724  2920165  4168328  3931182  2236781\n",
       "decision                             0        0        1        0        0\n",
       "turn                                14       16       10       12        3\n",
       "opponent_armor                       0        0        2        0        0\n",
       "opponent_attack                      0        0        0        0        0\n",
       "opponent_hero_card_id              390      494     1235       25      326\n",
       "opponent_hp                         21       24       19        9       30\n",
       "opponent_special_skill_used          0        0        0        0        1\n",
       "opponent_weapon_durability           0        0        0        0        0\n",
       "opponent_crystals_all               10       10        9       10        2\n",
       "opponent_crystals_current            1        3        0        1        0\n",
       "opponent_deck_count                 11       10       15       15       24\n",
       "opponent_fatigue_damage              0        0        0        0        0\n",
       "opponent_hand_count                  3        2        5        1        6\n",
       "opponent_played_minions_count        4        1        4        2        0\n",
       "player_armor                         0        0        0        0        0\n",
       "player_attack                        0        0        0        0        0\n",
       "player_hero_card_id                 25      494      981       25       25\n",
       "player_hp                            5        5       19       21       26\n",
       "player_special_skill_used            0        0        0        0        0\n",
       "player_weapon_durability             0        0        0        0        0\n",
       "player_crystals_all                 10       10       10       10        2\n",
       "player_crystals_current              3        0       10        5        0\n",
       "player_deck_count                   13        8       15       15       25\n",
       "player_fatigue_damage                0        0        0        0        0\n",
       "player_hand_count                    2        4        4        0        5\n",
       "player_played_minions_count          0        2        3        1        1\n",
       "opponent_played_nOfCards             4        1        4        2        0\n",
       "opponent_played_attack              24        2        8        6        0\n",
       "opponent_played_crystals_cost       21        5       12        4        0\n",
       "opponent_played_hp_current          17        7       10        4        0\n",
       "opponent_played_hp_max              25        7       13        5        0\n",
       "player_played_nOfCards               0        2        3        1        1\n",
       "player_played_attack                 0        9       11       10        1\n",
       "player_played_crystals_cost          0       10       11        6        1\n",
       "player_played_hp_current             0       13       12        6        1\n",
       "player_played_hp_max                 0       13       12        6        1\n",
       "player_hand_nOfMinions               2        2        3        0        5\n",
       "player_hand_nOfSpells                0        2        1        0        0\n",
       "player_hand_nOfWeapons               0        0        0        0        0\n",
       "player_hand_nOfCards                 2        4        4        0        5\n",
       "player_hand_nOfPlayable              0        0        4        0        0\n",
       "player_hand_attack                   6        7       15        0       19\n",
       "player_hand_crystals_cost            8       18       22        0       21\n",
       "player_hand_hp                       9        9       17        0       20"
      ]
     },
     "execution_count": 42,
     "metadata": {},
     "output_type": "execute_result"
    }
   ],
   "source": [
    "df_data.head().T"
   ]
  },
  {
   "cell_type": "code",
   "execution_count": 43,
   "metadata": {
    "collapsed": false
   },
   "outputs": [
    {
     "data": {
      "text/plain": [
       "0.50414999999999999"
      ]
     },
     "execution_count": 43,
     "metadata": {},
     "output_type": "execute_result"
    }
   ],
   "source": [
    "# Распределение классов\n",
    "y = df_data.decision.values\n",
    "df_data.drop(df_data[['decision']], axis=1, inplace=True)\n",
    "\n",
    "y.mean()\n",
    "# Примерно поровну"
   ]
  },
  {
   "cell_type": "markdown",
   "metadata": {},
   "source": [
    "<h2>Оценка качества с помощью кросс-валидации</h2>"
   ]
  },
  {
   "cell_type": "code",
   "execution_count": 10,
   "metadata": {
    "collapsed": true
   },
   "outputs": [],
   "source": [
    "from sklearn.metrics import roc_auc_score\n",
    "from sklearn.model_selection import cross_val_score\n",
    "\n",
    "def score_on_model(model, X, y):\n",
    "    print X.shape, y.shape\n",
    "    res = cross_val_score(model, X, y, scoring='roc_auc', cv=10)\n",
    "    print res.mean(), res.std()"
   ]
  },
  {
   "cell_type": "markdown",
   "metadata": {},
   "source": [
    "<h2>Подготовка данных для линейных методов</h2>"
   ]
  },
  {
   "cell_type": "markdown",
   "metadata": {},
   "source": [
    "hero_card_id - категориальная переменная"
   ]
  },
  {
   "cell_type": "code",
   "execution_count": 7,
   "metadata": {
    "collapsed": false,
    "scrolled": true
   },
   "outputs": [
    {
     "name": "stdout",
     "output_type": "stream",
     "text": [
      "Уникальные карты оппонента: [ 798  754  612  390   25 1235  494  981  326]\n",
      "Их число: 9\n",
      "Уникальные карты игрока: [ 981  754  612  494   25 1235  326  390  798]\n",
      "Их число: 9\n"
     ]
    }
   ],
   "source": [
    "un_opp = df_data['opponent_hero_card_id'].unique()\n",
    "print u'Уникальные карты оппонента:', un_opp\n",
    "print u'Их число:', len(un_opp)\n",
    "un_pl = df_data['player_hero_card_id'].unique()\n",
    "print u'Уникальные карты игрока:', un_pl\n",
    "print u'Их число:', len(un_pl)"
   ]
  },
  {
   "cell_type": "markdown",
   "metadata": {},
   "source": [
    "Векторизуем категориальные признаки - opponent_hero_card_id и player_hero_card_id. Эти поля могут принимать по 9 значений. Создадим для каждого из значений отдельную колонку, в которой для каждой игры будет стоять либо 0, либо 1, в зависимости от того, эта ли карта используется в данной игре:"
   ]
  },
  {
   "cell_type": "code",
   "execution_count": 8,
   "metadata": {
    "collapsed": false
   },
   "outputs": [],
   "source": [
    "from sklearn.preprocessing import OneHotEncoder\n",
    "\n",
    "opponent = OneHotEncoder().fit_transform(df_data['opponent_hero_card_id'].values.reshape(-1, 1)).toarray().astype(int)\n",
    "player = OneHotEncoder().fit_transform(df_data['player_hero_card_id'].values.reshape(-1, 1)).toarray().astype(int)\n",
    "\n",
    "for i in xrange(len(opponent[0])):\n",
    "    df_data['opponent_hero_card_{}'.format(i)] = opponent[:,i]\n",
    "    df_data['player_hero_card_{}'.format(i)] = player[:,i]"
   ]
  },
  {
   "cell_type": "markdown",
   "metadata": {},
   "source": [
    "Удалим ставшие ненужными колонки opponent_hero_card_id и player_hero_card_id:"
   ]
  },
  {
   "cell_type": "code",
   "execution_count": 9,
   "metadata": {
    "collapsed": false
   },
   "outputs": [],
   "source": [
    "df_data.drop(df_data[['opponent_hero_card_id', 'player_hero_card_id']], axis=1, inplace=True)"
   ]
  },
  {
   "cell_type": "markdown",
   "metadata": {},
   "source": [
    "Теперь наши данные выглядят так:"
   ]
  },
  {
   "cell_type": "code",
   "execution_count": 10,
   "metadata": {
    "collapsed": false,
    "scrolled": false
   },
   "outputs": [
    {
     "data": {
      "text/html": [
       "<div>\n",
       "<table border=\"1\" class=\"dataframe\">\n",
       "  <thead>\n",
       "    <tr style=\"text-align: right;\">\n",
       "      <th>gamestate_id</th>\n",
       "      <th>4687346.0</th>\n",
       "      <th>3270826.0</th>\n",
       "      <th>3189487.0</th>\n",
       "      <th>4098946.0</th>\n",
       "      <th>2661127.0</th>\n",
       "    </tr>\n",
       "  </thead>\n",
       "  <tbody>\n",
       "    <tr>\n",
       "      <th>turn</th>\n",
       "      <td>14</td>\n",
       "      <td>7</td>\n",
       "      <td>5</td>\n",
       "      <td>8</td>\n",
       "      <td>13</td>\n",
       "    </tr>\n",
       "    <tr>\n",
       "      <th>opponent_armor</th>\n",
       "      <td>0</td>\n",
       "      <td>0</td>\n",
       "      <td>3</td>\n",
       "      <td>0</td>\n",
       "      <td>0</td>\n",
       "    </tr>\n",
       "    <tr>\n",
       "      <th>opponent_attack</th>\n",
       "      <td>0</td>\n",
       "      <td>0</td>\n",
       "      <td>0</td>\n",
       "      <td>0</td>\n",
       "      <td>0</td>\n",
       "    </tr>\n",
       "    <tr>\n",
       "      <th>opponent_hp</th>\n",
       "      <td>5</td>\n",
       "      <td>22</td>\n",
       "      <td>29</td>\n",
       "      <td>26</td>\n",
       "      <td>30</td>\n",
       "    </tr>\n",
       "    <tr>\n",
       "      <th>opponent_special_skill_used</th>\n",
       "      <td>0</td>\n",
       "      <td>0</td>\n",
       "      <td>0</td>\n",
       "      <td>0</td>\n",
       "      <td>0</td>\n",
       "    </tr>\n",
       "    <tr>\n",
       "      <th>opponent_weapon_durability</th>\n",
       "      <td>0</td>\n",
       "      <td>0</td>\n",
       "      <td>0</td>\n",
       "      <td>0</td>\n",
       "      <td>0</td>\n",
       "    </tr>\n",
       "    <tr>\n",
       "      <th>opponent_crystals_all</th>\n",
       "      <td>10</td>\n",
       "      <td>6</td>\n",
       "      <td>4</td>\n",
       "      <td>7</td>\n",
       "      <td>10</td>\n",
       "    </tr>\n",
       "    <tr>\n",
       "      <th>opponent_crystals_current</th>\n",
       "      <td>10</td>\n",
       "      <td>6</td>\n",
       "      <td>1</td>\n",
       "      <td>7</td>\n",
       "      <td>1</td>\n",
       "    </tr>\n",
       "    <tr>\n",
       "      <th>opponent_deck_count</th>\n",
       "      <td>11</td>\n",
       "      <td>19</td>\n",
       "      <td>22</td>\n",
       "      <td>17</td>\n",
       "      <td>12</td>\n",
       "    </tr>\n",
       "    <tr>\n",
       "      <th>opponent_fatigue_damage</th>\n",
       "      <td>0</td>\n",
       "      <td>0</td>\n",
       "      <td>0</td>\n",
       "      <td>0</td>\n",
       "      <td>0</td>\n",
       "    </tr>\n",
       "    <tr>\n",
       "      <th>opponent_hand_count</th>\n",
       "      <td>2</td>\n",
       "      <td>8</td>\n",
       "      <td>4</td>\n",
       "      <td>7</td>\n",
       "      <td>3</td>\n",
       "    </tr>\n",
       "    <tr>\n",
       "      <th>opponent_played_minions_count</th>\n",
       "      <td>1</td>\n",
       "      <td>1</td>\n",
       "      <td>2</td>\n",
       "      <td>0</td>\n",
       "      <td>4</td>\n",
       "    </tr>\n",
       "    <tr>\n",
       "      <th>player_armor</th>\n",
       "      <td>0</td>\n",
       "      <td>0</td>\n",
       "      <td>1</td>\n",
       "      <td>0</td>\n",
       "      <td>0</td>\n",
       "    </tr>\n",
       "    <tr>\n",
       "      <th>player_attack</th>\n",
       "      <td>0</td>\n",
       "      <td>0</td>\n",
       "      <td>0</td>\n",
       "      <td>0</td>\n",
       "      <td>0</td>\n",
       "    </tr>\n",
       "    <tr>\n",
       "      <th>player_hp</th>\n",
       "      <td>17</td>\n",
       "      <td>29</td>\n",
       "      <td>30</td>\n",
       "      <td>26</td>\n",
       "      <td>8</td>\n",
       "    </tr>\n",
       "    <tr>\n",
       "      <th>player_special_skill_used</th>\n",
       "      <td>1</td>\n",
       "      <td>0</td>\n",
       "      <td>0</td>\n",
       "      <td>0</td>\n",
       "      <td>0</td>\n",
       "    </tr>\n",
       "    <tr>\n",
       "      <th>player_weapon_durability</th>\n",
       "      <td>0</td>\n",
       "      <td>0</td>\n",
       "      <td>0</td>\n",
       "      <td>0</td>\n",
       "      <td>0</td>\n",
       "    </tr>\n",
       "    <tr>\n",
       "      <th>player_crystals_all</th>\n",
       "      <td>10</td>\n",
       "      <td>7</td>\n",
       "      <td>6</td>\n",
       "      <td>8</td>\n",
       "      <td>10</td>\n",
       "    </tr>\n",
       "    <tr>\n",
       "      <th>player_crystals_current</th>\n",
       "      <td>0</td>\n",
       "      <td>0</td>\n",
       "      <td>5</td>\n",
       "      <td>8</td>\n",
       "      <td>10</td>\n",
       "    </tr>\n",
       "    <tr>\n",
       "      <th>player_deck_count</th>\n",
       "      <td>12</td>\n",
       "      <td>18</td>\n",
       "      <td>22</td>\n",
       "      <td>19</td>\n",
       "      <td>14</td>\n",
       "    </tr>\n",
       "    <tr>\n",
       "      <th>player_fatigue_damage</th>\n",
       "      <td>0</td>\n",
       "      <td>0</td>\n",
       "      <td>0</td>\n",
       "      <td>0</td>\n",
       "      <td>0</td>\n",
       "    </tr>\n",
       "    <tr>\n",
       "      <th>player_hand_count</th>\n",
       "      <td>5</td>\n",
       "      <td>7</td>\n",
       "      <td>5</td>\n",
       "      <td>9</td>\n",
       "      <td>4</td>\n",
       "    </tr>\n",
       "    <tr>\n",
       "      <th>player_played_minions_count</th>\n",
       "      <td>5</td>\n",
       "      <td>5</td>\n",
       "      <td>0</td>\n",
       "      <td>1</td>\n",
       "      <td>1</td>\n",
       "    </tr>\n",
       "    <tr>\n",
       "      <th>opponent_played_nOfCards</th>\n",
       "      <td>1</td>\n",
       "      <td>1</td>\n",
       "      <td>2</td>\n",
       "      <td>0</td>\n",
       "      <td>4</td>\n",
       "    </tr>\n",
       "    <tr>\n",
       "      <th>opponent_played_attack</th>\n",
       "      <td>2</td>\n",
       "      <td>2</td>\n",
       "      <td>8</td>\n",
       "      <td>0</td>\n",
       "      <td>15</td>\n",
       "    </tr>\n",
       "    <tr>\n",
       "      <th>opponent_played_crystals_cost</th>\n",
       "      <td>4</td>\n",
       "      <td>4</td>\n",
       "      <td>5</td>\n",
       "      <td>0</td>\n",
       "      <td>14</td>\n",
       "    </tr>\n",
       "    <tr>\n",
       "      <th>opponent_played_hp_current</th>\n",
       "      <td>6</td>\n",
       "      <td>2</td>\n",
       "      <td>8</td>\n",
       "      <td>0</td>\n",
       "      <td>16</td>\n",
       "    </tr>\n",
       "    <tr>\n",
       "      <th>opponent_played_hp_max</th>\n",
       "      <td>8</td>\n",
       "      <td>4</td>\n",
       "      <td>8</td>\n",
       "      <td>0</td>\n",
       "      <td>16</td>\n",
       "    </tr>\n",
       "    <tr>\n",
       "      <th>player_played_nOfCards</th>\n",
       "      <td>5</td>\n",
       "      <td>5</td>\n",
       "      <td>0</td>\n",
       "      <td>1</td>\n",
       "      <td>1</td>\n",
       "    </tr>\n",
       "    <tr>\n",
       "      <th>player_played_attack</th>\n",
       "      <td>21</td>\n",
       "      <td>10</td>\n",
       "      <td>0</td>\n",
       "      <td>3</td>\n",
       "      <td>6</td>\n",
       "    </tr>\n",
       "    <tr>\n",
       "      <th>player_played_crystals_cost</th>\n",
       "      <td>20</td>\n",
       "      <td>16</td>\n",
       "      <td>0</td>\n",
       "      <td>2</td>\n",
       "      <td>6</td>\n",
       "    </tr>\n",
       "    <tr>\n",
       "      <th>player_played_hp_current</th>\n",
       "      <td>20</td>\n",
       "      <td>16</td>\n",
       "      <td>0</td>\n",
       "      <td>2</td>\n",
       "      <td>7</td>\n",
       "    </tr>\n",
       "    <tr>\n",
       "      <th>player_played_hp_max</th>\n",
       "      <td>23</td>\n",
       "      <td>17</td>\n",
       "      <td>0</td>\n",
       "      <td>2</td>\n",
       "      <td>7</td>\n",
       "    </tr>\n",
       "    <tr>\n",
       "      <th>player_hand_nOfMinions</th>\n",
       "      <td>4</td>\n",
       "      <td>3</td>\n",
       "      <td>5</td>\n",
       "      <td>7</td>\n",
       "      <td>4</td>\n",
       "    </tr>\n",
       "    <tr>\n",
       "      <th>player_hand_nOfSpells</th>\n",
       "      <td>0</td>\n",
       "      <td>2</td>\n",
       "      <td>0</td>\n",
       "      <td>1</td>\n",
       "      <td>0</td>\n",
       "    </tr>\n",
       "    <tr>\n",
       "      <th>player_hand_nOfWeapons</th>\n",
       "      <td>1</td>\n",
       "      <td>2</td>\n",
       "      <td>0</td>\n",
       "      <td>1</td>\n",
       "      <td>0</td>\n",
       "    </tr>\n",
       "    <tr>\n",
       "      <th>player_hand_nOfCards</th>\n",
       "      <td>5</td>\n",
       "      <td>7</td>\n",
       "      <td>5</td>\n",
       "      <td>9</td>\n",
       "      <td>4</td>\n",
       "    </tr>\n",
       "    <tr>\n",
       "      <th>player_hand_nOfPlayable</th>\n",
       "      <td>0</td>\n",
       "      <td>0</td>\n",
       "      <td>2</td>\n",
       "      <td>9</td>\n",
       "      <td>4</td>\n",
       "    </tr>\n",
       "    <tr>\n",
       "      <th>player_hand_attack</th>\n",
       "      <td>20</td>\n",
       "      <td>17</td>\n",
       "      <td>26</td>\n",
       "      <td>36</td>\n",
       "      <td>13</td>\n",
       "    </tr>\n",
       "    <tr>\n",
       "      <th>player_hand_crystals_cost</th>\n",
       "      <td>22</td>\n",
       "      <td>26</td>\n",
       "      <td>28</td>\n",
       "      <td>44</td>\n",
       "      <td>13</td>\n",
       "    </tr>\n",
       "    <tr>\n",
       "      <th>player_hand_hp</th>\n",
       "      <td>17</td>\n",
       "      <td>20</td>\n",
       "      <td>27</td>\n",
       "      <td>36</td>\n",
       "      <td>14</td>\n",
       "    </tr>\n",
       "    <tr>\n",
       "      <th>opponent_hero_card_0</th>\n",
       "      <td>0</td>\n",
       "      <td>0</td>\n",
       "      <td>0</td>\n",
       "      <td>0</td>\n",
       "      <td>1</td>\n",
       "    </tr>\n",
       "    <tr>\n",
       "      <th>player_hero_card_0</th>\n",
       "      <td>0</td>\n",
       "      <td>0</td>\n",
       "      <td>0</td>\n",
       "      <td>0</td>\n",
       "      <td>0</td>\n",
       "    </tr>\n",
       "    <tr>\n",
       "      <th>opponent_hero_card_1</th>\n",
       "      <td>0</td>\n",
       "      <td>0</td>\n",
       "      <td>0</td>\n",
       "      <td>0</td>\n",
       "      <td>0</td>\n",
       "    </tr>\n",
       "    <tr>\n",
       "      <th>player_hero_card_1</th>\n",
       "      <td>0</td>\n",
       "      <td>0</td>\n",
       "      <td>0</td>\n",
       "      <td>0</td>\n",
       "      <td>0</td>\n",
       "    </tr>\n",
       "    <tr>\n",
       "      <th>opponent_hero_card_2</th>\n",
       "      <td>0</td>\n",
       "      <td>0</td>\n",
       "      <td>0</td>\n",
       "      <td>1</td>\n",
       "      <td>0</td>\n",
       "    </tr>\n",
       "    <tr>\n",
       "      <th>player_hero_card_2</th>\n",
       "      <td>0</td>\n",
       "      <td>0</td>\n",
       "      <td>0</td>\n",
       "      <td>0</td>\n",
       "      <td>0</td>\n",
       "    </tr>\n",
       "    <tr>\n",
       "      <th>opponent_hero_card_3</th>\n",
       "      <td>0</td>\n",
       "      <td>0</td>\n",
       "      <td>0</td>\n",
       "      <td>0</td>\n",
       "      <td>0</td>\n",
       "    </tr>\n",
       "    <tr>\n",
       "      <th>player_hero_card_3</th>\n",
       "      <td>0</td>\n",
       "      <td>0</td>\n",
       "      <td>0</td>\n",
       "      <td>0</td>\n",
       "      <td>1</td>\n",
       "    </tr>\n",
       "    <tr>\n",
       "      <th>opponent_hero_card_4</th>\n",
       "      <td>0</td>\n",
       "      <td>0</td>\n",
       "      <td>1</td>\n",
       "      <td>0</td>\n",
       "      <td>0</td>\n",
       "    </tr>\n",
       "    <tr>\n",
       "      <th>player_hero_card_4</th>\n",
       "      <td>0</td>\n",
       "      <td>0</td>\n",
       "      <td>1</td>\n",
       "      <td>0</td>\n",
       "      <td>0</td>\n",
       "    </tr>\n",
       "    <tr>\n",
       "      <th>opponent_hero_card_5</th>\n",
       "      <td>0</td>\n",
       "      <td>1</td>\n",
       "      <td>0</td>\n",
       "      <td>0</td>\n",
       "      <td>0</td>\n",
       "    </tr>\n",
       "    <tr>\n",
       "      <th>player_hero_card_5</th>\n",
       "      <td>0</td>\n",
       "      <td>1</td>\n",
       "      <td>0</td>\n",
       "      <td>0</td>\n",
       "      <td>0</td>\n",
       "    </tr>\n",
       "    <tr>\n",
       "      <th>opponent_hero_card_6</th>\n",
       "      <td>1</td>\n",
       "      <td>0</td>\n",
       "      <td>0</td>\n",
       "      <td>0</td>\n",
       "      <td>0</td>\n",
       "    </tr>\n",
       "    <tr>\n",
       "      <th>player_hero_card_6</th>\n",
       "      <td>0</td>\n",
       "      <td>0</td>\n",
       "      <td>0</td>\n",
       "      <td>0</td>\n",
       "      <td>0</td>\n",
       "    </tr>\n",
       "    <tr>\n",
       "      <th>opponent_hero_card_7</th>\n",
       "      <td>0</td>\n",
       "      <td>0</td>\n",
       "      <td>0</td>\n",
       "      <td>0</td>\n",
       "      <td>0</td>\n",
       "    </tr>\n",
       "    <tr>\n",
       "      <th>player_hero_card_7</th>\n",
       "      <td>1</td>\n",
       "      <td>0</td>\n",
       "      <td>0</td>\n",
       "      <td>1</td>\n",
       "      <td>0</td>\n",
       "    </tr>\n",
       "    <tr>\n",
       "      <th>opponent_hero_card_8</th>\n",
       "      <td>0</td>\n",
       "      <td>0</td>\n",
       "      <td>0</td>\n",
       "      <td>0</td>\n",
       "      <td>0</td>\n",
       "    </tr>\n",
       "    <tr>\n",
       "      <th>player_hero_card_8</th>\n",
       "      <td>0</td>\n",
       "      <td>0</td>\n",
       "      <td>0</td>\n",
       "      <td>0</td>\n",
       "      <td>0</td>\n",
       "    </tr>\n",
       "  </tbody>\n",
       "</table>\n",
       "</div>"
      ],
      "text/plain": [
       "gamestate_id                   4687346.0  3270826.0  3189487.0  4098946.0  \\\n",
       "turn                                  14          7          5          8   \n",
       "opponent_armor                         0          0          3          0   \n",
       "opponent_attack                        0          0          0          0   \n",
       "opponent_hp                            5         22         29         26   \n",
       "opponent_special_skill_used            0          0          0          0   \n",
       "opponent_weapon_durability             0          0          0          0   \n",
       "opponent_crystals_all                 10          6          4          7   \n",
       "opponent_crystals_current             10          6          1          7   \n",
       "opponent_deck_count                   11         19         22         17   \n",
       "opponent_fatigue_damage                0          0          0          0   \n",
       "opponent_hand_count                    2          8          4          7   \n",
       "opponent_played_minions_count          1          1          2          0   \n",
       "player_armor                           0          0          1          0   \n",
       "player_attack                          0          0          0          0   \n",
       "player_hp                             17         29         30         26   \n",
       "player_special_skill_used              1          0          0          0   \n",
       "player_weapon_durability               0          0          0          0   \n",
       "player_crystals_all                   10          7          6          8   \n",
       "player_crystals_current                0          0          5          8   \n",
       "player_deck_count                     12         18         22         19   \n",
       "player_fatigue_damage                  0          0          0          0   \n",
       "player_hand_count                      5          7          5          9   \n",
       "player_played_minions_count            5          5          0          1   \n",
       "opponent_played_nOfCards               1          1          2          0   \n",
       "opponent_played_attack                 2          2          8          0   \n",
       "opponent_played_crystals_cost          4          4          5          0   \n",
       "opponent_played_hp_current             6          2          8          0   \n",
       "opponent_played_hp_max                 8          4          8          0   \n",
       "player_played_nOfCards                 5          5          0          1   \n",
       "player_played_attack                  21         10          0          3   \n",
       "player_played_crystals_cost           20         16          0          2   \n",
       "player_played_hp_current              20         16          0          2   \n",
       "player_played_hp_max                  23         17          0          2   \n",
       "player_hand_nOfMinions                 4          3          5          7   \n",
       "player_hand_nOfSpells                  0          2          0          1   \n",
       "player_hand_nOfWeapons                 1          2          0          1   \n",
       "player_hand_nOfCards                   5          7          5          9   \n",
       "player_hand_nOfPlayable                0          0          2          9   \n",
       "player_hand_attack                    20         17         26         36   \n",
       "player_hand_crystals_cost             22         26         28         44   \n",
       "player_hand_hp                        17         20         27         36   \n",
       "opponent_hero_card_0                   0          0          0          0   \n",
       "player_hero_card_0                     0          0          0          0   \n",
       "opponent_hero_card_1                   0          0          0          0   \n",
       "player_hero_card_1                     0          0          0          0   \n",
       "opponent_hero_card_2                   0          0          0          1   \n",
       "player_hero_card_2                     0          0          0          0   \n",
       "opponent_hero_card_3                   0          0          0          0   \n",
       "player_hero_card_3                     0          0          0          0   \n",
       "opponent_hero_card_4                   0          0          1          0   \n",
       "player_hero_card_4                     0          0          1          0   \n",
       "opponent_hero_card_5                   0          1          0          0   \n",
       "player_hero_card_5                     0          1          0          0   \n",
       "opponent_hero_card_6                   1          0          0          0   \n",
       "player_hero_card_6                     0          0          0          0   \n",
       "opponent_hero_card_7                   0          0          0          0   \n",
       "player_hero_card_7                     1          0          0          1   \n",
       "opponent_hero_card_8                   0          0          0          0   \n",
       "player_hero_card_8                     0          0          0          0   \n",
       "\n",
       "gamestate_id                   2661127.0  \n",
       "turn                                  13  \n",
       "opponent_armor                         0  \n",
       "opponent_attack                        0  \n",
       "opponent_hp                           30  \n",
       "opponent_special_skill_used            0  \n",
       "opponent_weapon_durability             0  \n",
       "opponent_crystals_all                 10  \n",
       "opponent_crystals_current              1  \n",
       "opponent_deck_count                   12  \n",
       "opponent_fatigue_damage                0  \n",
       "opponent_hand_count                    3  \n",
       "opponent_played_minions_count          4  \n",
       "player_armor                           0  \n",
       "player_attack                          0  \n",
       "player_hp                              8  \n",
       "player_special_skill_used              0  \n",
       "player_weapon_durability               0  \n",
       "player_crystals_all                   10  \n",
       "player_crystals_current               10  \n",
       "player_deck_count                     14  \n",
       "player_fatigue_damage                  0  \n",
       "player_hand_count                      4  \n",
       "player_played_minions_count            1  \n",
       "opponent_played_nOfCards               4  \n",
       "opponent_played_attack                15  \n",
       "opponent_played_crystals_cost         14  \n",
       "opponent_played_hp_current            16  \n",
       "opponent_played_hp_max                16  \n",
       "player_played_nOfCards                 1  \n",
       "player_played_attack                   6  \n",
       "player_played_crystals_cost            6  \n",
       "player_played_hp_current               7  \n",
       "player_played_hp_max                   7  \n",
       "player_hand_nOfMinions                 4  \n",
       "player_hand_nOfSpells                  0  \n",
       "player_hand_nOfWeapons                 0  \n",
       "player_hand_nOfCards                   4  \n",
       "player_hand_nOfPlayable                4  \n",
       "player_hand_attack                    13  \n",
       "player_hand_crystals_cost             13  \n",
       "player_hand_hp                        14  \n",
       "opponent_hero_card_0                   1  \n",
       "player_hero_card_0                     0  \n",
       "opponent_hero_card_1                   0  \n",
       "player_hero_card_1                     0  \n",
       "opponent_hero_card_2                   0  \n",
       "player_hero_card_2                     0  \n",
       "opponent_hero_card_3                   0  \n",
       "player_hero_card_3                     1  \n",
       "opponent_hero_card_4                   0  \n",
       "player_hero_card_4                     0  \n",
       "opponent_hero_card_5                   0  \n",
       "player_hero_card_5                     0  \n",
       "opponent_hero_card_6                   0  \n",
       "player_hero_card_6                     0  \n",
       "opponent_hero_card_7                   0  \n",
       "player_hero_card_7                     0  \n",
       "opponent_hero_card_8                   0  \n",
       "player_hero_card_8                     0  "
      ]
     },
     "execution_count": 10,
     "metadata": {},
     "output_type": "execute_result"
    }
   ],
   "source": [
    "df_data.head().T"
   ]
  },
  {
   "cell_type": "markdown",
   "metadata": {},
   "source": [
    "Преобразуем dataframe в матрицу признаков:"
   ]
  },
  {
   "cell_type": "code",
   "execution_count": 11,
   "metadata": {
    "collapsed": false
   },
   "outputs": [
    {
     "name": "stdout",
     "output_type": "stream",
     "text": [
      "(1000000, 59) (1000000,)\n"
     ]
    }
   ],
   "source": [
    "X = df_data.values\n",
    "\n",
    "print X.shape, y.shape"
   ]
  },
  {
   "cell_type": "markdown",
   "metadata": {},
   "source": [
    "Нормировка"
   ]
  },
  {
   "cell_type": "code",
   "execution_count": 14,
   "metadata": {
    "collapsed": false
   },
   "outputs": [
    {
     "name": "stderr",
     "output_type": "stream",
     "text": [
      "/home/ivan/anaconda2/lib/python2.7/site-packages/sklearn/utils/validation.py:429: DataConversionWarning: Data with input dtype int64 was converted to float64 by the scale function.\n",
      "  warnings.warn(msg, _DataConversionWarning)\n"
     ]
    }
   ],
   "source": [
    "X = scale(X, copy=False)"
   ]
  },
  {
   "cell_type": "markdown",
   "metadata": {},
   "source": [
    "<h2>Логистическая регрессия</h2>"
   ]
  },
  {
   "cell_type": "markdown",
   "metadata": {},
   "source": [
    "Найдем оптимальные параметры модели на части данных. Будем считать, что данные распределены равномерно и для всей выборки параметры будут такими же. "
   ]
  },
  {
   "cell_type": "code",
   "execution_count": 15,
   "metadata": {
    "collapsed": true
   },
   "outputs": [],
   "source": [
    "from sklearn.model_selection import GridSearchCV\n",
    "from sklearn.linear_model import LogisticRegression"
   ]
  },
  {
   "cell_type": "code",
   "execution_count": 16,
   "metadata": {
    "collapsed": false
   },
   "outputs": [],
   "source": [
    "estimator = LogisticRegression(random_state=None)\n",
    "params = {'C': np.logspace(-3, 3, 20)}\n",
    "grid = GridSearchCV(estimator, params).fit(X[:100000], y[:100000])"
   ]
  },
  {
   "cell_type": "code",
   "execution_count": 25,
   "metadata": {
    "collapsed": false
   },
   "outputs": [
    {
     "data": {
      "image/png": "[encoded data removed]",
      "text/plain": [
       "<matplotlib.figure.Figure at 0x7fe83afe2850>"
      ]
     },
     "metadata": {},
     "output_type": "display_data"
    }
   ],
   "source": [
    "plt.plot(np.logspace(-3, 3, 20), grid.cv_results_['mean_test_score'])\n",
    "plt.xscale('log')"
   ]
  },
  {
   "cell_type": "markdown",
   "metadata": {},
   "source": [
    "Качество классификации не сильно меняется в зависимости от С, поэтому в дальнейшем для линейной регрессии будем использовать С=1.0"
   ]
  },
  {
   "cell_type": "markdown",
   "metadata": {},
   "source": [
    "Обучим классификатор с наилучшими параметрами на полной обучающей выборке:"
   ]
  },
  {
   "cell_type": "code",
   "execution_count": 16,
   "metadata": {
    "collapsed": true
   },
   "outputs": [],
   "source": [
    "model = LogisticRegression(C=1.0).fit(X, y)"
   ]
  },
  {
   "cell_type": "markdown",
   "metadata": {},
   "source": [
    "Точность 0.7896"
   ]
  },
  {
   "cell_type": "markdown",
   "metadata": {},
   "source": [
    "<h2>Random Forest</h2>"
   ]
  },
  {
   "cell_type": "code",
   "execution_count": 5,
   "metadata": {
    "collapsed": true
   },
   "outputs": [],
   "source": [
    "from sklearn.ensemble import RandomForestClassifier"
   ]
  },
  {
   "cell_type": "code",
   "execution_count": 7,
   "metadata": {
    "collapsed": false
   },
   "outputs": [
    {
     "name": "stdout",
     "output_type": "stream",
     "text": [
      "CPU times: user 2min 23s, sys: 228 ms, total: 2min 23s\n",
      "Wall time: 2min 23s\n"
     ]
    }
   ],
   "source": [
    "%%time\n",
    "model = RandomForestClassifier(n_estimators=100, max_features=10).fit(X, y)"
   ]
  },
  {
   "cell_type": "markdown",
   "metadata": {},
   "source": [
    "Лучшая точность 0.7569"
   ]
  },
  {
   "cell_type": "markdown",
   "metadata": {},
   "source": [
    "<h2>Понижение размерности</h2>"
   ]
  },
  {
   "cell_type": "code",
   "execution_count": 13,
   "metadata": {
    "collapsed": true
   },
   "outputs": [],
   "source": [
    "from sklearn.decomposition import PCA"
   ]
  },
  {
   "cell_type": "code",
   "execution_count": 15,
   "metadata": {
    "collapsed": true
   },
   "outputs": [],
   "source": [
    "pca = PCA(n_components=20, copy=False).fit(X)"
   ]
  },
  {
   "cell_type": "code",
   "execution_count": 17,
   "metadata": {
    "collapsed": false
   },
   "outputs": [],
   "source": [
    "X = pca.transform(X)"
   ]
  },
  {
   "cell_type": "code",
   "execution_count": 18,
   "metadata": {
    "collapsed": false
   },
   "outputs": [
    {
     "data": {
      "text/plain": [
       "(1000000, 20)"
      ]
     },
     "execution_count": 18,
     "metadata": {},
     "output_type": "execute_result"
    }
   ],
   "source": [
    "X.shape"
   ]
  },
  {
   "cell_type": "code",
   "execution_count": 23,
   "metadata": {
    "collapsed": false
   },
   "outputs": [
    {
     "data": {
      "text/plain": [
       "0.70063500000000001"
      ]
     },
     "execution_count": 23,
     "metadata": {},
     "output_type": "execute_result"
    }
   ],
   "source": [
    "grid.best_score_"
   ]
  },
  {
   "cell_type": "code",
   "execution_count": 26,
   "metadata": {
    "collapsed": false
   },
   "outputs": [],
   "source": [
    "model = LogisticRegression(C=1.0).fit(X, y)"
   ]
  },
  {
   "cell_type": "code",
   "execution_count": 33,
   "metadata": {
    "collapsed": false
   },
   "outputs": [],
   "source": [
    "X_test = pca.transform(X_test)"
   ]
  },
  {
   "cell_type": "markdown",
   "metadata": {},
   "source": [
    "Точность 0.7865"
   ]
  },
  {
   "cell_type": "markdown",
   "metadata": {},
   "source": [
    "<h2>SVM</h2>"
   ]
  },
  {
   "cell_type": "code",
   "execution_count": 26,
   "metadata": {
    "collapsed": true
   },
   "outputs": [],
   "source": [
    "from sklearn.svm import SVC"
   ]
  },
  {
   "cell_type": "code",
   "execution_count": 27,
   "metadata": {
    "collapsed": false
   },
   "outputs": [
    {
     "name": "stdout",
     "output_type": "stream",
     "text": [
      "CPU times: user 19.7 s, sys: 52 ms, total: 19.7 s\n",
      "Wall time: 19.7 s\n"
     ]
    }
   ],
   "source": [
    "%%time\n",
    "model = SVC(kernel='linear').fit(X[:10000], y[:10000])"
   ]
  },
  {
   "cell_type": "markdown",
   "metadata": {},
   "source": [
    "Очень долго работает"
   ]
  },
  {
   "cell_type": "markdown",
   "metadata": {},
   "source": [
    "<h2>Feature selection</h2>"
   ]
  },
  {
   "cell_type": "markdown",
   "metadata": {},
   "source": [
    "Визуализируем матрицу корреляций. Много ли коррелирующих признаков?"
   ]
  },
  {
   "cell_type": "code",
   "execution_count": 35,
   "metadata": {
    "collapsed": false
   },
   "outputs": [
    {
     "data": {
      "text/plain": [
       "<matplotlib.axes._subplots.AxesSubplot at 0x7fe83ad99550>"
      ]
     },
     "execution_count": 35,
     "metadata": {},
     "output_type": "execute_result"
    },
    {
     "data": {
      "image/png": "[encoded data removed]",
      "text/plain": [
       "<matplotlib.figure.Figure at 0x7fe83b269890>"
      ]
     },
     "metadata": {},
     "output_type": "display_data"
    }
   ],
   "source": [
    "sns.heatmap(df_data.corr())"
   ]
  },
  {
   "cell_type": "code",
   "execution_count": 8,
   "metadata": {
    "collapsed": false
   },
   "outputs": [],
   "source": [
    "corr_matrix = df_data.corr()"
   ]
  },
  {
   "cell_type": "code",
   "execution_count": 12,
   "metadata": {
    "collapsed": false
   },
   "outputs": [
    {
     "data": {
      "text/plain": [
       "1.0"
      ]
     },
     "execution_count": 12,
     "metadata": {},
     "output_type": "execute_result"
    }
   ],
   "source": [
    "corr_matrix.loc['opponent_played_nOfCards', 'opponent_played_minions_count']"
   ]
  },
  {
   "cell_type": "code",
   "execution_count": 13,
   "metadata": {
    "collapsed": false
   },
   "outputs": [
    {
     "data": {
      "text/plain": [
       "1.0"
      ]
     },
     "execution_count": 13,
     "metadata": {},
     "output_type": "execute_result"
    }
   ],
   "source": [
    "corr_matrix.loc['player_played_nOfCards', 'player_played_minions_count']"
   ]
  },
  {
   "cell_type": "code",
   "execution_count": 14,
   "metadata": {
    "collapsed": false
   },
   "outputs": [
    {
     "data": {
      "text/plain": [
       "0.9853100341185892"
      ]
     },
     "execution_count": 14,
     "metadata": {},
     "output_type": "execute_result"
    }
   ],
   "source": [
    "corr_matrix.loc['player_crystals_all', 'opponent_crystals_all']"
   ]
  },
  {
   "cell_type": "code",
   "execution_count": 16,
   "metadata": {
    "collapsed": false
   },
   "outputs": [
    {
     "data": {
      "text/plain": [
       "1.0"
      ]
     },
     "execution_count": 16,
     "metadata": {},
     "output_type": "execute_result"
    }
   ],
   "source": [
    "corr_matrix.loc['player_hand_nOfCards', 'player_hand_count']"
   ]
  },
  {
   "cell_type": "markdown",
   "metadata": {},
   "source": [
    "Эти столбцы полность коррелируют, значит по одному из них можно удалить<br>\n",
    "'opponent_played_minions_count'<br>\n",
    "'player_played_minions_count'<br>\n",
    "'opponent_crystals_all'<br>\n",
    "'player_hand_count'"
   ]
  },
  {
   "cell_type": "code",
   "execution_count": 37,
   "metadata": {
    "collapsed": true
   },
   "outputs": [],
   "source": [
    "from sklearn.ensemble import RandomForestClassifier"
   ]
  },
  {
   "cell_type": "code",
   "execution_count": 38,
   "metadata": {
    "collapsed": false
   },
   "outputs": [
    {
     "name": "stdout",
     "output_type": "stream",
     "text": [
      "(1000000, 43) (1000000,)\n"
     ]
    }
   ],
   "source": [
    "X = df_data.values\n",
    "\n",
    "print X.shape, y.shape"
   ]
  },
  {
   "cell_type": "code",
   "execution_count": 39,
   "metadata": {
    "collapsed": false
   },
   "outputs": [
    {
     "name": "stdout",
     "output_type": "stream",
     "text": [
      "CPU times: user 2min 55s, sys: 172 ms, total: 2min 55s\n",
      "Wall time: 2min 55s\n"
     ]
    }
   ],
   "source": [
    "%%time\n",
    "model = RandomForestClassifier(n_estimators=20, max_features=20).fit(X, y)"
   ]
  },
  {
   "cell_type": "code",
   "execution_count": 41,
   "metadata": {
    "collapsed": false
   },
   "outputs": [
    {
     "data": {
      "text/plain": [
       "[('opponent_hp', 0.069457548557785798),\n",
       " ('player_played_attack', 0.068275367599742703),\n",
       " ('player_hp', 0.065230407958428202),\n",
       " ('player_hand_crystals_cost', 0.050755031260770689),\n",
       " ('opponent_played_attack', 0.050361436482449264),\n",
       " ('player_hand_hp', 0.047958456469363836),\n",
       " ('player_hand_attack', 0.045647360765560349),\n",
       " ('opponent_hero_card_id', 0.043812070616294524),\n",
       " ('opponent_played_hp_max', 0.041388366801771777),\n",
       " ('player_played_hp_max', 0.039919822610132147),\n",
       " ('player_hero_card_id', 0.037078428492429885),\n",
       " ('opponent_hand_count', 0.033831018415079114),\n",
       " ('opponent_deck_count', 0.027819379634709606),\n",
       " ('opponent_crystals_current', 0.027556375276862676),\n",
       " ('opponent_played_hp_current', 0.026076228644640237),\n",
       " ('player_deck_count', 0.02531083147345602),\n",
       " ('player_played_hp_current', 0.024933498670582574),\n",
       " ('opponent_played_crystals_cost', 0.024505653696606192),\n",
       " ('player_played_crystals_cost', 0.023458411934513052),\n",
       " ('player_crystals_current', 0.019002632433722196),\n",
       " ('player_hand_nOfPlayable', 0.018540578359094128),\n",
       " ('turn', 0.01773193909647747),\n",
       " ('player_hand_nOfMinions', 0.01602498951690929),\n",
       " ('player_hand_nOfSpells', 0.014918164956218075),\n",
       " ('player_hand_nOfCards', 0.011221296004994896),\n",
       " ('player_hand_count', 0.011113217531846594),\n",
       " ('opponent_crystals_all', 0.011057939655233894),\n",
       " ('player_played_nOfCards', 0.01041836688407367),\n",
       " ('player_armor', 0.0098603567176924253),\n",
       " ('player_crystals_all', 0.0097683728541732764),\n",
       " ('opponent_played_nOfCards', 0.0095125044677984716),\n",
       " ('opponent_armor', 0.0094945118726640285),\n",
       " ('player_played_minions_count', 0.0082282594330507063),\n",
       " ('opponent_played_minions_count', 0.0080455575434881608),\n",
       " ('player_attack', 0.0073835939841687317),\n",
       " ('player_hand_nOfWeapons', 0.0071223581974365251),\n",
       " ('player_weapon_durability', 0.0064836200855149561),\n",
       " ('opponent_weapon_durability', 0.0064746736763615555),\n",
       " ('opponent_attack', 0.005960418323498075),\n",
       " ('player_special_skill_used', 0.0043362765796289048),\n",
       " ('opponent_special_skill_used', 0.0035364627844094798),\n",
       " ('opponent_fatigue_damage', 0.00026154679829961747),\n",
       " ('player_fatigue_damage', 0.00012666688206619336)]"
      ]
     },
     "execution_count": 41,
     "metadata": {},
     "output_type": "execute_result"
    }
   ],
   "source": [
    "features = {}\n",
    "columns = list(df_data.columns)\n",
    "for i in xrange(len(columns)):\n",
    "    features[columns[i]] = model.feature_importances_[i]\n",
    "    \n",
    "import operator\n",
    "sorted_features = sorted(features.items(), key=operator.itemgetter(1), reverse=True)\n",
    "sorted_features"
   ]
  },
  {
   "cell_type": "markdown",
   "metadata": {},
   "source": [
    "Можно выделить 24 самых важных признака. Как раз в этом месте есть разрыв в показателе важности и все парные признаки попадают по одну сторону от разделительной границы"
   ]
  },
  {
   "cell_type": "code",
   "execution_count": 42,
   "metadata": {
    "collapsed": false
   },
   "outputs": [
    {
     "data": {
      "text/plain": [
       "array(['opponent_hp', 'player_played_attack', 'player_hp',\n",
       "       'player_hand_crystals_cost', 'opponent_played_attack',\n",
       "       'player_hand_hp', 'player_hand_attack', 'opponent_hero_card_id',\n",
       "       'opponent_played_hp_max', 'player_played_hp_max',\n",
       "       'player_hero_card_id', 'opponent_hand_count', 'opponent_deck_count',\n",
       "       'opponent_crystals_current', 'opponent_played_hp_current',\n",
       "       'player_deck_count', 'player_played_hp_current',\n",
       "       'opponent_played_crystals_cost', 'player_played_crystals_cost',\n",
       "       'player_crystals_current'], \n",
       "      dtype='|S29')"
      ]
     },
     "execution_count": 42,
     "metadata": {},
     "output_type": "execute_result"
    }
   ],
   "source": [
    "columns = np.array(sorted_features)[:20, 0]\n",
    "columns"
   ]
  },
  {
   "cell_type": "markdown",
   "metadata": {},
   "source": [
    "Чтобы не потерять"
   ]
  },
  {
   "cell_type": "code",
   "execution_count": 43,
   "metadata": {
    "collapsed": true
   },
   "outputs": [],
   "source": [
    "columns = ['opponent_hp', 'player_played_attack', 'player_hp',\n",
    "       'player_hand_crystals_cost', 'opponent_played_attack',\n",
    "       'player_hand_hp', 'player_hand_attack', 'opponent_hero_card_id',\n",
    "       'opponent_played_hp_max', 'player_played_hp_max',\n",
    "       'player_hero_card_id', 'opponent_hand_count', 'opponent_deck_count',\n",
    "       'opponent_crystals_current', 'opponent_played_hp_current',\n",
    "       'player_deck_count', 'player_played_hp_current',\n",
    "       'opponent_played_crystals_cost', 'player_played_crystals_cost',\n",
    "       'player_crystals_current']"
   ]
  },
  {
   "cell_type": "code",
   "execution_count": 44,
   "metadata": {
    "collapsed": true
   },
   "outputs": [],
   "source": [
    "df_data = df_data.loc[:, columns]"
   ]
  },
  {
   "cell_type": "code",
   "execution_count": 45,
   "metadata": {
    "collapsed": false
   },
   "outputs": [
    {
     "ename": "NameError",
     "evalue": "name 'df_test' is not defined",
     "output_type": "error",
     "traceback": [
      "\u001b[0;31m---------------------------------------------------------------------------\u001b[0m",
      "\u001b[0;31mNameError\u001b[0m                                 Traceback (most recent call last)",
      "\u001b[0;32m<ipython-input-45-1dd5775dda2b>\u001b[0m in \u001b[0;36m<module>\u001b[0;34m()\u001b[0m\n\u001b[0;32m----> 1\u001b[0;31m \u001b[0mdf_test\u001b[0m \u001b[0;34m=\u001b[0m \u001b[0mdf_test\u001b[0m\u001b[0;34m.\u001b[0m\u001b[0mloc\u001b[0m\u001b[0;34m[\u001b[0m\u001b[0;34m:\u001b[0m\u001b[0;34m,\u001b[0m \u001b[0mcolumns\u001b[0m\u001b[0;34m]\u001b[0m\u001b[0;34m\u001b[0m\u001b[0m\n\u001b[0m",
      "\u001b[0;31mNameError\u001b[0m: name 'df_test' is not defined"
     ]
    }
   ],
   "source": [
    "df_test = df_test.loc[:, columns]"
   ]
  },
  {
   "cell_type": "markdown",
   "metadata": {},
   "source": [
    "<h2>Feature engineering</h2>"
   ]
  },
  {
   "cell_type": "code",
   "execution_count": 21,
   "metadata": {
    "collapsed": false
   },
   "outputs": [
    {
     "data": {
      "text/plain": [
       "(500000L, 44L)"
      ]
     },
     "execution_count": 21,
     "metadata": {},
     "output_type": "execute_result"
    }
   ],
   "source": [
    "df_data['hp_ratio'] = df_data['opponent_hp']/df_data['player_hp']\n",
    "X = df_data.values\n",
    "X.shape"
   ]
  },
  {
   "cell_type": "code",
   "execution_count": 8,
   "metadata": {
    "collapsed": true
   },
   "outputs": [],
   "source": [
    "from sklearn.ensemble import RandomForestClassifier"
   ]
  },
  {
   "cell_type": "code",
   "execution_count": 13,
   "metadata": {
    "collapsed": false
   },
   "outputs": [
    {
     "name": "stdout",
     "output_type": "stream",
     "text": [
      "CPU times: user 6min 6s, sys: 508 ms, total: 6min 6s\n",
      "Wall time: 1min 34s\n"
     ]
    }
   ],
   "source": [
    "%%time\n",
    "model = RandomForestClassifier(n_estimators=20, max_features=20, n_jobs=4).fit(X, y)"
   ]
  },
  {
   "cell_type": "code",
   "execution_count": 15,
   "metadata": {
    "collapsed": false
   },
   "outputs": [
    {
     "data": {
      "text/plain": [
       "[('hp_ratio', 0.11666361580038231),\n",
       " ('player_played_attack', 0.055456749031352684),\n",
       " ('player_hand_crystals_cost', 0.04850288142282376),\n",
       " ('opponent_played_attack', 0.04679744762970782),\n",
       " ('player_hand_hp', 0.046630428099595042),\n",
       " ('player_played_hp_max', 0.046533169068654588),\n",
       " ('player_hand_attack', 0.043617132019494902),\n",
       " ('opponent_hero_card_id', 0.042105667383453324),\n",
       " ('opponent_played_hp_max', 0.039920642779020951),\n",
       " ('opponent_hp', 0.035716475712616033),\n",
       " ('player_hero_card_id', 0.035432931457971141),\n",
       " ('player_hp', 0.032647518733590265),\n",
       " ('opponent_hand_count', 0.031360788884659756),\n",
       " ('opponent_crystals_current', 0.025921276571393169),\n",
       " ('opponent_deck_count', 0.025830726593104213),\n",
       " ('player_played_crystals_cost', 0.024938136872162064),\n",
       " ('player_deck_count', 0.023654788163687018),\n",
       " ('opponent_played_crystals_cost', 0.021546803818425806),\n",
       " ('player_played_hp_current', 0.021380517535457669),\n",
       " ('opponent_played_hp_current', 0.020247389888184145),\n",
       " ('player_crystals_current', 0.017976366303505513),\n",
       " ('player_hand_nOfPlayable', 0.017604962218426116),\n",
       " ('turn', 0.01709574722434546),\n",
       " ('player_hand_nOfMinions', 0.014980064180436606),\n",
       " ('player_hand_nOfSpells', 0.014303941108260887),\n",
       " ('opponent_crystals_all', 0.010754011799914209),\n",
       " ('player_hand_count', 0.010649567979621414),\n",
       " ('player_hand_nOfCards', 0.010546604435674912),\n",
       " ('player_crystals_all', 0.0094081061039578626),\n",
       " ('player_armor', 0.009257237516163171),\n",
       " ('opponent_armor', 0.0091139753959729071),\n",
       " ('opponent_played_nOfCards', 0.0090931831803353728),\n",
       " ('player_played_nOfCards', 0.008392788830107285),\n",
       " ('player_played_minions_count', 0.0082792082273213316),\n",
       " ('opponent_played_minions_count', 0.0078498280890236267),\n",
       " ('player_attack', 0.0070755277374424056),\n",
       " ('player_hand_nOfWeapons', 0.0069221144619591932),\n",
       " ('opponent_weapon_durability', 0.0061571874387697425),\n",
       " ('player_weapon_durability', 0.006127429721592457),\n",
       " ('opponent_attack', 0.0056345618803792016),\n",
       " ('player_special_skill_used', 0.0041858336053286274),\n",
       " ('opponent_special_skill_used', 0.0032539512056167486),\n",
       " ('opponent_fatigue_damage', 0.00030150663250306457),\n",
       " ('player_fatigue_damage', 0.00013120725760518598)]"
      ]
     },
     "execution_count": 15,
     "metadata": {},
     "output_type": "execute_result"
    }
   ],
   "source": [
    "features = {}\n",
    "columns = list(df_data.columns)\n",
    "for i in xrange(len(columns)):\n",
    "    features[columns[i]] = model.feature_importances_[i]\n",
    "    \n",
    "import operator\n",
    "sorted_features = sorted(features.items(), key=operator.itemgetter(1), reverse=True)\n",
    "sorted_features"
   ]
  },
  {
   "cell_type": "markdown",
   "metadata": {},
   "source": [
    "Видим, что признак hp_ratio стал самым важным. Попробуем посчитать отношение для остальных важных парных признаков"
   ]
  },
  {
   "cell_type": "code",
   "execution_count": 29,
   "metadata": {
    "collapsed": false
   },
   "outputs": [
    {
     "data": {
      "text/plain": [
       "(1000000, 49)"
      ]
     },
     "execution_count": 29,
     "metadata": {},
     "output_type": "execute_result"
    }
   ],
   "source": [
    "df_data['played_attack_ratio'] = df_data['opponent_played_attack']/df_data['player_played_attack']\n",
    "df_data['played_hp_max_ratio'] = df_data['opponent_played_hp_max']/df_data['player_played_hp_max']\n",
    "df_data['deck_count_ratio'] = df_data['opponent_deck_count']/df_data['player_deck_count']\n",
    "df_data['crystals_current_ratio'] = df_data['opponent_crystals_current']/df_data['player_crystals_current']\n",
    "df_data['played_crystals_cost_ratio'] = df_data['opponent_played_crystals_cost']/df_data['player_played_crystals_cost']\n",
    "df_data.replace(to_replace=[np.inf, np.nan], value=0)\n",
    "df_data.fillna(0)\n",
    "X = df_data.values\n",
    "X.shape"
   ]
  },
  {
   "cell_type": "code",
   "execution_count": 41,
   "metadata": {
    "collapsed": false
   },
   "outputs": [],
   "source": [
    "X[X == np.inf] = 0\n",
    "X[np.isnan(X)] = 0\n",
    "np.unique(np.isnan(X))"
   ]
  },
  {
   "cell_type": "code",
   "execution_count": 42,
   "metadata": {
    "collapsed": false
   },
   "outputs": [
    {
     "name": "stdout",
     "output_type": "stream",
     "text": [
      "CPU times: user 6min 25s, sys: 816 ms, total: 6min 26s\n",
      "Wall time: 1min 43s\n"
     ]
    }
   ],
   "source": [
    "%%time\n",
    "model = RandomForestClassifier(n_estimators=20, max_features=20, n_jobs=4).fit(X, y)"
   ]
  },
  {
   "cell_type": "code",
   "execution_count": 43,
   "metadata": {
    "collapsed": false
   },
   "outputs": [
    {
     "data": {
      "text/plain": [
       "[('hp_ratio', 0.11185796748013052),\n",
       " ('player_played_attack', 0.044728000367909859),\n",
       " ('player_hand_crystals_cost', 0.04462821992337497),\n",
       " ('player_hand_hp', 0.042297895579001057),\n",
       " ('player_hand_attack', 0.039748892422556512),\n",
       " ('opponent_played_attack', 0.038977181871451105),\n",
       " ('opponent_hero_card_id', 0.037699352513943352),\n",
       " ('opponent_hp', 0.032286591276282861),\n",
       " ('player_hero_card_id', 0.031870730551700185),\n",
       " ('deck_count_ratio', 0.03097995379678542),\n",
       " ('player_hp', 0.030310419086439132),\n",
       " ('player_played_hp_max', 0.02943447687136503),\n",
       " ('played_hp_max_ratio', 0.02880629283034495),\n",
       " ('opponent_hand_count', 0.02829567576788742),\n",
       " ('opponent_played_hp_max', 0.026481188085542423),\n",
       " ('played_attack_ratio', 0.025611248245196238),\n",
       " ('player_played_crystals_cost', 0.024598259991268419),\n",
       " ('played_crystals_cost_ratio', 0.022296816809190424),\n",
       " ('player_played_hp_current', 0.021562587517023508),\n",
       " ('opponent_played_hp_current', 0.020599630357881229),\n",
       " ('opponent_deck_count', 0.020482245919290931),\n",
       " ('crystals_current_ratio', 0.019534552123098469),\n",
       " ('opponent_crystals_current', 0.019336413226437719),\n",
       " ('player_deck_count', 0.018684072614941538),\n",
       " ('opponent_played_crystals_cost', 0.017833557842437134),\n",
       " ('player_hand_nOfPlayable', 0.016046030971944646),\n",
       " ('player_crystals_current', 0.015171110571129933),\n",
       " ('turn', 0.01505759147157509),\n",
       " ('player_hand_nOfMinions', 0.013930406173506146),\n",
       " ('player_hand_nOfSpells', 0.013041526292525848),\n",
       " ('player_hand_nOfCards', 0.0098161199555098534),\n",
       " ('player_hand_count', 0.0097983764150381854),\n",
       " ('opponent_crystals_all', 0.0096388854337869437),\n",
       " ('player_crystals_all', 0.0085370071089233314),\n",
       " ('player_armor', 0.0084043175470125998),\n",
       " ('opponent_armor', 0.0082777948130751088),\n",
       " ('player_played_nOfCards', 0.0071130908954822351),\n",
       " ('opponent_played_nOfCards', 0.0070086096273126617),\n",
       " ('player_played_minions_count', 0.0069421779706772806),\n",
       " ('opponent_played_minions_count', 0.0066693988440837525),\n",
       " ('player_attack', 0.0063098274148378044),\n",
       " ('player_hand_nOfWeapons', 0.0061863039496469884),\n",
       " ('opponent_weapon_durability', 0.0055616567935245559),\n",
       " ('player_weapon_durability', 0.0055049290478008314),\n",
       " ('opponent_attack', 0.0051300311611656973),\n",
       " ('player_special_skill_used', 0.0036552184077256211),\n",
       " ('opponent_special_skill_used', 0.0029511795580397576),\n",
       " ('opponent_fatigue_damage', 0.00019234127567763277),\n",
       " ('player_fatigue_damage', 0.00011384522851711771)]"
      ]
     },
     "execution_count": 43,
     "metadata": {},
     "output_type": "execute_result"
    }
   ],
   "source": [
    "features = {}\n",
    "columns = list(df_data.columns)\n",
    "for i in xrange(len(columns)):\n",
    "    features[columns[i]] = model.feature_importances_[i]\n",
    "    \n",
    "import operator\n",
    "sorted_features = sorted(features.items(), key=operator.itemgetter(1), reverse=True)\n",
    "sorted_features"
   ]
  },
  {
   "cell_type": "markdown",
   "metadata": {},
   "source": [
    "Остальные признаки-отношения не оказались такими важными"
   ]
  },
  {
   "cell_type": "markdown",
   "metadata": {},
   "source": [
    "<h4>Лог. регрессия c hp_ratio</h4>"
   ]
  },
  {
   "cell_type": "code",
   "execution_count": 29,
   "metadata": {
    "collapsed": false
   },
   "outputs": [
    {
     "data": {
      "text/plain": [
       "(500000, 56)"
      ]
     },
     "execution_count": 29,
     "metadata": {},
     "output_type": "execute_result"
    }
   ],
   "source": [
    "from sklearn.preprocessing import OneHotEncoder\n",
    "\n",
    "opponent = OneHotEncoder().fit_transform(df_data['opponent_hero_card_id'].values.reshape(-1, 1)).toarray().astype(int)\n",
    "player = OneHotEncoder().fit_transform(df_data['player_hero_card_id'].values.reshape(-1, 1)).toarray().astype(int)\n",
    "\n",
    "for i in xrange(len(opponent[0])):\n",
    "    df_data['opponent_hero_card_{}'.format(i)] = opponent[:,i]\n",
    "    df_data['player_hero_card_{}'.format(i)] = player[:,i]\n",
    "    \n",
    "df_data.drop(df_data[['opponent_hero_card_id', 'player_hero_card_id']], axis=1, inplace=True)\n",
    "df_data['hp_ratio'] = df_data['opponent_hp']/df_data['player_hp']\n",
    "\n",
    "#удаляем коррелирующие столбцы\n",
    "df_data.drop(df_data[['opponent_played_minions_count', 'player_played_minions_count', 'opponent_crystals_all',\n",
    "                      'player_hand_count']], axis=1, inplace=True)\n",
    "\n",
    "X = df_data.values\n",
    "X = scale(X, copy=False)\n",
    "X.shape"
   ]
  },
  {
   "cell_type": "code",
   "execution_count": 8,
   "metadata": {
    "collapsed": true
   },
   "outputs": [],
   "source": [
    "from sklearn.linear_model import LogisticRegression"
   ]
  },
  {
   "cell_type": "code",
   "execution_count": 30,
   "metadata": {
    "collapsed": false
   },
   "outputs": [
    {
     "name": "stdout",
     "output_type": "stream",
     "text": [
      "CPU times: user 15.4 s, sys: 84 ms, total: 15.5 s\n",
      "Wall time: 15.8 s\n"
     ]
    }
   ],
   "source": [
    "%%time\n",
    "model = LogisticRegression(C=1.0, warm_start=True).fit(X, y)"
   ]
  },
  {
   "cell_type": "markdown",
   "metadata": {},
   "source": [
    "Значения коэффициентов при признаках"
   ]
  },
  {
   "cell_type": "code",
   "execution_count": 31,
   "metadata": {
    "collapsed": false
   },
   "outputs": [
    {
     "data": {
      "text/plain": [
       "[('turn', 0.71963054664881043),\n",
       " ('player_played_attack', 0.66975908606520485),\n",
       " ('player_played_hp_current', 0.44456539280774715),\n",
       " ('player_hp', 0.43069434799388795),\n",
       " ('player_deck_count', 0.36801283549430014),\n",
       " ('player_hand_crystals_cost', 0.17799703942070297),\n",
       " ('player_hand_attack', 0.16947191488350263),\n",
       " ('player_played_hp_max', 0.15826924686366262),\n",
       " ('opponent_played_crystals_cost', 0.12987740642215967),\n",
       " ('player_hand_nOfMinions', 0.11861435549259676),\n",
       " ('player_crystals_current', 0.10044131651537838),\n",
       " ('opponent_deck_count', 0.082143964651214083),\n",
       " ('player_hero_card_6', 0.079213063783918167),\n",
       " ('opponent_special_skill_used', 0.063092207219067706),\n",
       " ('opponent_crystals_current', 0.062706535159715374),\n",
       " ('player_hero_card_5', 0.05691672486734297),\n",
       " ('player_hand_nOfCards', 0.055991684733843097),\n",
       " ('player_hand_hp', 0.051357078240713415),\n",
       " ('player_played_crystals_cost', 0.046785319504506408),\n",
       " ('opponent_hero_card_5', 0.045337715645480614),\n",
       " ('player_hero_card_1', 0.042266292539707012),\n",
       " ('opponent_fatigue_damage', 0.041441740205102565),\n",
       " ('opponent_hero_card_7', 0.038355331441365589),\n",
       " ('opponent_hero_card_8', 0.037908139813765319),\n",
       " ('player_attack', 0.037211069385063147),\n",
       " ('player_hand_nOfPlayable', 0.029403749858093835),\n",
       " ('opponent_hero_card_2', 0.027499998467392633),\n",
       " ('opponent_hero_card_0', 0.027225771827645514),\n",
       " ('opponent_weapon_durability', 0.020306468022176515),\n",
       " ('player_hero_card_3', 0.011199944945346594),\n",
       " ('player_hero_card_4', 0.010741458328036651),\n",
       " ('opponent_played_nOfCards', 0.0084950024685678457),\n",
       " ('player_weapon_durability', 0.00093181393999957468),\n",
       " ('opponent_armor', -0.0057313538547802091),\n",
       " ('player_armor', -0.0069213711563827938),\n",
       " ('player_hero_card_8', -0.01336717208260985),\n",
       " ('opponent_hero_card_3', -0.019086182234591593),\n",
       " ('opponent_hero_card_1', -0.034944908590949536),\n",
       " ('player_hero_card_2', -0.036006989043890526),\n",
       " ('player_hand_nOfSpells', -0.042073987302645138),\n",
       " ('opponent_hero_card_4', -0.05298827104314862),\n",
       " ('player_special_skill_used', -0.053772658613691522),\n",
       " ('opponent_attack', -0.054407445499108878),\n",
       " ('player_hero_card_7', -0.056569489418951492),\n",
       " ('player_fatigue_damage', -0.06124944915148281),\n",
       " ('opponent_hero_card_6', -0.064832800812100105),\n",
       " ('player_hero_card_0', -0.091853543002214377),\n",
       " ('player_hand_nOfWeapons', -0.10448961926010528),\n",
       " ('player_played_nOfCards', -0.12977532602716843),\n",
       " ('opponent_played_hp_max', -0.22423154049809232),\n",
       " ('hp_ratio', -0.35234728379750957),\n",
       " ('opponent_hand_count', -0.36849710353707393),\n",
       " ('opponent_played_hp_current', -0.40701875990136599),\n",
       " ('player_crystals_all', -0.42333586678569651),\n",
       " ('opponent_played_attack', -0.54545261831857972),\n",
       " ('opponent_hp', -0.56040075381328702)]"
      ]
     },
     "execution_count": 31,
     "metadata": {},
     "output_type": "execute_result"
    }
   ],
   "source": [
    "features = {}\n",
    "columns = list(df_data.columns)\n",
    "for i in xrange(len(columns)):\n",
    "    features[columns[i]] = model.coef_[0, i]\n",
    "    \n",
    "import operator\n",
    "sorted_features = sorted(features.items(), key=operator.itemgetter(1), reverse=True)\n",
    "sorted_features"
   ]
  },
  {
   "cell_type": "markdown",
   "metadata": {},
   "source": [
    "То же самое, но отстортированное по модулю"
   ]
  },
  {
   "cell_type": "code",
   "execution_count": 32,
   "metadata": {
    "collapsed": false
   },
   "outputs": [
    {
     "data": {
      "text/plain": [
       "[('turn', 0.71963054664881043),\n",
       " ('player_played_attack', 0.66975908606520485),\n",
       " ('opponent_hp', 0.56040075381328702),\n",
       " ('opponent_played_attack', 0.54545261831857972),\n",
       " ('player_played_hp_current', 0.44456539280774715),\n",
       " ('player_hp', 0.43069434799388795),\n",
       " ('player_crystals_all', 0.42333586678569651),\n",
       " ('opponent_played_hp_current', 0.40701875990136599),\n",
       " ('opponent_hand_count', 0.36849710353707393),\n",
       " ('player_deck_count', 0.36801283549430014),\n",
       " ('hp_ratio', 0.35234728379750957),\n",
       " ('opponent_played_hp_max', 0.22423154049809232),\n",
       " ('player_hand_crystals_cost', 0.17799703942070297),\n",
       " ('player_hand_attack', 0.16947191488350263),\n",
       " ('player_played_hp_max', 0.15826924686366262),\n",
       " ('opponent_played_crystals_cost', 0.12987740642215967),\n",
       " ('player_played_nOfCards', 0.12977532602716843),\n",
       " ('player_hand_nOfMinions', 0.11861435549259676),\n",
       " ('player_hand_nOfWeapons', 0.10448961926010528),\n",
       " ('player_crystals_current', 0.10044131651537838),\n",
       " ('player_hero_card_0', 0.091853543002214377),\n",
       " ('opponent_deck_count', 0.082143964651214083),\n",
       " ('player_hero_card_6', 0.079213063783918167),\n",
       " ('opponent_hero_card_6', 0.064832800812100105),\n",
       " ('opponent_special_skill_used', 0.063092207219067706),\n",
       " ('opponent_crystals_current', 0.062706535159715374),\n",
       " ('player_fatigue_damage', 0.06124944915148281),\n",
       " ('player_hero_card_5', 0.05691672486734297),\n",
       " ('player_hero_card_7', 0.056569489418951492),\n",
       " ('player_hand_nOfCards', 0.055991684733843097),\n",
       " ('opponent_attack', 0.054407445499108878),\n",
       " ('player_special_skill_used', 0.053772658613691522),\n",
       " ('opponent_hero_card_4', 0.05298827104314862),\n",
       " ('player_hand_hp', 0.051357078240713415),\n",
       " ('player_played_crystals_cost', 0.046785319504506408),\n",
       " ('opponent_hero_card_5', 0.045337715645480614),\n",
       " ('player_hero_card_1', 0.042266292539707012),\n",
       " ('player_hand_nOfSpells', 0.042073987302645138),\n",
       " ('opponent_fatigue_damage', 0.041441740205102565),\n",
       " ('opponent_hero_card_7', 0.038355331441365589),\n",
       " ('opponent_hero_card_8', 0.037908139813765319),\n",
       " ('player_attack', 0.037211069385063147),\n",
       " ('player_hero_card_2', 0.036006989043890526),\n",
       " ('opponent_hero_card_1', 0.034944908590949536),\n",
       " ('player_hand_nOfPlayable', 0.029403749858093835),\n",
       " ('opponent_hero_card_2', 0.027499998467392633),\n",
       " ('opponent_hero_card_0', 0.027225771827645514),\n",
       " ('opponent_weapon_durability', 0.020306468022176515),\n",
       " ('opponent_hero_card_3', 0.019086182234591593),\n",
       " ('player_hero_card_8', 0.01336717208260985),\n",
       " ('player_hero_card_3', 0.011199944945346594),\n",
       " ('player_hero_card_4', 0.010741458328036651),\n",
       " ('opponent_played_nOfCards', 0.0084950024685678457),\n",
       " ('player_armor', 0.0069213711563827938),\n",
       " ('opponent_armor', 0.0057313538547802091),\n",
       " ('player_weapon_durability', 0.00093181393999957468)]"
      ]
     },
     "execution_count": 32,
     "metadata": {},
     "output_type": "execute_result"
    }
   ],
   "source": [
    "features = {}\n",
    "columns = list(df_data.columns)\n",
    "for i in xrange(len(columns)):\n",
    "    features[columns[i]] = abs(model.coef_[0, i])\n",
    "    \n",
    "import operator\n",
    "sorted_features = sorted(features.items(), key=operator.itemgetter(1), reverse=True)\n",
    "sorted_features"
   ]
  },
  {
   "cell_type": "code",
   "execution_count": 33,
   "metadata": {
    "collapsed": false
   },
   "outputs": [
    {
     "data": {
      "text/plain": [
       "(750000, 56)"
      ]
     },
     "execution_count": 33,
     "metadata": {},
     "output_type": "execute_result"
    }
   ],
   "source": [
    "filepath = '/media/ivan/Acer/Ivan/sphere/Hearthstone/testData_tabular.csv'\n",
    "df_test = pd.read_csv(filepath, sep=',')\n",
    "\n",
    "df_test.columns = df_test.columns.str.replace('.', '_')\n",
    "df_test = df_test.set_index('gamestate_id')\n",
    "\n",
    "df_test.drop(df_test[['decision']], axis=1, inplace=True)\n",
    "\n",
    "opponent = OneHotEncoder().fit_transform(df_test['opponent_hero_card_id'].values.reshape(-1, 1)).toarray().astype(int)\n",
    "player = OneHotEncoder().fit_transform(df_test['player_hero_card_id'].values.reshape(-1, 1)).toarray().astype(int)\n",
    "\n",
    "for i in xrange(len(opponent[0])):\n",
    "    df_test['opponent_hero_card_{}'.format(i)] = opponent[:,i]\n",
    "    df_test['player_hero_card_{}'.format(i)] = player[:,i]\n",
    "\n",
    "#удаляем коррелирующие столбцы\n",
    "df_test.drop(df_test[['opponent_played_minions_count', 'player_played_minions_count', 'opponent_crystals_all',\n",
    "                      'player_hand_count']], axis=1, inplace=True)\n",
    "    \n",
    "df_test.drop(df_test[['opponent_hero_card_id', 'player_hero_card_id']], axis=1, inplace=True)\n",
    "df_test['hp_ratio'] = df_test['opponent_hp']/df_test['player_hp']\n",
    "X_test = df_test.values\n",
    "X_test = scale(X_test, copy=False)\n",
    "X_test.shape"
   ]
  },
  {
   "cell_type": "markdown",
   "metadata": {},
   "source": [
    "<h4>Лес с hp_ratio</h4>"
   ]
  },
  {
   "cell_type": "code",
   "execution_count": 44,
   "metadata": {
    "collapsed": false
   },
   "outputs": [
    {
     "data": {
      "text/plain": [
       "(500000L, 40L)"
      ]
     },
     "execution_count": 44,
     "metadata": {},
     "output_type": "execute_result"
    }
   ],
   "source": [
    "df_data['hp_ratio'] = df_data['opponent_hp']/df_data['player_hp']\n",
    "\n",
    "#удаляем коррелирующие столбцы\n",
    "df_data.drop(df_data[['opponent_played_minions_count', 'player_played_minions_count', 'opponent_crystals_all',\n",
    "                      'player_hand_count']], axis=1, inplace=True)\n",
    "\n",
    "X = df_data.values\n",
    "X.shape"
   ]
  },
  {
   "cell_type": "code",
   "execution_count": 45,
   "metadata": {
    "collapsed": true
   },
   "outputs": [],
   "source": [
    "from sklearn.ensemble import RandomForestClassifier"
   ]
  },
  {
   "cell_type": "code",
   "execution_count": 46,
   "metadata": {
    "collapsed": false
   },
   "outputs": [
    {
     "name": "stdout",
     "output_type": "stream",
     "text": [
      "Wall time: 4min 11s\n"
     ]
    }
   ],
   "source": [
    "%%time\n",
    "model = RandomForestClassifier(n_estimators=100, max_features=13, n_jobs=4).fit(X, y)"
   ]
  },
  {
   "cell_type": "code",
   "execution_count": 11,
   "metadata": {
    "collapsed": false
   },
   "outputs": [
    {
     "name": "stdout",
     "output_type": "stream",
     "text": [
      "(500000L, 40L) (500000L,)\n",
      "0.928857734092 0.000877665001526\n"
     ]
    }
   ],
   "source": [
    "score_on_model(model, X, y)"
   ]
  },
  {
   "cell_type": "markdown",
   "metadata": {},
   "source": [
    "Сохраним обученное дерево в файл"
   ]
  },
  {
   "cell_type": "code",
   "execution_count": null,
   "metadata": {
    "collapsed": false
   },
   "outputs": [],
   "source": [
    "import pickle\n",
    "filepath = '/media/ivan/Acer/Ivan/sphere/Hearthstone/models/'\n",
    "f = open(filepath + 'tree_model1.pickle', 'wb')\n",
    "pickle.dump(model, f)"
   ]
  },
  {
   "cell_type": "markdown",
   "metadata": {},
   "source": [
    "Загрузим модель из файла"
   ]
  },
  {
   "cell_type": "code",
   "execution_count": 2,
   "metadata": {
    "collapsed": false
   },
   "outputs": [
    {
     "ename": "ValueError",
     "evalue": "insecure string pickle",
     "output_type": "error",
     "traceback": [
      "\u001b[0;31m---------------------------------------------------------------------------\u001b[0m",
      "\u001b[0;31mValueError\u001b[0m                                Traceback (most recent call last)",
      "\u001b[0;32m<ipython-input-2-c68070b3361f>\u001b[0m in \u001b[0;36m<module>\u001b[0;34m()\u001b[0m\n\u001b[1;32m      2\u001b[0m \u001b[0mfilepath\u001b[0m \u001b[0;34m=\u001b[0m \u001b[0;34m'/media/ivan/Acer/Ivan/sphere/Hearthstone/models/'\u001b[0m\u001b[0;34m\u001b[0m\u001b[0m\n\u001b[1;32m      3\u001b[0m \u001b[0mf\u001b[0m \u001b[0;34m=\u001b[0m \u001b[0mopen\u001b[0m\u001b[0;34m(\u001b[0m\u001b[0mfilepath\u001b[0m \u001b[0;34m+\u001b[0m \u001b[0;34m'tree_model1.pickle'\u001b[0m\u001b[0;34m,\u001b[0m \u001b[0;34m'rb'\u001b[0m\u001b[0;34m)\u001b[0m\u001b[0;34m\u001b[0m\u001b[0m\n\u001b[0;32m----> 4\u001b[0;31m \u001b[0mmodel\u001b[0m \u001b[0;34m=\u001b[0m \u001b[0mpickle\u001b[0m\u001b[0;34m.\u001b[0m\u001b[0mload\u001b[0m\u001b[0;34m(\u001b[0m\u001b[0mf\u001b[0m\u001b[0;34m)\u001b[0m\u001b[0;34m\u001b[0m\u001b[0m\n\u001b[0m",
      "\u001b[0;32m/home/ivan/anaconda2/lib/python2.7/pickle.pyc\u001b[0m in \u001b[0;36mload\u001b[0;34m(file)\u001b[0m\n\u001b[1;32m   1382\u001b[0m \u001b[0;34m\u001b[0m\u001b[0m\n\u001b[1;32m   1383\u001b[0m \u001b[0;32mdef\u001b[0m \u001b[0mload\u001b[0m\u001b[0;34m(\u001b[0m\u001b[0mfile\u001b[0m\u001b[0;34m)\u001b[0m\u001b[0;34m:\u001b[0m\u001b[0;34m\u001b[0m\u001b[0m\n\u001b[0;32m-> 1384\u001b[0;31m     \u001b[0;32mreturn\u001b[0m \u001b[0mUnpickler\u001b[0m\u001b[0;34m(\u001b[0m\u001b[0mfile\u001b[0m\u001b[0;34m)\u001b[0m\u001b[0;34m.\u001b[0m\u001b[0mload\u001b[0m\u001b[0;34m(\u001b[0m\u001b[0;34m)\u001b[0m\u001b[0;34m\u001b[0m\u001b[0m\n\u001b[0m\u001b[1;32m   1385\u001b[0m \u001b[0;34m\u001b[0m\u001b[0m\n\u001b[1;32m   1386\u001b[0m \u001b[0;32mdef\u001b[0m \u001b[0mloads\u001b[0m\u001b[0;34m(\u001b[0m\u001b[0mstr\u001b[0m\u001b[0;34m)\u001b[0m\u001b[0;34m:\u001b[0m\u001b[0;34m\u001b[0m\u001b[0m\n",
      "\u001b[0;32m/home/ivan/anaconda2/lib/python2.7/pickle.pyc\u001b[0m in \u001b[0;36mload\u001b[0;34m(self)\u001b[0m\n\u001b[1;32m    862\u001b[0m             \u001b[0;32mwhile\u001b[0m \u001b[0;36m1\u001b[0m\u001b[0;34m:\u001b[0m\u001b[0;34m\u001b[0m\u001b[0m\n\u001b[1;32m    863\u001b[0m                 \u001b[0mkey\u001b[0m \u001b[0;34m=\u001b[0m \u001b[0mread\u001b[0m\u001b[0;34m(\u001b[0m\u001b[0;36m1\u001b[0m\u001b[0;34m)\u001b[0m\u001b[0;34m\u001b[0m\u001b[0m\n\u001b[0;32m--> 864\u001b[0;31m                 \u001b[0mdispatch\u001b[0m\u001b[0;34m[\u001b[0m\u001b[0mkey\u001b[0m\u001b[0;34m]\u001b[0m\u001b[0;34m(\u001b[0m\u001b[0mself\u001b[0m\u001b[0;34m)\u001b[0m\u001b[0;34m\u001b[0m\u001b[0m\n\u001b[0m\u001b[1;32m    865\u001b[0m         \u001b[0;32mexcept\u001b[0m \u001b[0m_Stop\u001b[0m\u001b[0;34m,\u001b[0m \u001b[0mstopinst\u001b[0m\u001b[0;34m:\u001b[0m\u001b[0;34m\u001b[0m\u001b[0m\n\u001b[1;32m    866\u001b[0m             \u001b[0;32mreturn\u001b[0m \u001b[0mstopinst\u001b[0m\u001b[0;34m.\u001b[0m\u001b[0mvalue\u001b[0m\u001b[0;34m\u001b[0m\u001b[0m\n",
      "\u001b[0;32m/home/ivan/anaconda2/lib/python2.7/pickle.pyc\u001b[0m in \u001b[0;36mload_string\u001b[0;34m(self)\u001b[0m\n\u001b[1;32m    970\u001b[0m             \u001b[0;32mif\u001b[0m \u001b[0mrep\u001b[0m\u001b[0;34m.\u001b[0m\u001b[0mstartswith\u001b[0m\u001b[0;34m(\u001b[0m\u001b[0mq\u001b[0m\u001b[0;34m)\u001b[0m\u001b[0;34m:\u001b[0m\u001b[0;34m\u001b[0m\u001b[0m\n\u001b[1;32m    971\u001b[0m                 \u001b[0;32mif\u001b[0m \u001b[0mlen\u001b[0m\u001b[0;34m(\u001b[0m\u001b[0mrep\u001b[0m\u001b[0;34m)\u001b[0m \u001b[0;34m<\u001b[0m \u001b[0;36m2\u001b[0m \u001b[0;32mor\u001b[0m \u001b[0;32mnot\u001b[0m \u001b[0mrep\u001b[0m\u001b[0;34m.\u001b[0m\u001b[0mendswith\u001b[0m\u001b[0;34m(\u001b[0m\u001b[0mq\u001b[0m\u001b[0;34m)\u001b[0m\u001b[0;34m:\u001b[0m\u001b[0;34m\u001b[0m\u001b[0m\n\u001b[0;32m--> 972\u001b[0;31m                     \u001b[0;32mraise\u001b[0m \u001b[0mValueError\u001b[0m\u001b[0;34m,\u001b[0m \u001b[0;34m\"insecure string pickle\"\u001b[0m\u001b[0;34m\u001b[0m\u001b[0m\n\u001b[0m\u001b[1;32m    973\u001b[0m                 \u001b[0mrep\u001b[0m \u001b[0;34m=\u001b[0m \u001b[0mrep\u001b[0m\u001b[0;34m[\u001b[0m\u001b[0mlen\u001b[0m\u001b[0;34m(\u001b[0m\u001b[0mq\u001b[0m\u001b[0;34m)\u001b[0m\u001b[0;34m:\u001b[0m\u001b[0;34m-\u001b[0m\u001b[0mlen\u001b[0m\u001b[0;34m(\u001b[0m\u001b[0mq\u001b[0m\u001b[0;34m)\u001b[0m\u001b[0;34m]\u001b[0m\u001b[0;34m\u001b[0m\u001b[0m\n\u001b[1;32m    974\u001b[0m                 \u001b[0;32mbreak\u001b[0m\u001b[0;34m\u001b[0m\u001b[0m\n",
      "\u001b[0;31mValueError\u001b[0m: insecure string pickle"
     ]
    }
   ],
   "source": [
    "import pickle\n",
    "filepath = '/media/ivan/Acer/Ivan/sphere/Hearthstone/models/'\n",
    "f = open(filepath + 'tree_model1.pickle', 'rb')\n",
    "model = pickle.load(f)"
   ]
  },
  {
   "cell_type": "markdown",
   "metadata": {},
   "source": [
    "Тестовые данные, для экономии памяти пишем в те же переменные"
   ]
  },
  {
   "cell_type": "code",
   "execution_count": 47,
   "metadata": {
    "collapsed": false
   },
   "outputs": [
    {
     "data": {
      "text/plain": [
       "(750000L, 40L)"
      ]
     },
     "execution_count": 47,
     "metadata": {},
     "output_type": "execute_result"
    }
   ],
   "source": [
    "#filepath = '/media/ivan/Acer/Ivan/sphere/Hearthstone/testData_tabular.csv'\n",
    "filepath = 'C:\\Ivan\\sphere\\Hearthstone\\\\testData_tabular.csv'\n",
    "df_test = pd.read_csv(filepath, sep=',')\n",
    "\n",
    "df_test.columns = df_test.columns.str.replace('.', '_')\n",
    "df_test = df_test.set_index('gamestate_id')\n",
    "\n",
    "df_test.drop(df_test[['decision']], axis=1, inplace=True)\n",
    "df_test['hp_ratio'] = df_test['opponent_hp']/df_test['player_hp']\n",
    "\n",
    "#удаляем коррелирующие столбцы\n",
    "df_test.drop(df_test[['opponent_played_minions_count', 'player_played_minions_count', 'opponent_crystals_all',\n",
    "                      'player_hand_count']], axis=1, inplace=True)\n",
    "\n",
    "X_test = df_test.values\n",
    "X_test.shape"
   ]
  },
  {
   "cell_type": "markdown",
   "metadata": {},
   "source": [
    "<h2>Тестовые данные</h2>"
   ]
  },
  {
   "cell_type": "code",
   "execution_count": 46,
   "metadata": {
    "collapsed": true
   },
   "outputs": [],
   "source": [
    "filepath = '/media/ivan/Acer/Ivan/sphere/Hearthstone/testData_tabular.csv'\n",
    "df_test = pd.read_csv(filepath, sep=',')\n",
    "\n",
    "df_test.columns = df_test.columns.str.replace('.', '_')\n",
    "df_test = df_test.set_index('gamestate_id')\n",
    "\n",
    "df_test.drop(df_test[['decision']], axis=1, inplace=True)"
   ]
  },
  {
   "cell_type": "code",
   "execution_count": null,
   "metadata": {
    "collapsed": true
   },
   "outputs": [],
   "source": [
    "opponent = OneHotEncoder().fit_transform(df_test['opponent_hero_card_id'].values.reshape(-1, 1)).toarray().astype(int)\n",
    "player = OneHotEncoder().fit_transform(df_test['player_hero_card_id'].values.reshape(-1, 1)).toarray().astype(int)\n",
    "\n",
    "for i in xrange(len(opponent[0])):\n",
    "    df_test['opponent_hero_card_{}'.format(i)] = opponent[:,i]\n",
    "    df_test['player_hero_card_{}'.format(i)] = player[:,i]\n",
    "    \n",
    "df_test.drop(df_test[['opponent_hero_card_id', 'player_hero_card_id']], axis=1, inplace=True)"
   ]
  },
  {
   "cell_type": "code",
   "execution_count": null,
   "metadata": {
    "collapsed": true
   },
   "outputs": [],
   "source": [
    "X_test = df_test.values\n",
    "X_test.shape"
   ]
  },
  {
   "cell_type": "code",
   "execution_count": null,
   "metadata": {
    "collapsed": true
   },
   "outputs": [],
   "source": [
    "X_test = scale(X_test, copy=False)"
   ]
  },
  {
   "cell_type": "markdown",
   "metadata": {},
   "source": [
    "<h2>Применение модели</h2>"
   ]
  },
  {
   "cell_type": "code",
   "execution_count": 48,
   "metadata": {
    "collapsed": false
   },
   "outputs": [
    {
     "name": "stdout",
     "output_type": "stream",
     "text": [
      "Wall time: 20.2 s\n"
     ]
    }
   ],
   "source": [
    "%%time\n",
    "scores = model.predict_proba(X_test)\n",
    "scores.shape"
   ]
  },
  {
   "cell_type": "markdown",
   "metadata": {},
   "source": [
    "<h2>Комбинация моделей</h2>"
   ]
  },
  {
   "cell_type": "code",
   "execution_count": 2,
   "metadata": {
    "collapsed": false
   },
   "outputs": [
    {
     "data": {
      "text/plain": [
       "(750000, 1)"
      ]
     },
     "execution_count": 2,
     "metadata": {},
     "output_type": "execute_result"
    }
   ],
   "source": [
    "filepath = '/media/ivan/Acer/Ivan/sphere/Hearthstone/'\n",
    "df1 = pd.read_csv(filepath+'hearthstone_1.txt', header=None)\n",
    "df2 = pd.read_csv(filepath+'hearthstone_2.txt', header=None)\n",
    "df3 = pd.read_csv(filepath+'hearthstone_3.txt', header=None)\n",
    "df4 = pd.read_csv(filepath+'hearthstone_4.txt', header=None)\n",
    "\n",
    "df1 = (df1 + df2 + df3 + df4)/4\n",
    "scores = df1.values\n",
    "scores.shape"
   ]
  },
  {
   "cell_type": "markdown",
   "metadata": {},
   "source": [
    "<h2>Запись результатов в файл:</h2>"
   ]
  },
  {
   "cell_type": "code",
   "execution_count": 49,
   "metadata": {
    "collapsed": false
   },
   "outputs": [],
   "source": [
    "#f = open('/media/ivan/Acer/Ivan/sphere/Hearthstone/hearthstone.txt', 'w')\n",
    "f = open('C:\\Ivan\\sphere\\Hearthstone\\hearthstone.txt', 'w')\n",
    "s = ''\n",
    "for i in xrange(len(scores)):\n",
    "    s += str(scores[i, 1]) + '\\n'\n",
    "f.write(s)\n",
    "f.close()"
   ]
  },
  {
   "cell_type": "code",
   "execution_count": 12,
   "metadata": {
    "collapsed": true
   },
   "outputs": [],
   "source": [
    "f = open('/media/ivan/Acer/Ivan/sphere/Hearthstone/hearthstone.txt', 'w')\n",
    "for i in xrange(len(scores)):\n",
    "    f.write(str(scores[i, 1]) + '\\n')\n",
    "f.close()"
   ]
  },
  {
   "cell_type": "markdown",
   "metadata": {},
   "source": [
    "<h2>Итоговые результаты</h2>"
   ]
  },
  {
   "cell_type": "markdown",
   "metadata": {},
   "source": [
    "* Усреднение леса (0.7867) и лог. регрессии (0.7896) с hp_ratio и без корр. признаков<br>0.7924<br><br>\n",
    "* Усреднение леса и лог. регрессии с нормализацией<br>0.7914<br><br>\n",
    "* Усреднение трех моделей: леса, лог. регрессии с и без нормализацией<br>0.7910<br><br>\n",
    "* Усреднение леса и лог. регрессии без нормализации<br>0.7905<br><br>\n",
    "* Лог. регрессия с дообучением на полной выборке<br>0.7896<br><br>\n",
    "* Лог. регрессия с дообучением на полной выборке и удалением коррелирующих признаков<br>0.7895<br><br>\n",
    "* Лог. регрессия с нормализацией<br>0.7880<br><br>\n",
    "* Лог. регрессия без нормализации<br>0.7876<br><br>\n",
    "* Лес, 100 деревьев c hp_ratio и без корр. признаков<br>0.7867<br><br>\n",
    "* Лог. регрессия с отбором самых важных признаков<br>0.7860<br><br>\n",
    "* Лес, 100 деревьев<br>0.7824<br><br>\n",
    "* Лог. регрессия c PCA для уменьшения размерности<br>0.7551<br><br>"
   ]
  }
 ],
 "metadata": {
  "anaconda-cloud": {},
  "kernelspec": {
   "display_name": "Python 2",
   "language": "python",
   "name": "python2"
  },
  "language_info": {
   "codemirror_mode": {
    "name": "ipython",
    "version": 2
   },
   "file_extension": ".py",
   "mimetype": "text/x-python",
   "name": "python",
   "nbconvert_exporter": "python",
   "pygments_lexer": "ipython2",
   "version": "2.7.13"
  },
  "nav_menu": {},
  "toc": {
   "navigate_menu": true,
   "number_sections": false,
   "sideBar": true,
   "threshold": 6,
   "toc_cell": false,
   "toc_section_display": "block",
   "toc_window_display": true
  }
 },
 "nbformat": 4,
 "nbformat_minor": 2
}
